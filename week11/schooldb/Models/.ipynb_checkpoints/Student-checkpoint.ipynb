{
 "cells": [
  {
   "cell_type": "code",
   "execution_count": 7,
   "metadata": {},
   "outputs": [],
   "source": [
    "class Student:\n",
    "    def __init__(self, _id, studentNo, firstName, lastName, gender, classId):\n",
    "        if _id is None:\n",
    "            self.id = 0\n",
    "        else:\n",
    "            self.id = _id\n",
    "        \n",
    "        self.studentNo = studentNo\n",
    "        self.firstName = firstName\n",
    "        self.lastName = lastName\n",
    "        self.gender = gender\n",
    "        self.classId = classId\n",
    "        \n",
    "    @staticmethod    \n",
    "    def CreateStudent(obj):\n",
    "        result = []\n",
    "        if isinstance(obj, tuple): # tek bir sonuç geldiyse\n",
    "            stu = Student(obj[0], obj[1], obj[2], obj[3], obj[4], obj[5])\n",
    "            result.append(stu)\n",
    "        elif isinstance(obj, list):\n",
    "            for tpl in obj:\n",
    "                stu = Student(tpl[0], tpl[1], tpl[2], tpl[3], tpl[4], tpl[5])\n",
    "                result.append(stu)\n",
    "                \n",
    "        return result"
   ]
  }
 ],
 "metadata": {
  "kernelspec": {
   "display_name": "Python 3",
   "language": "python",
   "name": "python3"
  },
  "language_info": {
   "codemirror_mode": {
    "name": "ipython",
    "version": 3
   },
   "file_extension": ".py",
   "mimetype": "text/x-python",
   "name": "python",
   "nbconvert_exporter": "python",
   "pygments_lexer": "ipython3",
   "version": "3.9.0"
  }
 },
 "nbformat": 4,
 "nbformat_minor": 4
}

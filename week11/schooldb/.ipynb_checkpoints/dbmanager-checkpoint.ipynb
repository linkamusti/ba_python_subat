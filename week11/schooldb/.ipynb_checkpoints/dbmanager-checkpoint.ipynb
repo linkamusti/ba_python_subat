{
 "cells": [
  {
   "cell_type": "code",
   "execution_count": 4,
   "metadata": {},
   "outputs": [
    {
     "name": "stdout",
     "output_type": "stream",
     "text": [
      "Collecting import_ipynb\n",
      "  Downloading import-ipynb-0.1.3.tar.gz (4.0 kB)\n",
      "Using legacy 'setup.py install' for import-ipynb, since package 'wheel' is not installed.\n",
      "Installing collected packages: import-ipynb\n",
      "    Running setup.py install for import-ipynb ... \u001b[?25ldone\n",
      "\u001b[?25hSuccessfully installed import-ipynb-0.1.3\n",
      "\u001b[33mWARNING: You are using pip version 21.0.1; however, version 21.1.1 is available.\n",
      "You should consider upgrading via the '/Library/Frameworks/Python.framework/Versions/3.9/bin/python3.9 -m pip install --upgrade pip' command.\u001b[0m\n",
      "Note: you may need to restart the kernel to use updated packages.\n"
     ]
    }
   ],
   "source": [
    "pip install import_ipynb\n",
    "# jupyter notebooklarını importlamak için"
   ]
  },
  {
   "cell_type": "code",
   "execution_count": 20,
   "metadata": {},
   "outputs": [],
   "source": [
    "import import_ipynb # jupyter notebooklarını importlamak için\n",
    "\n",
    "from connection import connection # aynı klasördeki \"connection\" isimli python kodundan \n",
    "                                  #connection değişkenini importluyoruz\n",
    "    \n",
    "class DBManager:\n",
    "    def __init__(self):\n",
    "        self.connection = connection\n",
    "        self.cursor = self.connection.cursor()\n",
    "    def executeSQL(self, query):\n",
    "        self.cursor.execute(query)\n",
    "        try:\n",
    "            self.connection.commit()\n",
    "        except err:\n",
    "            print(err)\n",
    "    \n",
    "    def insertStudent(self, stu):\n",
    "        sql = \"\"\"INSERT INTO Student (ID, StudentNo, FirstName, LastName, Gender, ClassId) \n",
    "        VALUES({}, '{}', '{}', '{}', '{}', '{}', '{}') \"\"\".format(stu.id, stu.studentNo, stu.firstName, stu.lastName, stu.gender, stu.classId)\n",
    "        self.executeSQL(sql)\n",
    "        \n",
    "    def listAllStudents(self):\n",
    "        sql = \"SELECT * FROM Student\"\n",
    "        self.executeSQL(sql)\n",
    "        "
   ]
  },
  {
   "cell_type": "code",
   "execution_count": 11,
   "metadata": {},
   "outputs": [],
   "source": [
    "dbManager = DBManager()\n",
    "\n",
    "dbManager.executeSQL(\"\"\"\n",
    "    CREATE TABLE Student(\n",
    "        ID INT NOT NULL PRIMARY KEY,\n",
    "        StudentNo VARCHAR(5),\n",
    "        FirstName VARCHAR(45) NOT NULL,\n",
    "        LastName VARCHAR(45) NOT NULL,\n",
    "        Gender CHAR(1),\n",
    "        ClassId VARCHAR(5)\n",
    "    )\"\"\")\n",
    "\n",
    "\n"
   ]
  },
  {
   "cell_type": "code",
   "execution_count": 25,
   "metadata": {},
   "outputs": [
    {
     "name": "stdout",
     "output_type": "stream",
     "text": [
      "Öğrenci idsi girin: 0\n",
      "Öğrenci numarası girin:303\n",
      "Öğrencinin ismini girin:Mustafa\n",
      "Öğrencinin soyismini girin:Taş\n",
      "Öğrencinin cinsiyetini girin (E/K):E\n",
      "Öğrencinin sınıf idsini girin:3\n"
     ]
    },
    {
     "ename": "TypeError",
     "evalue": "insertStudent() takes 1 positional argument but 2 were given",
     "output_type": "error",
     "traceback": [
      "\u001b[0;31m---------------------------------------------------------------------------\u001b[0m",
      "\u001b[0;31mTypeError\u001b[0m                                 Traceback (most recent call last)",
      "\u001b[0;32m<ipython-input-25-89d21f84cafb>\u001b[0m in \u001b[0;36m<module>\u001b[0;34m\u001b[0m\n\u001b[1;32m     10\u001b[0m \u001b[0;34m\u001b[0m\u001b[0m\n\u001b[1;32m     11\u001b[0m     \u001b[0mogrenci\u001b[0m \u001b[0;34m=\u001b[0m \u001b[0mStudent\u001b[0m\u001b[0;34m.\u001b[0m\u001b[0mCreateStudent\u001b[0m\u001b[0;34m(\u001b[0m \u001b[0;34m(\u001b[0m\u001b[0m_id\u001b[0m\u001b[0;34m,\u001b[0m \u001b[0mstudentNo\u001b[0m\u001b[0;34m,\u001b[0m \u001b[0mfirstName\u001b[0m\u001b[0;34m,\u001b[0m \u001b[0mlastName\u001b[0m\u001b[0;34m,\u001b[0m \u001b[0mgender\u001b[0m\u001b[0;34m,\u001b[0m \u001b[0mclassId\u001b[0m\u001b[0;34m)\u001b[0m\u001b[0;34m)\u001b[0m\u001b[0;34m\u001b[0m\u001b[0;34m\u001b[0m\u001b[0m\n\u001b[0;32m---> 12\u001b[0;31m     \u001b[0mdbManager\u001b[0m\u001b[0;34m.\u001b[0m\u001b[0minsertStudent\u001b[0m\u001b[0;34m(\u001b[0m\u001b[0mogrenci\u001b[0m\u001b[0;34m)\u001b[0m\u001b[0;34m\u001b[0m\u001b[0;34m\u001b[0m\u001b[0m\n\u001b[0m",
      "\u001b[0;31mTypeError\u001b[0m: insertStudent() takes 1 positional argument but 2 were given"
     ]
    }
   ],
   "source": [
    "from Models.Student import Student\n",
    "\n",
    "dbManager = DBManager()\n",
    "\n",
    "for i in range(2):\n",
    "    _id = int(input(\"Öğrenci idsi girin: \"))\n",
    "    studentNo = input('Öğrenci numarası girin:')\n",
    "    firstName = input('Öğrencinin ismini girin:')   \n",
    "    lastName = input('Öğrencinin soyismini girin:')\n",
    "    gender = input('Öğrencinin cinsiyetini girin (E/K):')\n",
    "    classId = input('Öğrencinin sınıf idsini girin:')    \n",
    "    \n",
    "    ogrenci = Student.CreateStudent( (_id, studentNo, firstName, lastName, gender, classId))\n",
    "    dbManager.insertStudent(ogrenci)"
   ]
  }
 ],
 "metadata": {
  "kernelspec": {
   "display_name": "Python 3",
   "language": "python",
   "name": "python3"
  },
  "language_info": {
   "codemirror_mode": {
    "name": "ipython",
    "version": 3
   },
   "file_extension": ".py",
   "mimetype": "text/x-python",
   "name": "python",
   "nbconvert_exporter": "python",
   "pygments_lexer": "ipython3",
   "version": "3.9.0"
  }
 },
 "nbformat": 4,
 "nbformat_minor": 4
}

{
 "cells": [
  {
   "cell_type": "code",
   "execution_count": 4,
   "metadata": {},
   "outputs": [],
   "source": [
    "import sqlite3\n",
    "\n",
    "connection = sqlite3.connect(\"bilgeadam.db\") # bilgeadam.db diye bir dosya yoksa oluşturuyor. Varsa database olarak o dosyayı kullanıyor.\n",
    "cursor = connection.cursor()\n",
    "\n",
    "create_sql = \"CREATE TABLE products(name VARCHAR(255), price FLOAT, category_id VARCHAR(255))\"\n",
    "cursor.execute(create_sql)\n",
    "connection.commit()"
   ]
  },
  {
   "cell_type": "code",
   "execution_count": 12,
   "metadata": {},
   "outputs": [],
   "source": [
    "connection = sqlite3.connect(\"bilgeadam.db\") # bilgeadam.db diye bir dosya yoksa oluşturuyor. Varsa database olarak o dosyayı kullanıyor.\n",
    "cursor = connection.cursor()\n",
    "\n",
    "insert_command = \"INSERT INTO products(name, price, category_id) VALUES('armut', 29.99, '0')\"\n",
    "cursor.execute(insert_command)\n",
    "\n",
    "connection.commit()\n",
    "connection.close()"
   ]
  },
  {
   "cell_type": "code",
   "execution_count": 19,
   "metadata": {
    "scrolled": false
   },
   "outputs": [
    {
     "name": "stdout",
     "output_type": "stream",
     "text": [
      "('kivi', 49.99, '0')\n",
      "('elma', 19.99, '0')\n",
      "('elma', 29.99, '0')\n",
      "('armut', 29.99, '0')\n"
     ]
    }
   ],
   "source": [
    "connection = sqlite3.connect(\"bilgeadam.db\") # bilgeadam.db diye bir dosya yoksa oluşturuyor. Varsa database olarak o dosyayı kullanıyor.\n",
    "cursor = connection.cursor()\n",
    "\n",
    "select_command = \"SELECT * FROM products\"\n",
    "cursor.execute(select_command)\n",
    "result = cursor.fetchall()\n",
    "\n",
    "for product in result:\n",
    "    print(product)\n",
    "\n",
    "connection.close()"
   ]
  },
  {
   "cell_type": "code",
   "execution_count": 36,
   "metadata": {
    "scrolled": true
   },
   "outputs": [
    {
     "name": "stdout",
     "output_type": "stream",
     "text": [
      "\n",
      "        INSERT INTO Student(ID, StudentNo, FirstName, LastName, BirthDate, Gender)\n",
      "        VALUES( 0, '301', 'Ahmet', 'Yılmaz', '2005-05-17 00:00:00', 'E')\n",
      "\n",
      "\n",
      "        INSERT INTO Student(ID, StudentNo, FirstName, LastName, BirthDate, Gender)\n",
      "        VALUES( 1, '302', 'Ali', 'Can', '2005-06-17 00:00:00', 'E')\n",
      "\n",
      "\n",
      "        INSERT INTO Student(ID, StudentNo, FirstName, LastName, BirthDate, Gender)\n",
      "        VALUES( 2, '303', 'Canan', 'Tan', '2005-07-07 00:00:00', 'K')\n",
      "\n",
      "\n",
      "        INSERT INTO Student(ID, StudentNo, FirstName, LastName, BirthDate, Gender)\n",
      "        VALUES( 3, '304', 'Bahadır', 'Toksöz', '2005-09-23 00:00:00', 'E')\n",
      "\n",
      "\n",
      "        INSERT INTO Student(ID, StudentNo, FirstName, LastName, BirthDate, Gender)\n",
      "        VALUES( 4, '305', 'Merve', 'Şengöz', '2005-10-27 00:00:00', 'K')\n",
      "\n"
     ]
    }
   ],
   "source": [
    "from datetime import datetime\n",
    "\n",
    "# 1- \"bilgeadam.db\" isimli bir sqlite database'i oluşturun ve bu database'e bağlantı sağlayın.\n",
    "\n",
    "connection = sqlite3.connect(\"bilgeadam.db\")\n",
    "cursor = connection.cursor()\n",
    "\n",
    "# 2 - Bu database üzerinde 'Student' diye bir tablo oluşturun.\n",
    "#   - Bu tablonun sütunları aşağıdaki gibidir\n",
    "#   - 'ID' INT NOT NULL PRIMARY KEY,\n",
    "#   - 'StudentNo' VARCHAR(5),\n",
    "#   - 'FirstName' VARCHAR (45) NOT NULL,\n",
    "#   - 'LastName' VARCHAR(45) NOT NULL,\n",
    "#   - 'BirthDate' DATETIME,\n",
    "#   - 'Gender' CHAR(1),\n",
    "\n",
    "create_sql = \"\"\"\n",
    "    CREATE TABLE Student(\n",
    "        ID INT NOT NULL PRIMARY KEY,\n",
    "        StudentNo VARCHAR(5),\n",
    "        FirstName VARCHAR(45) NOT NULL,\n",
    "        LastName VARCHAR(45) NOT NULL,\n",
    "        BirthDate DATETIME,\n",
    "        Gender CHAR(1)\n",
    "    )\n",
    "\"\"\"\n",
    "cursor.execute(create_sql)\n",
    "connection.commit()\n",
    "\n",
    "\n",
    "\n",
    "# 3 - Aşağıdaki bilgiler için öğrencileri database'e ekleyin\n",
    "# (\"301\", \"Ahmet\", \"Yılmaz\", datetime(2005, 5, 17), \"E\")\n",
    "# (\"302\", \"Ali\", \"Can\", datetime(2005, 6, 17), \"E\")\n",
    "# (\"303\", \"Canan\", \"Tan\", datetime(2005, 7, 7), \"K\")\n",
    "# (\"304\", \"Bahadır\", \"Toksöz\", datetime(2005, 9, 23), \"E\")\n",
    "# (\"305\", \"Merve\", \"Şengöz\", datetime(2005, 10, 27), \"K\")\n",
    "\n",
    "students = [\n",
    " (\"301\", \"Ahmet\", \"Yılmaz\", datetime(2005, 5, 17), \"E\", 0), #tuple\n",
    " (\"302\", \"Ali\", \"Can\", datetime(2005, 6, 17), \"E\", 1),\n",
    " (\"303\", \"Canan\", \"Tan\", datetime(2005, 7, 7), \"K\", 2),\n",
    " (\"304\", \"Bahadır\", \"Toksöz\", datetime(2005, 9, 23), \"E\", 3),\n",
    " (\"305\", \"Merve\", \"Şengöz\", datetime(2005, 10, 27), \"K\", 4),\n",
    "]\n",
    "\n",
    "\n",
    "for student in students:\n",
    "    insert_sql = \"\"\"\n",
    "        INSERT INTO Student(ID, StudentNo, FirstName, LastName, BirthDate, Gender)\n",
    "        VALUES( {}, '{}', '{}', '{}', '{}', '{}')\"\"\".format(student[5], student[0], student[1], student[2], student[3], student[4])\n",
    "    \n",
    "    print(insert_sql)\n",
    "    print()\n",
    "    connection.execute(insert_sql)\n",
    "    connection.commit()\n",
    "\n",
    "connection.close()"
   ]
  },
  {
   "cell_type": "code",
   "execution_count": null,
   "metadata": {},
   "outputs": [],
   "source": [
    "# 4- Aşağıdaki sorguları yazınız.\n",
    "#   a- Tüm öğrenci kayıtlarını alınız.\n",
    "#   b- Tüm öğrencilerin sadece öğrenci no, ad ve soyad bilgilerini alınız.\n",
    "#   c- Sadece kız öğrencilerin ad ve soyadlarını alınız.\n",
    "#   d- İsmi Ali ve doğum tarihi 2005 olan öğrenci bilgilerini alınız. *\n",
    "#   e- ad veya soyadı içinde 'an' ifadesi geçen kayıtları alınız.\n",
    "#   f- Kaç erkek öğrenci vardır ?\n",
    "#   g- Kız öğrencileri harf sırasına göre getiriniz.\n",
    "\n",
    "# 5- Aşağıdaki güncelleme sorularını yapınız.\n",
    "#   a- id'si 3 olan öğrencinin adını \"Hüsamettin\" olarak güncelleyiniz.\n",
    "#   b- Adı Bahadır olan öğrenciyi tablodan siliniz.\n",
    "#   c- Cinsiyeti 'E' olan tüm öğrencilerin adını \"Ahmet\" olarak güncelleyiniz."
   ]
  }
 ],
 "metadata": {
  "kernelspec": {
   "display_name": "Python 3",
   "language": "python",
   "name": "python3"
  },
  "language_info": {
   "codemirror_mode": {
    "name": "ipython",
    "version": 3
   },
   "file_extension": ".py",
   "mimetype": "text/x-python",
   "name": "python",
   "nbconvert_exporter": "python",
   "pygments_lexer": "ipython3",
   "version": "3.9.0"
  }
 },
 "nbformat": 4,
 "nbformat_minor": 4
}

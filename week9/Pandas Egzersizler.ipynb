{
 "cells": [
  {
   "cell_type": "code",
   "execution_count": 82,
   "metadata": {},
   "outputs": [
    {
     "data": {
      "text/plain": [
       "YR_Released\n",
       "1921    8.300000\n",
       "1925    8.200000\n",
       "1926    8.150000\n",
       "1927    8.150000\n",
       "1928    8.100000\n",
       "          ...   \n",
       "2013    7.403571\n",
       "2014    7.273333\n",
       "2015    7.461538\n",
       "2016    7.383333\n",
       "2017    7.825000\n",
       "Name: Rating, Length: 88, dtype: float64"
      ]
     },
     "execution_count": 82,
     "metadata": {},
     "output_type": "execute_result"
    }
   ],
   "source": [
    "import pandas as pd\n",
    "\n",
    "df = pd.read_csv(\"imdb.csv\")\n",
    "\n",
    "# 1- Dosyada hakkındaki bilgiler.\n",
    "result = df.info\n",
    "# 2- ilk 5 kaydı gösterin\n",
    "result = df.head()\n",
    "#result = df.iloc[:5]\n",
    "\n",
    "# 3- ilk 10 kaydı gösterin\n",
    "result = df.head(10)\n",
    "#result = df.iloc[:10]\n",
    "\n",
    "# 4- Son 5 kaydı gösterin\n",
    "result = df.tail()\n",
    "#result = df.iloc[-5:]\n",
    "\n",
    "# 5- Son 10 kaydı gösterin\n",
    "result = df.tail(10)\n",
    "#result = df.iloc[-10:]\n",
    "\n",
    "\n",
    "# 6- Sadece Movie_Title kolonunu alın.\n",
    "result = df['Movie_Title']\n",
    "# 7- Sadece Movie_Title kolonunu içeren ilk 5 kaydı alın.\n",
    "result = df['Movie_Title'].head()\n",
    "#result = df.loc[:4, \"Movie_Title\"]\n",
    "\n",
    "# 8- Sadece Movie_Title ve Rating kolonunu içeren ilk 5 kaydı alın.\n",
    "result = df[['Movie_Title', 'Rating']].head()\n",
    "#result = df.loc[:4, [\"Movie_Title\", \"Rating\"]]\n",
    "#result = df[[\"Movie_Title\", \"Rating\"]][0:5]\n",
    "\n",
    "# 9- Sadece Movie_Title ve Rating kolonunu içeren son 7 kaydı alın.\n",
    "result = df[[\"Movie_Title\", \"Rating\"]].tail(7)\n",
    "\n",
    "# 10- Sadece Movie_Title ve Rating kolonunu içeren ikinci 5 kaydı alın.\n",
    "result = df.loc[5:9,[\"Movie_Title\", \"Rating\"]]\n",
    "\n",
    "# 11- Sadece Movie_Title ve Rating kolonunu içeren ve imdb puanı 8.0\n",
    "#     ve üstünde olan kayıtlardan ilk 50 tanesini alınız.\n",
    "\n",
    "result = df[df['Rating'] >= 8.0][['Movie_Title', 'Rating']].head(50)\n",
    "result = df[df['Rating'] >= 8.0].iloc[:50][['Movie_Title', 'Rating']]\n",
    "result = df[df['Rating'] >= 8.0].reset_index().loc[:50, [\"Movie_Title\", \"Rating\"]]\n",
    "\n",
    "\n",
    "# 12- Yayın tarihi 2014 ile 2015 arasında olan filmlerin isimlerini getiriniz.\n",
    "result = df[(df['YR_Released'] >= 2014) & (df['YR_Released'] <= 2015)]['Movie_Title']\n",
    "\n",
    "# 13- Değerlendirme sayısı (Num_Reviews) 100.000 den büyük ya da imdb puanı\n",
    "#     8 ile 9 arasında olan filmleri listeleyiniz.\n",
    "result = df[(df['Num_Reviews'] > 100000) | ((df['Rating'] >= 8) & (df['Rating'] <= 9))]\n",
    "\n",
    "# 14 - Filmleri yıllara göre gruplayarak, dakika cinsinden en çok film çekilen yılı bulun.\n",
    "toplamlar = df.groupby('YR_Released').sum()\n",
    "result = toplamlar[toplamlar['Runtime'] == toplamlar['Runtime'].max()]\n",
    "\n",
    "# 15 - Filmleri yıllara göre gruplayarak, her yılın ortalama film ratingini bulun.\n",
    "result = df.groupby('YR_Released').mean()['Rating']\n",
    "\n",
    "result"
   ]
  }
 ],
 "metadata": {
  "kernelspec": {
   "display_name": "Python 3",
   "language": "python",
   "name": "python3"
  },
  "language_info": {
   "codemirror_mode": {
    "name": "ipython",
    "version": 3
   },
   "file_extension": ".py",
   "mimetype": "text/x-python",
   "name": "python",
   "nbconvert_exporter": "python",
   "pygments_lexer": "ipython3",
   "version": "3.9.0"
  }
 },
 "nbformat": 4,
 "nbformat_minor": 4
}

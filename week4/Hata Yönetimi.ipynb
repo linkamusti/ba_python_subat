{
 "cells": [
  {
   "cell_type": "markdown",
   "metadata": {},
   "source": [
    "## Try - Raise - Except \n",
    "##### (Try - Throw - Catch)\n",
    "\n",
    "\n",
    "**try:**\n",
    "\n",
    "    > Statement1 \n",
    "\n",
    "    > Statement2\n",
    "\n",
    "    > if ..\n",
    "       \n",
    "        > raise HATA\n",
    "\n",
    "    > Statement3\n",
    "\n",
    "    > ...\n",
    "\n",
    "**except** HATA:\n",
    "\n",
    "    > Hatayı düzeltmek için yapılacak şeyler"
   ]
  },
  {
   "cell_type": "code",
   "execution_count": 8,
   "metadata": {
    "scrolled": true
   },
   "outputs": [
    {
     "name": "stdout",
     "output_type": "stream",
     "text": [
      "Bir sayı girin:10\n",
      "Bir sayı girin:0\n",
      "Bir hata oldu\n",
      "Devam ediyo mu cidden?\n"
     ]
    }
   ],
   "source": [
    "try:\n",
    "    sayi1 = int(input(\"Bir sayı girin:\"))\n",
    "    sayi2 = int(input(\"Bir sayı girin:\"))\n",
    "    \n",
    "    print(sayi1 / sayi2)\n",
    "except ZeroDivisionError:\n",
    "    print(\"Bir hata oldu\")\n",
    "    \n",
    "    \n",
    "print(\"Devam ediyo mu cidden?\")"
   ]
  },
  {
   "cell_type": "code",
   "execution_count": 19,
   "metadata": {},
   "outputs": [
    {
     "name": "stdout",
     "output_type": "stream",
     "text": [
      "Bir sayı girin:1.5\n",
      "Bölme işlemi sadece tamsayılarla yapılabilir\n"
     ]
    }
   ],
   "source": [
    "try:\n",
    "    sayi1 = int(input(\"Bir sayı girin:\"))\n",
    "    sayi2 = int(input(\"Bir sayı girin:\"))\n",
    "    \n",
    "    \n",
    "    print(sayi1 / sayi2) \n",
    "except ZeroDivisionError:\n",
    "    print(\"Sıfıra bölme işlemi gerçekleştirilemez.\")\n",
    "except ValueError:\n",
    "    print(\"Bölme işlemi sadece tamsayılarla yapılabilir\")"
   ]
  },
  {
   "cell_type": "code",
   "execution_count": 28,
   "metadata": {},
   "outputs": [
    {
     "name": "stdout",
     "output_type": "stream",
     "text": [
      "Email adresinizi girin: @.com\n"
     ]
    }
   ],
   "source": [
    "\n",
    "try:\n",
    "    email = input(\"Email adresinizi girin: \")\n",
    "    if \"@\" not in email:\n",
    "        raise Exception(\"Emailinizde @ işareti olmalı\")\n",
    "    if \".\" not in email:\n",
    "        raise Exception(\"Emailinizde . işareti olmalı\")\n",
    "    \n",
    "    sonu = email[-3:]\n",
    "    \n",
    "    if sonu != \"com\" and sonu != \"net\" and sonu != \"edu\":\n",
    "        raise Exception(\"Kabul edilmeyen email uzantısı\")\n",
    "    \n",
    "    \n",
    "except Exception as ex:\n",
    "    print(ex)\n",
    "    \n"
   ]
  },
  {
   "cell_type": "code",
   "execution_count": 35,
   "metadata": {},
   "outputs": [
    {
     "name": "stdout",
     "output_type": "stream",
     "text": [
      "Bir sayı girin: af\n",
      "Sadece tam sayı girişi yapınız\n",
      "Bir sayı girin: saf\n",
      "Sadece tam sayı girişi yapınız\n",
      "Bir sayı girin: 145\n",
      "Bir sayı girin: 123\n",
      "Bir sayı girin: 124213\n",
      "Bir sayı girin: 12\n",
      "Bir sayı girin: 3q\n",
      "Sadece tam sayı girişi yapınız\n",
      "Bir sayı girin: q\n",
      "Ortalama: 31123.25\n"
     ]
    }
   ],
   "source": [
    "# Kullanıcıdan tekrar tekrar sayılar alacağız.\n",
    "# Kullanıcı \"q\" harfini girdiğinde sayı almayı bırakacağız.\n",
    "# Eğer \"q\" dışında sayı olmayan bir şey girilirse ekrana hata mesajı yazacağız.\n",
    "# \"q\" girildikten sonra girilen sayıların ortalamasını ekrana basacağız.\n",
    "\n",
    "\n",
    "inp = \"\"\n",
    "toplam = 0\n",
    "sayac = 0\n",
    "\n",
    "while True:\n",
    "    \n",
    "    inp = input(\"Bir sayı girin: \")\n",
    "    if inp == \"q\":\n",
    "        break\n",
    "    try:\n",
    "        sayi = int(inp)\n",
    "        toplam += sayi\n",
    "        sayac += 1\n",
    "    except ValueError:\n",
    "        print(\"Sadece tam sayı girişi yapınız\")\n",
    "        \n",
    "try:\n",
    "    print(\"Ortalama:\", toplam / sayac)\n",
    "except ZeroDivisionError:\n",
    "    print(\"Ortalama: 0\")\n",
    "\n"
   ]
  }
 ],
 "metadata": {
  "kernelspec": {
   "display_name": "Python 3",
   "language": "python",
   "name": "python3"
  },
  "language_info": {
   "codemirror_mode": {
    "name": "ipython",
    "version": 3
   },
   "file_extension": ".py",
   "mimetype": "text/x-python",
   "name": "python",
   "nbconvert_exporter": "python",
   "pygments_lexer": "ipython3",
   "version": "3.9.0"
  }
 },
 "nbformat": 4,
 "nbformat_minor": 4
}

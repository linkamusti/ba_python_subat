{
 "cells": [
  {
   "cell_type": "markdown",
   "metadata": {},
   "source": [
    "## Object Oriented Programming"
   ]
  },
  {
   "cell_type": "code",
   "execution_count": null,
   "metadata": {},
   "outputs": [],
   "source": [
    "## BU SÜRDÜRÜLEBİLİR DEĞİL\n",
    "\n",
    "araba1_model = \"..\"\n",
    "araba1_motor = 2.1\n",
    "araba1_fiyat = 161263\n",
    "\n",
    "\n",
    "araba2_model = \"..\"\n",
    "araba2_motor = 3.1\n",
    "araba2_fiyat = 2362173\n",
    "\n",
    "\n",
    "\n"
   ]
  },
  {
   "cell_type": "code",
   "execution_count": 23,
   "metadata": {
    "scrolled": true
   },
   "outputs": [
    {
     "name": "stdout",
     "output_type": "stream",
     "text": [
      "<__main__.Araba object at 0x1088a3d30>\n"
     ]
    }
   ],
   "source": [
    "class Araba:\n",
    "    ## Araba sınıfına dair bir obje oluşturmaya çalışırken\n",
    "    def __init__(self, marka, motor, fiyat, yil): # constructor \n",
    "        self.marka = marka # object attribute\n",
    "        self.motor = motor\n",
    "        self.fiyat = fiyat\n",
    "        self.yil = yil\n",
    "    def sur(self): # class method / instance method\n",
    "        print(self.marka + \" VINNN\")\n",
    "    def indirim(self, yuzde):\n",
    "        self.fiyat = self.fiyat * (1 - yuzde/100)\n",
    "        \n",
    "benimArabam = Araba(\"BMW\", 3.1, 600000, 2020)\n",
    "ikinciArabam = Araba(\"Mercedes\", 4.1, 1200000, 2021)\n",
    "\n",
    "print(benimArabam)"
   ]
  },
  {
   "cell_type": "code",
   "execution_count": 18,
   "metadata": {},
   "outputs": [
    {
     "name": "stdout",
     "output_type": "stream",
     "text": [
      "3.14\n",
      "Çevre: 94.2, Alan: 706.5\n",
      "Çevre: 6.28, Alan: 3.14\n"
     ]
    }
   ],
   "source": [
    "class Circle:\n",
    "    pi = 3.14 # Bütün class'a ait, her obje bu değere ulaşabiliyo.\n",
    "    def __init__(self, r = 1): ## init her classta olmalı, bu sınıfa ait obje oluşturulurken ilk değerleri atayan fonksiyon\n",
    "        self.yaricap = r\n",
    "    def cevreHesapla(self):\n",
    "        return 2 * self.pi * self.yaricap\n",
    "    def alanHesapla(self):\n",
    "        return self.pi * self.yaricap ** 2\n",
    "    \n",
    "    \n",
    "daire = Circle(15)\n",
    "ikinci_daire = Circle()\n",
    "\n",
    "#print(daire.pi)\n",
    "\n",
    "cevre = daire.cevreHesapla()\n",
    "alan = daire.alanHesapla()\n",
    "\n",
    "\n",
    "cevre2 = ikinci_daire.cevreHesapla()\n",
    "alan2 = ikinci_daire.alanHesapla()\n",
    "\n",
    "print(\"Çevre: {}, Alan: {}\".format(cevre, alan))\n",
    "print(\"Çevre: {}, Alan: {}\".format(cevre2, alan2))"
   ]
  },
  {
   "cell_type": "code",
   "execution_count": 22,
   "metadata": {
    "scrolled": true
   },
   "outputs": [
    {
     "name": "stdout",
     "output_type": "stream",
     "text": [
      "Hello I am Mustafa\n",
      "27\n",
      "Hello I am Deniz\n",
      "37\n"
     ]
    }
   ],
   "source": [
    "# Bir Person sınıfı oluşturun\n",
    "# name ve year (doğum yılı) attribute'ları olsun (__init__)\n",
    "# İki tane methodu olsun\n",
    "# 1 - intro() -> \"Hello I am ..\" print eden bir fonksiyon\n",
    "# 2 - calculateAge() -> kişinin yaşını return etsin\n",
    "\n",
    "class Person:\n",
    "    def __init__(self, name, year):\n",
    "        self.name = name\n",
    "        self.year = year\n",
    "        \n",
    "    def intro(self):\n",
    "        print(\"Hello I am\", self.name)\n",
    "    def calculateAge(self):\n",
    "        return 2021 - self.year\n",
    "    \n",
    "    \n",
    "ben = Person(\"Mustafa\", 1994)\n",
    "sen = Person(\"Deniz\", 1984)\n",
    "\n",
    "ben.intro()\n",
    "yas = ben.calculateAge()\n",
    "print(yas)\n",
    "\n",
    "\n",
    "sen.intro()\n",
    "yas = sen.calculateAge()\n",
    "print(yas)"
   ]
  },
  {
   "cell_type": "markdown",
   "metadata": {},
   "source": [
    "## Class special methods\n",
    "- **\\_\\_init\\_\\_** : Bir class objesi oluşturabilmek için kullanılan method.\n",
    "- **\\_\\_str\\_\\_** : Bir class objesini print etmeye çalıştığımızda karşımıza çıkan şeyi belirlediğimiz yer. String return etmesi gerekiyor\n",
    "- **\\_\\_len\\_\\_** : Bir class objesinin \"uzunluğunu\" belirlemek için kullandığımız bir method. Integer return etmesi gerekiyor.\n",
    "- **\\_\\_del\\_\\_** : Bir class objesi silinirken yapmak istediğimiz şeyleri yazdığımız method."
   ]
  },
  {
   "cell_type": "code",
   "execution_count": 30,
   "metadata": {},
   "outputs": [
    {
     "name": "stdout",
     "output_type": "stream",
     "text": [
      "İsim: Mustafa Doğum yılı: 1994\n",
      "İsim: Yağmur Doğum yılı: 1992\n",
      "İsim: Atakan Doğum yılı: 1997\n"
     ]
    }
   ],
   "source": [
    "class Person:\n",
    "    def __init__(self, name, year):\n",
    "        self.name = name\n",
    "        self.year = year\n",
    "        \n",
    "    def intro(self):\n",
    "        print(\"Hello I am\", self.name)\n",
    "    def calculateAge(self):\n",
    "        return 2021 - self.year\n",
    "    \n",
    "    def __str__(self):\n",
    "        return \"İsim: \" + self.name + \" Doğum yılı: \" + str(self.year)\n",
    "    \n",
    "ben = Person(\"Mustafa\", 1994)\n",
    "kisi = Person(\"Yağmur\", 1992)\n",
    "kisi2 = Person(\"Atakan\", 1997)\n",
    "\n",
    "print(ben)\n",
    "print(kisi)\n",
    "print(kisi2)"
   ]
  },
  {
   "cell_type": "code",
   "execution_count": 74,
   "metadata": {},
   "outputs": [
    {
     "name": "stdout",
     "output_type": "stream",
     "text": [
      "30\n"
     ]
    }
   ],
   "source": [
    "class Circle:\n",
    "    pi = 3 # Bütün class'a ait, her obje bu değere ulaşabiliyo.\n",
    "    def __init__(self, r = 1): ## init her classta olmalı, bu sınıfa ait obje oluşturulurken ilk değerleri atayan fonksiyon\n",
    "        self.yaricap = r\n",
    "    def cevreHesapla(self):\n",
    "        return 2 * self.pi * self.yaricap\n",
    "    def alanHesapla(self):\n",
    "        return self.pi * self.yaricap ** 2\n",
    "    \n",
    "    def __len__(self):\n",
    "        return 2* self.pi * self.yaricap\n",
    "    \n",
    "daire = Circle(5)\n",
    "print(len(daire))\n"
   ]
  },
  {
   "cell_type": "code",
   "execution_count": 70,
   "metadata": {
    "scrolled": false
   },
   "outputs": [
    {
     "name": "stdout",
     "output_type": "stream",
     "text": [
      "Yeni bir movie objesi oluşturuldu. Ahlat Ağacı\n",
      "Yeni bir movie objesi oluşturuldu. Yüzüklerin Efendisi\n",
      "Yüzüklerin Efendisi filmini siliyoruz!! Dikkat!!\n",
      "180\n",
      "180\n",
      "Ahlat Ağacı filmini siliyoruz!! Dikkat!!\n"
     ]
    }
   ],
   "source": [
    "class Movie:\n",
    "    def __init__(self, title, director, duration):\n",
    "        self.title = title\n",
    "        self.director = director\n",
    "        self.duration = duration\n",
    "        print(\"Yeni bir movie objesi oluşturuldu.\", self.title)\n",
    "    def __len__(self):\n",
    "        return self.duration\n",
    "    def __del__(self):\n",
    "        print(self.title, \"filmini siliyoruz!! Dikkat!!\")\n",
    "    \n",
    "m = Movie(\"Ahlat Ağacı\", \"Nuri Bilge Ceylan\", 180)\n",
    "m2 = Movie(\"Yüzüklerin Efendisi\", \"Peter Jackson\", 180)\n",
    "\n",
    "print(len(m))\n",
    "print(len(m2))\n",
    "del m\n"
   ]
  },
  {
   "cell_type": "code",
   "execution_count": 73,
   "metadata": {},
   "outputs": [
    {
     "name": "stdout",
     "output_type": "stream",
     "text": [
      "Yeni bir movie objesi oluşturuldu. Ahlat Ağacı\n",
      "Yeni bir movie objesi oluşturuldu. Yüzüklerin Efendisi\n",
      "Yüzüklerin Efendisi filmini siliyoruz!! Dikkat!!\n",
      "180\n",
      "180\n",
      "Ahlat Ağacı filmini siliyoruz!! Dikkat!!\n"
     ]
    }
   ],
   "source": [
    "class Movie:\n",
    "    def __init__(self, title, director, duration):\n",
    "        self.title = title\n",
    "        self.director = director\n",
    "        self.duration = duration\n",
    "        print(\"Yeni bir movie objesi oluşturuldu.\", self.title)\n",
    "    def __len__(self):\n",
    "        return self.duration\n",
    "    def __del__(self):\n",
    "        print(self.title, \"filmini siliyoruz!! Dikkat!!\")\n",
    "    \n",
    "m = Movie(\"Ahlat Ağacı\", \"Nuri Bilge Ceylan\", 180)\n",
    "m2 = Movie(\"Yüzüklerin Efendisi\", \"Peter Jackson\", 180)\n",
    "\n",
    "print(len(m2))\n",
    "print(len(m))\n",
    "del m"
   ]
  },
  {
   "cell_type": "markdown",
   "metadata": {},
   "source": [
    "# Inheritance (Kalıtım)\n",
    "- Hiyerarşik class ilişkilerini tanımlamak için kullandığımız yöntem"
   ]
  },
  {
   "cell_type": "code",
   "execution_count": 104,
   "metadata": {},
   "outputs": [],
   "source": [
    "class Person:\n",
    "    def __init__(self, firstName, lastName, age):\n",
    "        self.firstName = firstName\n",
    "        self.lastName = lastName\n",
    "        self.age = age\n",
    "        \n",
    "    def who_am_i(self):\n",
    "        print(\"I am a PERSON object.\")\n",
    "    \n",
    "    def eat(self):\n",
    "        print(\"I am eating.\")\n",
    "        \n",
    "        \n",
    "class Student(Person):\n",
    "    def __init__(self, firstName, lastName, age, studentNo):\n",
    "        #self.firstName = firstName\n",
    "        #self.lastName = lastName\n",
    "        #self.age = age\n",
    "        super().__init__(firstName, lastName, age) ## super sözcüğü üst sınıfım neyse o demek. Bu satır, üstteki 3 satıra denk.\n",
    "        self.studentNo = studentNo\n",
    "    \n",
    "    \n",
    "    # Override\n",
    "    def who_am_i(self):\n",
    "        print(\"I am a STUDENT object\")\n",
    "        \n",
    "    def eat(self):\n",
    "        print(\"I am eating. (student)\")\n",
    "        \n",
    "        \n",
    "    def sayHello(self):\n",
    "        print(\"Hello! I am student\")\n",
    "        \n",
    "        \n",
    "## Bir teacher classı yazın\n",
    "# Person classından inherit etsin\n",
    "# Fazladan branch(dal) parametresi alsın\n",
    "# who_am_i methodunu \"I am a {branch} teacher\" print edecek şekilde override etsin.\n",
    "\n",
    "\n",
    "class Teacher(Person):\n",
    "    def __init__(self, firstName, lastName, age, branch):\n",
    "        super().__init__(firstName, lastName, age)\n",
    "        self.branch = branch\n",
    "    def who_am_i(self):\n",
    "        print(\"I am a {} teacher\".format(self.branch))"
   ]
  },
  {
   "cell_type": "code",
   "execution_count": 109,
   "metadata": {
    "scrolled": true
   },
   "outputs": [
    {
     "name": "stdout",
     "output_type": "stream",
     "text": [
      "Mustafa Taş\n",
      "Gürbüz Karabaldır\n",
      "Kamer Kaya\n",
      "I am a PERSON object.\n",
      "I am a STUDENT object\n",
      "I am a yazılım teacher\n",
      "I am eating.\n",
      "I am eating. (student)\n",
      "I am eating.\n",
      "Hello! I am student\n"
     ]
    }
   ],
   "source": [
    "per = Person(\"Mustafa\", \"Taş\", 26)\n",
    "stu = Student(\"Gürbüz\", \"Karabaldır\", 26, 16755)\n",
    "tea = Teacher(\"Kamer\", \"Kaya\", 35, \"yazılım\")\n",
    "\n",
    "## Her Student bir Persondır.\n",
    "## Her Teacher bir Persondır.\n",
    "## Her Person bir Student değildir.\n",
    "## Her Person bir Teacher değildir.\n",
    "\n",
    "\n",
    "print(per.firstName + \" \" + per.lastName)\n",
    "print(stu.firstName + \" \" + stu.lastName)\n",
    "print(tea.firstName + \" \" + tea.lastName)\n",
    "\n",
    "per.who_am_i()\n",
    "stu.who_am_i()\n",
    "tea.who_am_i()\n",
    "\n",
    "per.eat()\n",
    "stu.eat()\n",
    "tea.eat()\n",
    "\n",
    "stu.sayHello()\n",
    "#per.sayHello()\n",
    "#tea.sayHello()"
   ]
  },
  {
   "cell_type": "code",
   "execution_count": 113,
   "metadata": {},
   "outputs": [
    {
     "name": "stdout",
     "output_type": "stream",
     "text": [
      "Türkiyenin başkenti neresidir?\n",
      "Adana\n",
      "İstanbul\n",
      "Ankara\n",
      "Bursa\n",
      "Cevap: İstanbul\n",
      "Yanlış cevap!\n"
     ]
    }
   ],
   "source": [
    "## Bir Question classı tanımlayacağız\n",
    "## text, choices, answer attributionları olacak\n",
    "## checkAnswer(answer) methodu verilen \n",
    "## cevabın doğru olup olmadığını kontrol edecek (True/False return edecek)\n",
    "\n",
    "\n",
    "class Question:\n",
    "    def __init__(self, text, choices, answer):\n",
    "        self.text = text\n",
    "        self.choices = choices\n",
    "        self.answer = answer\n",
    "\n",
    "    def checkAnswer(self, answer):\n",
    "        if self.answer == answer:\n",
    "            return True\n",
    "        else:\n",
    "            return False\n",
    "        \n",
    "        \n",
    "class Quiz:\n",
    "    def __init__(self, questions):\n",
    "        self.questions = questions\n",
    "        self.score = 0\n",
    "        self.questionIndex = 0\n",
    "        \n",
    "    def askQuestion(self):\n",
    "        \n",
    "        currentQuestion = self.questions[self.questionIndex]\n",
    "        \n",
    "        print(currentQuestion.text)\n",
    "        for choice in currentQuestion.choices:\n",
    "            print(\"-\" + choice)\n",
    "        answer = input(\"Cevap: \")\n",
    "        \n",
    "        if currentQuestion.checkAnswer(answer):\n",
    "            self.score += 1\n",
    "            \n",
    "            \n",
    "        print(\"-\"*20)\n",
    "        self.questionIndex += 1\n",
    "        \n",
    "    def showScore(self):\n",
    "        print(\"Skorunuz: \", self.score)\n",
    "        \n",
    "q1 = Question(\"Türkiye'nin başkenti neresidir?\", [\"Adana\", \"İstanbul\", \"Ankara\", \"Bursa\"], \"Ankara\")\n",
    "q2 = Question(\"Gelmiş geçmiş en iyi film nedir?\", [\"Yüzüklerin Efendisi\", \"Yüzüklerin Efendisi\", \"Yüzüklerin Efendisi\", \"Yüzüklerin Efendisi\"], \"Yüzüklerin Efendisi\")\n",
    "q3 = Question(\"Türkiye'nin kebabıyla meşhur ili hangisidir?\", [\"Adana\", \"Mersin\", \"Erzurum\", \"İstanbul\"], \"Adana\")\n",
    "\n",
    "    \n",
    "## Bir Quiz classı tanımlayacağız\n",
    "## questions, score attributionları olacak\n",
    "## askQuestion() methodu, sıradaki soruyu soracak.\n",
    "## showScore() methodu kaç doğru cevap verildiğini ekrana basacak"
   ]
  }
 ],
 "metadata": {
  "kernelspec": {
   "display_name": "Python 3",
   "language": "python",
   "name": "python3"
  },
  "language_info": {
   "codemirror_mode": {
    "name": "ipython",
    "version": 3
   },
   "file_extension": ".py",
   "mimetype": "text/x-python",
   "name": "python",
   "nbconvert_exporter": "python",
   "pygments_lexer": "ipython3",
   "version": "3.9.0"
  }
 },
 "nbformat": 4,
 "nbformat_minor": 4
}

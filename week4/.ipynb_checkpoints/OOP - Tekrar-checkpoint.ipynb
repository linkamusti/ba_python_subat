{
 "cells": [
  {
   "cell_type": "code",
   "execution_count": 23,
   "metadata": {},
   "outputs": [
    {
     "name": "stdout",
     "output_type": "stream",
     "text": [
      "120 saatlik PYTHON eğitimi. Eğitmen: Mustafa Kemal Taş (Bilge Adam)\n",
      "10 saat işlendikten sonra kalan ders saati: 110\n",
      "120 saatlik PYTHON eğitimi. Eğitmen: Mustafa Kemal Taş (Sabancı Üniversitesi)\n",
      "--------------------\n",
      "100 saatlik DJANGO eğitimi. Eğitmen: Kamer Kaya (Bilge Adam)\n",
      "20 saat işlendikten sonra kalan ders saati: 80\n",
      "100 saatlik DJANGO eğitimi. Eğitmen: Kamer Kaya (Bilge Adam)\n",
      "20 saat işlendikten sonra kalan ders saati: 60\n"
     ]
    }
   ],
   "source": [
    "class Ders:\n",
    "    school = \"Bilge Adam\"\n",
    "    def __init__(self, name, hours, teacher, students):\n",
    "        self.name = name\n",
    "        self.hours = hours\n",
    "        self.teacher = teacher\n",
    "        self.students = students\n",
    "        self.remainingHours = hours    \n",
    "    def __str__(self):\n",
    "        return str(self.hours) + \" saatlik \" + self.name + \" eğitimi. Eğitmen: \" + self.teacher + \" ({})\".format(self.school)\n",
    "    def dersIslendi(self, hour):\n",
    "        print(self)\n",
    "        self.remainingHours -= hour\n",
    "        print(hour, \"saat işlendikten sonra kalan ders saati:\", self.remainingHours)\n",
    "        \n",
    "    def okulDegistir(self, yeniOkul):\n",
    "        self.school = yeniOkul\n",
    "lst = [\"Arda\", \"Berkcan\", \"Burak\", \"Gül\", \"Hasan\", \"Emin\", \"Melike\", \"Sibel\", \"Mert\", \"Onur\", \"Serap\", \"Tayland\", \"Emre\", \"Dilara\"]\n",
    "\n",
    "\n",
    "ba_python = Ders(\"PYTHON\", 120, \"Mustafa Kemal Taş\", lst)\n",
    "ba_django = Ders(\"DJANGO\", 100, \"Kamer Kaya\", lst)\n",
    "\n",
    "ba_python.dersIslendi(10)\n",
    "ba_python.okulDegistir(\"Sabancı Üniversitesi\")\n",
    "print(\"-\"*20)\n",
    "\n",
    "ba_django.dersIslendi(20)\n",
    "ba_django.dersIslendi(20)"
   ]
  },
  {
   "cell_type": "code",
   "execution_count": 26,
   "metadata": {},
   "outputs": [],
   "source": [
    "class Question:\n",
    "    def __init__(self, text, choices, answer):\n",
    "        self.text = text\n",
    "        self.choices = choices\n",
    "        self.answer = answer\n",
    "    def checkAnswer(self, answer):\n",
    "        return self.answer == answer\n",
    "    \n",
    "\n",
    "class Quiz:\n",
    "    def __init__(self, questions):\n",
    "        self.questions = questions\n",
    "        self.score = 0\n",
    "        self.questionIndex = 0\n",
    "        \n",
    "    def askQuestion(self):\n",
    "        currentQuestion = self.questions[self.questionIndex] # sıradaki soruyu listeden çektik\n",
    "        print(currentQuestion.text) # Sorunun soru cümlesini ekrana bastık\n",
    "        for choice in currentQuestion.choices: # her bir şıkkı tek tek ekrana bastık\n",
    "            print(\"-\", choice)\n",
    "        ans = input(\"Cevap: \") # Kullanıcıdan bir cevap aldık\n",
    "        \n",
    "        if currentQuestion.checkAnswer(ans): # Cevabın doğruluğunu kontrol ettik\n",
    "            self.score += 1 # Doğruysa, bu quiz objesi için score'u bir arttırdık\n",
    "            \n",
    "        self.questionIndex += 1 ## Bir sonraki soruya geçmek için, questionIndex'i arttırdık\n",
    "        print(\"-\"*20)\n",
    "        \n",
    "        \n",
    "    def showScore(self):\n",
    "        percent_score = 100 * (self.score / len(self.questions)) # 100 üzerinden alınan puan\n",
    "        print(\"Skorunuz: {}/{} ({}%)\".format(self.score, len(self.questions, percent_score)))\n",
    "        \n",
    "    def quizEnded(self):\n",
    "        if self.questionIndex < len(self.questions):\n",
    "            return False\n",
    "        else:\n",
    "            return True\n",
    "\n",
    "q1 = Question(\"Kana kırmızı rengini veren madde nedir?\", [\"Bayrak\", \"Meyve Suyu\", \"Hemoglobin\"], \"Hemoglobin\")\n",
    "q2 = Question(\"Türkiye'nin üçüncü cumhurbaşkanı kimdir?\", [\"Mustafa Kemal Atatürk\", \"İsmet İnönü\", \"Celal Bayar\"], \"Celal Bayar\")\n",
    "q3 = Question(\"Dünyanın en yüksek gölü hangisidir?\", [\"Manas Gölü\", \"Titicaca Gölü\", \"Van Gölü\"], \"Titicaca\")\n",
    "q4 = Question(\"İspanya'nın başkenti neresidir?\", [\"Madrid\", \"Barcelona\", \"Hatay\"], \"Madrid\")\n",
    "\n",
    "soruListesi = [q1, q2, q3, q4]\n",
    "\n",
    "quiz = Quiz(soruListesi)\n",
    "\n",
    "while not quiz.quizEnded():\n",
    "    quiz.askQuestion()\n",
    "    \n",
    "quiz.showScore()"
   ]
  }
 ],
 "metadata": {
  "kernelspec": {
   "display_name": "Python 3",
   "language": "python",
   "name": "python3"
  },
  "language_info": {
   "codemirror_mode": {
    "name": "ipython",
    "version": 3
   },
   "file_extension": ".py",
   "mimetype": "text/x-python",
   "name": "python",
   "nbconvert_exporter": "python",
   "pygments_lexer": "ipython3",
   "version": "3.9.0"
  }
 },
 "nbformat": 4,
 "nbformat_minor": 4
}

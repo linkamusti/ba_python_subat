{
 "cells": [
  {
   "cell_type": "markdown",
   "metadata": {},
   "source": [
    "## Functions\n",
    "\n",
    "**def** fonksiyon_ismi(Parametreler):\n",
    "   - Statement1  \n",
    "   - Statement2\n",
    "   \n",
    "   - **return**\n",
    "   \n",
    "   - Statement3"
   ]
  },
  {
   "cell_type": "code",
   "execution_count": 2,
   "metadata": {},
   "outputs": [
    {
     "name": "stdout",
     "output_type": "stream",
     "text": [
      "Hello World\n"
     ]
    }
   ],
   "source": [
    "# Parametre almayan, değer geri vermeyen\n",
    "\n",
    "def greeting():\n",
    "    print(\"Hello World\")\n",
    "    \n",
    "greeting()"
   ]
  },
  {
   "cell_type": "code",
   "execution_count": 4,
   "metadata": {},
   "outputs": [
    {
     "name": "stdout",
     "output_type": "stream",
     "text": [
      "Hello Mustafa\n"
     ]
    }
   ],
   "source": [
    "# Parametre alan ama değer geri vermeyen\n",
    "\n",
    "def greeting(isim):\n",
    "    print(\"Hello\", isim)\n",
    "    \n",
    "    \n",
    "greeting(\"Mustafa\")"
   ]
  },
  {
   "cell_type": "code",
   "execution_count": 6,
   "metadata": {},
   "outputs": [
    {
     "name": "stdout",
     "output_type": "stream",
     "text": [
      "50625\n"
     ]
    }
   ],
   "source": [
    "# Parametre alıp geri değer veren\n",
    "\n",
    "def karesi(sayi):\n",
    "    return sayi ** 2\n",
    "\n",
    "\n",
    "x = karesi(karesi(15))\n",
    "\n",
    "print(x)"
   ]
  },
  {
   "cell_type": "code",
   "execution_count": null,
   "metadata": {},
   "outputs": [],
   "source": []
  },
  {
   "cell_type": "code",
   "execution_count": 8,
   "metadata": {},
   "outputs": [
    {
     "name": "stdout",
     "output_type": "stream",
     "text": [
      "M\n",
      "T\n"
     ]
    }
   ],
   "source": [
    "def ilkHarfler(isim, soyisim):\n",
    "    a = isim[0]\n",
    "    b = soyisim[0]\n",
    "    \n",
    "    return a,b\n",
    "\n",
    "\n",
    "x,y = ilkHarfler(\"Mustafa\", \"Taş\")\n",
    "\n",
    "\n",
    "print(x)\n",
    "print(y)"
   ]
  },
  {
   "cell_type": "code",
   "execution_count": null,
   "metadata": {},
   "outputs": [],
   "source": []
  }
 ],
 "metadata": {
  "kernelspec": {
   "display_name": "Python 3",
   "language": "python",
   "name": "python3"
  },
  "language_info": {
   "codemirror_mode": {
    "name": "ipython",
    "version": 3
   },
   "file_extension": ".py",
   "mimetype": "text/x-python",
   "name": "python",
   "nbconvert_exporter": "python",
   "pygments_lexer": "ipython3",
   "version": "3.9.0"
  }
 },
 "nbformat": 4,
 "nbformat_minor": 4
}

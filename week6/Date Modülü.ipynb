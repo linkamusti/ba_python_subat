{
 "cells": [
  {
   "cell_type": "code",
   "execution_count": 16,
   "metadata": {},
   "outputs": [
    {
     "name": "stdout",
     "output_type": "stream",
     "text": [
      "2021-04-04 15:12:59.749444\n",
      "<class 'datetime.datetime'>\n",
      "4\n",
      "4\n",
      "2021\n",
      "15\n",
      "12\n",
      "59\n",
      "2021-04-04 15:12:59.750555\n"
     ]
    }
   ],
   "source": [
    "from datetime import datetime\n",
    "\n",
    "simdi = datetime.now()\n",
    "print(simdi)\n",
    "print(type(simdi))\n",
    "print(simdi.day)\n",
    "print(simdi.month)\n",
    "print(simdi.year)\n",
    "print(simdi.hour)\n",
    "print(simdi.minute)\n",
    "print(simdi.second)\n",
    "\n",
    "simdi = datetime.today()\n",
    "print(simdi) # datetime.now ile birebir aynı şeyi yapıyor"
   ]
  },
  {
   "cell_type": "code",
   "execution_count": 20,
   "metadata": {},
   "outputs": [
    {
     "name": "stdout",
     "output_type": "stream",
     "text": [
      "04 April 2021 - Sunday (03:17 PM)\n"
     ]
    }
   ],
   "source": [
    "# strftime\n",
    "# date objesini stringe çeviriyor\n",
    "\n",
    "# tablo: https://www.programiz.com/python-programming/datetime/strftime\n",
    "\n",
    "simdi = datetime.now()\n",
    "str_date = datetime.strftime(simdi, \"%d %B %Y - %A (%I:%M %p)\")\n",
    "print(str_date)"
   ]
  },
  {
   "cell_type": "code",
   "execution_count": 26,
   "metadata": {},
   "outputs": [
    {
     "name": "stdout",
     "output_type": "stream",
     "text": [
      "2021-04-04 15:17:00\n",
      "2021-01-04 00:00:00\n"
     ]
    }
   ],
   "source": [
    "# strptime\n",
    "# bir stringi date objesine çeviriyor\n",
    "\n",
    "date_stringimiz = \"04 April 2021 - Sunday (03:17 PM)\"\n",
    "parsed_date = datetime.strptime(date_stringimiz, \"%d %B %Y - %A (%I:%M %p)\")\n",
    "print(parsed_date)\n",
    "\n",
    "date_stringimiz = \"04-01-2021\"\n",
    "parsed_date = datetime.strptime(date_stringimiz, \"%d-%m-%Y\")\n",
    "print(parsed_date)\n"
   ]
  },
  {
   "cell_type": "code",
   "execution_count": 36,
   "metadata": {},
   "outputs": [
    {
     "name": "stdout",
     "output_type": "stream",
     "text": [
      "2021-04-04 15:45:00\n",
      "2021-04-04 11:43:00\n",
      "14520\n"
     ]
    }
   ],
   "source": [
    "#timedelta\n",
    "#Zaman farkları ile uğraşırken kullandığımız modül\n",
    "from datetime import timedelta\n",
    "\n",
    "d1 = datetime(2021,4,4,15,45,0)\n",
    "d2 = datetime(2021,4,4,11,43,0)\n",
    "print(d1)\n",
    "print(d2)\n",
    "\n",
    "zaman_farki = d1 - d2\n",
    "print(zaman_farki.seconds)"
   ]
  },
  {
   "cell_type": "code",
   "execution_count": 39,
   "metadata": {},
   "outputs": [
    {
     "name": "stdout",
     "output_type": "stream",
     "text": [
      "2021-04-01 15:27:26.212826\n"
     ]
    }
   ],
   "source": [
    "uc_gun_cikar = timedelta(days = 3)\n",
    "\n",
    "now = datetime.now()\n",
    "uc_gun_once = now - uc_gun_cikar\n",
    "print(uc_gun_once)\n",
    "\n"
   ]
  }
 ],
 "metadata": {
  "kernelspec": {
   "display_name": "Python 3",
   "language": "python",
   "name": "python3"
  },
  "language_info": {
   "codemirror_mode": {
    "name": "ipython",
    "version": 3
   },
   "file_extension": ".py",
   "mimetype": "text/x-python",
   "name": "python",
   "nbconvert_exporter": "python",
   "pygments_lexer": "ipython3",
   "version": "3.9.0"
  }
 },
 "nbformat": 4,
 "nbformat_minor": 4
}

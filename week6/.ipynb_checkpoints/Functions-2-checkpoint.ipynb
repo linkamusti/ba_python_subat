{
 "cells": [
  {
   "cell_type": "markdown",
   "metadata": {},
   "source": [
    "## Advanced Function Properties\n",
    "\n",
    "- Nested Functions\n",
    "- Returning Functions\n",
    "- Parameters as Functions\n",
    "- **Decorators**\n",
    "\n",
    "\n",
    "\n",
    "##### Iterators\n",
    "   *Iterable* : Elemanları üzerinde tek tek gezilip işlem yapılabilen objeler\n",
    "   \n",
    "   *Iterator* : Iterable bir objenin elemanları üzerinde gezmemize yardımcı olan obje\n",
    "   \n",
    "   *Iterate* : Iterable objeler üzerinde gezme işlemi\n",
    "\n",
    "##### Generator\n",
    "\n",
    "    * Used when dealing with large amounts of data\n",
    "    * Generates data when needed"
   ]
  },
  {
   "cell_type": "code",
   "execution_count": 9,
   "metadata": {
    "scrolled": true
   },
   "outputs": [
    {
     "name": "stdout",
     "output_type": "stream",
     "text": [
      "<function f at 0x10d05e430>\n",
      "<function f at 0x10d05e430>\n",
      "Hello Mustafa\n",
      "Hello Mustafa\n"
     ]
    }
   ],
   "source": [
    "def f(name):\n",
    "    print(\"Hello {}\".format(name))\n",
    "    \n",
    "    \n",
    "#f(\"Mustafa\")\n",
    "#f(\"Micheal\")\n",
    "\n",
    "ikinciFonksiyon = f # function aliasing\n",
    "\n",
    "print(f)\n",
    "print(ikinciFonksiyon)\n",
    "\n",
    "f(\"Mustafa\")\n",
    "ikinciFonksiyon(\"Mustafa\")"
   ]
  },
  {
   "cell_type": "code",
   "execution_count": 19,
   "metadata": {},
   "outputs": [
    {
     "name": "stdout",
     "output_type": "stream",
     "text": [
      "outer\n",
      "inner\n",
      "21\n"
     ]
    }
   ],
   "source": [
    "## Nested Functions\n",
    "\n",
    "def outer(num):\n",
    "    print(\"outer\")\n",
    "    def inner_increment(num):\n",
    "        print(\"inner\")\n",
    "        return num + 1\n",
    "    num2 = inner_increment(num)\n",
    "    return num2 + num\n",
    "\n",
    "\n",
    "print(outer(10))\n",
    "#print(inner_increment(10))"
   ]
  },
  {
   "cell_type": "code",
   "execution_count": 33,
   "metadata": {
    "scrolled": true
   },
   "outputs": [
    {
     "name": "stdout",
     "output_type": "stream",
     "text": [
      "1307674368000\n",
      "120\n",
      "Number must be an integer\n"
     ]
    },
    {
     "ename": "NameError",
     "evalue": "name 'inner_factorial' is not defined",
     "output_type": "error",
     "traceback": [
      "\u001b[0;31m---------------------------------------------------------------------------\u001b[0m",
      "\u001b[0;31mNameError\u001b[0m                                 Traceback (most recent call last)",
      "\u001b[0;32m<ipython-input-33-ae6f1ff1d402>\u001b[0m in \u001b[0;36m<module>\u001b[0;34m\u001b[0m\n\u001b[1;32m     39\u001b[0m \u001b[0;34m\u001b[0m\u001b[0m\n\u001b[1;32m     40\u001b[0m \u001b[0;34m\u001b[0m\u001b[0m\n\u001b[0;32m---> 41\u001b[0;31m \u001b[0mprint\u001b[0m\u001b[0;34m(\u001b[0m\u001b[0minner_factorial\u001b[0m\u001b[0;34m(\u001b[0m\u001b[0;36m10\u001b[0m\u001b[0;34m)\u001b[0m\u001b[0;34m)\u001b[0m\u001b[0;34m\u001b[0m\u001b[0;34m\u001b[0m\u001b[0m\n\u001b[0m",
      "\u001b[0;31mNameError\u001b[0m: name 'inner_factorial' is not defined"
     ]
    }
   ],
   "source": [
    "# Factorial Sample\n",
    "\n",
    "# Recursive Function -> Kendi kendini farklı parametreyle çağıran fonksiyon\n",
    "\n",
    "# f(n) => n * f(n-1)\n",
    "# f(0) = 1\n",
    "# f(5) => 5 * f(4)\n",
    "#      => 5 * 4 * f(3)\n",
    "#      => 5 * 4 * 3 * f(2)\n",
    "#      => 5 * 4 * 3 * 2 * f(1)\n",
    "#      => 5 * 4 * 3 * 2 * 1 * f(0)\n",
    "#      => 5 * 4 * 3 * 2 * 1 * 1\n",
    "\n",
    "#def factorial(n):\n",
    "#    return n * factorial(n-1)\n",
    "\n",
    "\n",
    "def factorial(n):\n",
    "    if not isinstance(n, int):\n",
    "        raise TypeError(\"Number must be an integer\")\n",
    "    if n < 0:\n",
    "        raise ValueError(\"Number must be positive or zero\")\n",
    "    \n",
    "    def inner_factorial(number):\n",
    "        if number == 0:\n",
    "            return 1\n",
    "        else:\n",
    "            return number * inner_factorial(number-1)\n",
    "    return inner_factorial(n)\n",
    " \n",
    "try:\n",
    "    print(factorial(15))\n",
    "    print(factorial(5))\n",
    "    print(factorial('a'))\n",
    "    \n",
    "    print(factorial(-5))\n",
    "except Exception as err:\n",
    "    print(err)\n",
    "    \n",
    "'''\n",
    "inner_factorial(5) => return 5 * 24\n",
    "inner_factorial(4) => return 4 * 6\n",
    "inner_factorial(3) => return 3 * 2\n",
    "inner_factorial(2) => return 2 * 1\n",
    "inner_factorial(1) => return 1 * 1\n",
    "inner_factorial(0) => 1\n",
    "'''"
   ]
  },
  {
   "cell_type": "code",
   "execution_count": 36,
   "metadata": {},
   "outputs": [
    {
     "name": "stdout",
     "output_type": "stream",
     "text": [
      "11\n"
     ]
    }
   ],
   "source": [
    "## Returning Functions\n",
    "\n",
    "def outer():\n",
    "    def inner_function(num):\n",
    "        return num + 1\n",
    "    return inner_function\n",
    "    \n",
    "\n",
    "returned_function = outer()\n",
    "print(returned_function(10))"
   ]
  },
  {
   "cell_type": "code",
   "execution_count": 43,
   "metadata": {},
   "outputs": [
    {
     "name": "stdout",
     "output_type": "stream",
     "text": [
      "<function usalma.<locals>.inner at 0x10ff74af0>\n",
      "25\n",
      "81\n",
      "125\n",
      "729\n",
      "128\n",
      "2187\n"
     ]
    }
   ],
   "source": [
    "# Bu fonksiyon bize, verilen üs ile üs alma fonksiyonu return edecek\n",
    "def usalma(us):\n",
    "    def inner(number):\n",
    "        return number ** us\n",
    "    return inner\n",
    "\n",
    "kare_alma = usalma(2)\n",
    "print(kare_alma)\n",
    "print(kare_alma(5))\n",
    "print(kare_alma(9))\n",
    "\n",
    "kup_alma = usalma(3)\n",
    "print(kup_alma(5))\n",
    "print(kup_alma(9))\n",
    "\n",
    "uzeri_yedi = usalma(7)\n",
    "\n",
    "print(uzeri_yedi(2))\n",
    "print(uzeri_yedi(3))"
   ]
  },
  {
   "cell_type": "code",
   "execution_count": 45,
   "metadata": {},
   "outputs": [
    {
     "name": "stdout",
     "output_type": "stream",
     "text": [
      "15\n",
      "50\n"
     ]
    }
   ],
   "source": [
    "def islem(islem_adi):\n",
    "    def toplam(a,b):\n",
    "        return a+b\n",
    "    def carpim(a,b):\n",
    "        return a*b\n",
    "    \n",
    "    if islem_adi == \"toplama\":\n",
    "        return toplam\n",
    "    elif islem_adi == \"carpma\":\n",
    "        return carpim\n",
    "    \n",
    "    \n",
    "birinci_fonksiyonum = islem(\"toplama\")\n",
    "ikinci_fonksiyonum = islem(\"carpma\")\n",
    "\n",
    "\n",
    "print(birinci_fonksiyonum(10,5))\n",
    "print(ikinci_fonksiyonum(10,5))"
   ]
  },
  {
   "cell_type": "code",
   "execution_count": 49,
   "metadata": {},
   "outputs": [
    {
     "name": "stdout",
     "output_type": "stream",
     "text": [
      "65\n",
      "360\n"
     ]
    }
   ],
   "source": [
    "def islem(islem_adi):\n",
    "    def toplam(*args):\n",
    "        sonuc = 0\n",
    "        for i in args:\n",
    "            sonuc += i\n",
    "        return sonuc\n",
    "    \n",
    "    \n",
    "    def carpim(*args):\n",
    "        sonuc = 1\n",
    "        for i in args:\n",
    "            sonuc *= i\n",
    "        return sonuc\n",
    "    \n",
    "    if islem_adi == \"toplama\":\n",
    "        return toplam\n",
    "    elif islem_adi == \"carpma\":\n",
    "        return carpim\n",
    "    \n",
    "    \n",
    "birinci_fonksiyonum = islem(\"toplama\")\n",
    "ikinci_fonksiyonum = islem(\"carpma\")\n",
    "\n",
    "\n",
    "print(birinci_fonksiyonum(10,5,2,3,41,2,2))\n",
    "print(ikinci_fonksiyonum(10,1,4,9))"
   ]
  },
  {
   "cell_type": "code",
   "execution_count": 55,
   "metadata": {},
   "outputs": [
    {
     "name": "stdout",
     "output_type": "stream",
     "text": [
      "<function yetki_sorgula.<locals>.inner at 0x110032b80>\n",
      "Admin rolü Admin Paneli sayfasına ulaşabilir.\n",
      "User rolü Admin Paneli sayfasına ulaşamaz\n",
      "Anonymous rolü Admin Paneli sayfasına ulaşamaz\n",
      "********************\n",
      "<function yetki_sorgula.<locals>.inner at 0x110032d30>\n",
      "Admin rolü Product Edit sayfasına ulaşabilir.\n",
      "User rolü Product Edit sayfasına ulaşamaz\n",
      "Anonymous rolü Product Edit sayfasına ulaşamaz\n"
     ]
    }
   ],
   "source": [
    "def yetki_sorgula(page):\n",
    "    def inner(role):\n",
    "        if role == \"Admin\":\n",
    "            return \"{} rolü {} sayfasına ulaşabilir.\".format(role, page)\n",
    "        else:\n",
    "            return \"{} rolü {} sayfasına ulaşamaz\".format(role, page)\n",
    "    return inner\n",
    "\n",
    "\n",
    "admin_paneli = yetki_sorgula(\"Admin Paneli\")\n",
    "print(admin_paneli)\n",
    "print(admin_paneli(\"Admin\"))\n",
    "print(admin_paneli(\"User\"))\n",
    "print(admin_paneli(\"Anonymous\"))\n",
    "\n",
    "product_edit = yetki_sorgula(\"Product Edit\")\n",
    "print(\"*\"*20)\n",
    "print(product_edit)\n",
    "print(product_edit(\"Admin\"))\n",
    "print(product_edit(\"User\"))\n",
    "print(product_edit(\"Anonymous\"))"
   ]
  },
  {
   "cell_type": "code",
   "execution_count": 58,
   "metadata": {},
   "outputs": [
    {
     "name": "stdout",
     "output_type": "stream",
     "text": [
      "5.0\n",
      "5.0\n",
      "12\n",
      "8\n"
     ]
    }
   ],
   "source": [
    "## Parameters as Functions\n",
    "\n",
    "def f1(num):\n",
    "    print(num*2)\n",
    "    \n",
    "def f2(num):\n",
    "    print(num/2)\n",
    "    \n",
    "def f3(num):\n",
    "    print(num + 2)\n",
    "\n",
    "def f4(num):\n",
    "    print(num - 2)\n",
    "    \n",
    "def fonksiyon_secici(num, ilk_fonksiyon, ikinci_fonksiyon, tercih):\n",
    "    if tercih == 0:\n",
    "        ilk_fonksiyon(num)\n",
    "    elif tercih == 1:\n",
    "        ikinci_fonksiyon(num)\n",
    "        \n",
    "        \n",
    "fonksiyon_secici(10, f1, f2, 1)\n",
    "fonksiyon_secici(10, f2, f3, 0)\n",
    "fonksiyon_secici(10, f1, f3, 1)\n",
    "fonksiyon_secici(10, f4, f2, 0)"
   ]
  },
  {
   "cell_type": "code",
   "execution_count": 65,
   "metadata": {},
   "outputs": [
    {
     "name": "stdout",
     "output_type": "stream",
     "text": [
      "30\n",
      "200\n",
      "-10\n",
      "0.5\n",
      "100\n",
      "10\n"
     ]
    }
   ],
   "source": [
    "import math\n",
    "\n",
    "def toplama(a,b):\n",
    "    return a + b\n",
    "def carpma(a,b):\n",
    "    return a*b\n",
    "def bolme(a,b):\n",
    "    return a/b\n",
    "def cikarma(a,b):\n",
    "    return a-b\n",
    "def usalma(a,b):\n",
    "    return a**b\n",
    "\n",
    "def ebob(a,b):\n",
    "    return math.gcd(a,b)\n",
    "\n",
    "\n",
    "islemler = {\n",
    "    \"toplama\": toplama,\n",
    "    \"cikarma\": cikarma,\n",
    "    \"bolme\": bolme,\n",
    "    \"carpma\": carpma,\n",
    "    \"usalma\": usalma,\n",
    "    \"ebob\": ebob\n",
    "}\n",
    "\n",
    "\n",
    "def islem(a,b,islem_adi):\n",
    "    yapacagim_islem = islemler[islem_adi]\n",
    "    return yapacagim_islem(a,b)\n",
    "\n",
    "\n",
    "print(islem(10,20,\"toplama\"))\n",
    "print(islem(10,20,\"carpma\"))\n",
    "print(islem(10,20,\"cikarma\"))\n",
    "print(islem(10,20,\"bolme\"))\n",
    "print(islem(10,2,\"usalma\"))\n",
    "print(islem(20,30,\"ebob\"))"
   ]
  },
  {
   "cell_type": "code",
   "execution_count": 81,
   "metadata": {},
   "outputs": [
    {
     "name": "stdout",
     "output_type": "stream",
     "text": [
      "Before Execution\n",
      "\n",
      "() {}\n",
      "Hello World\n",
      "After Execution\n",
      "--------------------\n",
      "Before Execution\n",
      "\n",
      "() {}\n",
      "HELLOOOOOO WOOOOOORORRRLLD\n",
      "After Execution\n",
      "--------------------\n",
      "Before Execution\n",
      "10\n",
      "(10,) {}\n",
      "20\n",
      "After Execution\n"
     ]
    }
   ],
   "source": [
    "## Decorators\n",
    "\n",
    "def f1(func):\n",
    "    # wrapper function\n",
    "    def inner(*args, **kwargs):\n",
    "        print(\"Before Execution\")\n",
    "        func(*args, **kwargs)\n",
    "        print(\"After Execution\")\n",
    "    return inner\n",
    "\n",
    "\n",
    "def hello():\n",
    "    print(\"Hello World\")\n",
    "    \n",
    "    \n",
    "def helloButLonger():\n",
    "    print(\"HELLOOOOOO WOOOOOORORRRLLD\")\n",
    "\n",
    "    \n",
    "def ikiKatiniEkranaBas(num):\n",
    "    print(num*2)\n",
    "    \n",
    "yeni_fonksiyon = f1(hello)\n",
    "diger_fonksiyon = f1(helloButLonger)\n",
    "parametreli_fonksiyon = f1(ikiKatiniEkranaBas)\n",
    "\n",
    "\n",
    "yeni_fonksiyon()\n",
    "print(\"-\"*20)\n",
    "diger_fonksiyon()\n",
    "print(\"-\"*20)\n",
    "\n",
    "parametreli_fonksiyon(10)"
   ]
  },
  {
   "cell_type": "code",
   "execution_count": 96,
   "metadata": {
    "scrolled": true
   },
   "outputs": [
    {
     "name": "stdout",
     "output_type": "stream",
     "text": [
      "243\n",
      "--------------------\n",
      "usalma fonksiyonu başladı.\n",
      "243\n",
      "usalma fonksiyonu bitti.\n",
      "8\n",
      "--------------------\n",
      "toplama fonksiyonu başladı.\n",
      "8\n",
      "toplama fonksiyonu bitti.\n",
      "\n",
      "factorial fonksiyonu başladı.\n",
      "120\n",
      "factorial fonksiyonu bitti.\n"
     ]
    }
   ],
   "source": [
    "def my_decorator(func):\n",
    "    def inner(*args, **kwargs):\n",
    "        print(\"{} fonksiyonu başladı.\".format(func.__name__))\n",
    "        func(*args, **kwargs)\n",
    "        print(\"{} fonksiyonu bitti.\".format(func.__name__))\n",
    "    return inner    \n",
    "    \n",
    "    \n",
    "def usalma(a, b):\n",
    "    print(a ** b)\n",
    "\n",
    "def toplama(a, b):\n",
    "    print(a + b)\n",
    "\n",
    "durum_usalma = my_decorator(usalma)\n",
    "durum_toplama = my_decorator(toplama)\n",
    "\n",
    "\n",
    "usalma(3,5)\n",
    "print(\"-\"*20)\n",
    "durum_usalma(3,5)\n",
    "\n",
    "\n",
    "toplama(3,5)\n",
    "print(\"-\"*20)\n",
    "durum_toplama(3,5)\n",
    "\n",
    "print()\n",
    "\n",
    "@my_decorator\n",
    "def factorial(n):\n",
    "    sonuc = 1\n",
    "    for i in range(1, n+1):\n",
    "        sonuc *= i\n",
    "    print(sonuc)\n",
    "    \n",
    "    \n",
    "factorial(5)"
   ]
  },
  {
   "cell_type": "code",
   "execution_count": 107,
   "metadata": {},
   "outputs": [
    {
     "name": "stdout",
     "output_type": "stream",
     "text": [
      "Hello World\n",
      "hello fonksiyonu 0.00022101402282714844 saniye sürdü.\n",
      "Bitti\n",
      "factorial fonksiyonu 8.207183837890625 saniye sürdü.\n"
     ]
    }
   ],
   "source": [
    "import time\n",
    "import math\n",
    "\n",
    "def calculate_time(func):\n",
    "    def inner(*args, **kwargs):\n",
    "        start = time.time()\n",
    "        func(*args, **kwargs)\n",
    "        end = time.time()\n",
    "        print(\"{} fonksiyonu {} saniye sürdü.\".format(func.__name__, end-start))\n",
    "    return inner\n",
    "\n",
    "@calculate_time\n",
    "def hello():\n",
    "    print(\"Hello World\")\n",
    "    \n",
    "@calculate_time\n",
    "def factorial(n):\n",
    "    a = math.factorial(n)\n",
    "    print(\"Bitti\")\n",
    "    \n",
    "hello()\n",
    "factorial(1000000)"
   ]
  },
  {
   "cell_type": "code",
   "execution_count": 121,
   "metadata": {
    "scrolled": true
   },
   "outputs": [
    {
     "name": "stdout",
     "output_type": "stream",
     "text": [
      "<list_iterator object at 0x110898b80>\n",
      "1\n",
      "2\n",
      "3\n",
      "4\n",
      "5\n"
     ]
    },
    {
     "ename": "StopIteration",
     "evalue": "",
     "output_type": "error",
     "traceback": [
      "\u001b[0;31m---------------------------------------------------------------------------\u001b[0m",
      "\u001b[0;31mStopIteration\u001b[0m                             Traceback (most recent call last)",
      "\u001b[0;32m<ipython-input-121-9086281d9827>\u001b[0m in \u001b[0;36m<module>\u001b[0;34m\u001b[0m\n\u001b[1;32m     20\u001b[0m \u001b[0mprint\u001b[0m\u001b[0;34m(\u001b[0m\u001b[0mnext\u001b[0m\u001b[0;34m(\u001b[0m\u001b[0mmyIterator\u001b[0m\u001b[0;34m)\u001b[0m\u001b[0;34m)\u001b[0m\u001b[0;34m\u001b[0m\u001b[0;34m\u001b[0m\u001b[0m\n\u001b[1;32m     21\u001b[0m \u001b[0mprint\u001b[0m\u001b[0;34m(\u001b[0m\u001b[0mnext\u001b[0m\u001b[0;34m(\u001b[0m\u001b[0mmyIterator\u001b[0m\u001b[0;34m)\u001b[0m\u001b[0;34m)\u001b[0m\u001b[0;34m\u001b[0m\u001b[0;34m\u001b[0m\u001b[0m\n\u001b[0;32m---> 22\u001b[0;31m \u001b[0mprint\u001b[0m\u001b[0;34m(\u001b[0m\u001b[0mnext\u001b[0m\u001b[0;34m(\u001b[0m\u001b[0mmyIterator\u001b[0m\u001b[0;34m)\u001b[0m\u001b[0;34m)\u001b[0m\u001b[0;34m\u001b[0m\u001b[0;34m\u001b[0m\u001b[0m\n\u001b[0m\u001b[1;32m     23\u001b[0m \u001b[0;34m\u001b[0m\u001b[0m\n\u001b[1;32m     24\u001b[0m \u001b[0;34m\u001b[0m\u001b[0m\n",
      "\u001b[0;31mStopIteration\u001b[0m: "
     ]
    }
   ],
   "source": [
    "## Iterators\n",
    "# List\n",
    "# Dictionary\n",
    "# Tuple\n",
    "# String\n",
    "# Set\n",
    "\n",
    "myList = [1, 2, 3, 4, 5]\n",
    "\n",
    "myIterator = iter(myList)\n",
    "print(myIterator)\n",
    "\n",
    "# myIterator içerisinde tutulan bilgiler:\n",
    "# * En son hangi elemanda kaldı\n",
    "# * Sıradaki eleman hangisi\n",
    "\n",
    "print(next(myIterator))\n",
    "print(next(myIterator))\n",
    "print(next(myIterator))\n",
    "print(next(myIterator))\n",
    "print(next(myIterator))\n",
    "print(next(myIterator))\n",
    "\n",
    "\n",
    "\n",
    "print(\"FOR\".center(20, \"*\"))\n",
    "for i in myList:\n",
    "    print(i)\n",
    "    \n",
    "print(\"WHILE\".center(20, \"*\"))\n",
    "\n",
    "\n",
    "while True:\n",
    "    try:\n",
    "        print(next(myIterator))\n",
    "    except StopIteration:\n",
    "        break\n",
    "        \n",
    "        \n"
   ]
  },
  {
   "cell_type": "code",
   "execution_count": 133,
   "metadata": {},
   "outputs": [
    {
     "name": "stdout",
     "output_type": "stream",
     "text": [
      "8 10 12 14 16 18 20 22 24 26 28 30 32 34 36 38 40 42 44 46 48 50 52 54 56 58 60 62 64 66 68 70 72 74 76 78 80 82 84 86 88 90 92 94 "
     ]
    }
   ],
   "source": [
    "# Iterable Classes\n",
    "class EvenNumbers:\n",
    "    def __init__(self, start, end):\n",
    "        if start % 2 == 1:\n",
    "            self.start = start + 1\n",
    "        else:\n",
    "            self.start = start\n",
    "        self.end = end\n",
    "        self.current = self.start\n",
    "        \n",
    "    def __iter__(self):\n",
    "        return self\n",
    "    \n",
    "    def __next__(self):\n",
    "        if self.current <= self.end:\n",
    "            temp = self.current\n",
    "            self.current += 2\n",
    "            return temp\n",
    "        else:\n",
    "            raise StopIteration\n",
    "    \n",
    "    \n",
    "    \n",
    "myEvenNumbers = EvenNumbers(7,94)\n",
    "myIterator = iter(myEvenNumbers)\n",
    "\n",
    "for number in myEvenNumbers:\n",
    "    print(number, end = \" \")"
   ]
  },
  {
   "cell_type": "code",
   "execution_count": 151,
   "metadata": {},
   "outputs": [
    {
     "name": "stdout",
     "output_type": "stream",
     "text": [
      "0 1 8 27 64 125 216 343 512 729 \n",
      "--------------\n",
      "0\n",
      "1\n",
      "8\n",
      "27\n",
      "64\n"
     ]
    }
   ],
   "source": [
    "## Generators\n",
    "\n",
    "# 1'den n'e kadar bütün sayıların küpünü alıp bir listeye atıyor, ve listeyi return ediyor\n",
    "def cube(n):\n",
    "    result = []\n",
    "    for i in range(n):\n",
    "        result.append(i**3)\n",
    "    return result\n",
    "\n",
    "\n",
    "myCubeList = cube(10)\n",
    "for sayi in myCubeList:\n",
    "    print(sayi, end = \" \")\n",
    "    \n",
    "\n",
    "print('\\n--------------')\n",
    "\n",
    "def cubeGenerator(n):\n",
    "    for i in range(n):\n",
    "        yield i**3\n",
    "        \n",
    "myCubeGenerator = cubeGenerator(10)\n",
    "for sayi in myCubeGenerator:\n",
    "    print(sayi, end = \" \")\n",
    "    \n",
    "    "
   ]
  }
 ],
 "metadata": {
  "kernelspec": {
   "display_name": "Python 3",
   "language": "python",
   "name": "python3"
  },
  "language_info": {
   "codemirror_mode": {
    "name": "ipython",
    "version": 3
   },
   "file_extension": ".py",
   "mimetype": "text/x-python",
   "name": "python",
   "nbconvert_exporter": "python",
   "pygments_lexer": "ipython3",
   "version": "3.9.0"
  }
 },
 "nbformat": 4,
 "nbformat_minor": 4
}

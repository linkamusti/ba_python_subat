{
 "cells": [
  {
   "cell_type": "code",
   "execution_count": 1,
   "metadata": {
    "scrolled": true
   },
   "outputs": [
    {
     "name": "stdout",
     "output_type": "stream",
     "text": [
      "['A', 'ASCII', 'DEBUG', 'DOTALL', 'I', 'IGNORECASE', 'L', 'LOCALE', 'M', 'MULTILINE', 'Match', 'Pattern', 'RegexFlag', 'S', 'Scanner', 'T', 'TEMPLATE', 'U', 'UNICODE', 'VERBOSE', 'X', '_MAXCACHE', '__all__', '__builtins__', '__cached__', '__doc__', '__file__', '__loader__', '__name__', '__package__', '__spec__', '__version__', '_cache', '_compile', '_compile_repl', '_expand', '_locale', '_pickle', '_special_chars_map', '_subx', 'compile', 'copyreg', 'enum', 'error', 'escape', 'findall', 'finditer', 'fullmatch', 'functools', 'match', 'purge', 'search', 'split', 'sre_compile', 'sre_parse', 'sub', 'subn', 'template']\n"
     ]
    }
   ],
   "source": [
    "import re\n",
    "print(dir(re))"
   ]
  },
  {
   "cell_type": "code",
   "execution_count": 40,
   "metadata": {},
   "outputs": [],
   "source": [
    "cumle = \"Python Kursu: Python \\tProgramlama Rehberiniz | 40 saat\""
   ]
  },
  {
   "cell_type": "code",
   "execution_count": 41,
   "metadata": {},
   "outputs": [
    {
     "name": "stdout",
     "output_type": "stream",
     "text": [
      "['Python', 'Python']\n",
      "['Python', 'Kursu:', 'Python', '\\tProgramlama', 'Rehberiniz', '|', '40', 'saat']\n",
      "Python-Kursu:-Python-\tProgramlama-Rehberiniz-|-40-saat\n",
      "Python-Kursu:-Python--Programlama-Rehberiniz-|-40-saat\n",
      "<re.Match object; span=(0, 6), match='Python'>\n",
      "0\n",
      "6\n"
     ]
    }
   ],
   "source": [
    "result = re.findall(\"Python\", cumle) # Verilen formata uyan bütün stringleri buluyor\n",
    "print(result)\n",
    "\n",
    "result = re.split(\" \", cumle) # Verilen string ile ayrılmış bütün stringlerden bir liste oluşturuyorr\n",
    "print(result)\n",
    "\n",
    "result = re.sub(\" \", \"-\", cumle) # Verilen ilk stringi, ikinci stringle değiştiriyor.\n",
    "print(result)\n",
    "\n",
    "result = re.sub(\"\\s\", \"-\", cumle) # Verilen ilk stringi, ikinci stringle değiştiriyor. (\\s bütün whitespaceler)\n",
    "print(result)\n",
    "\n",
    "result = re.search(\"Python\", cumle) # Verilen formata uyan İLK string hakkında bilgi veriyor\n",
    "print(result)\n",
    "print(result.start())\n",
    "print(result.end())"
   ]
  },
  {
   "cell_type": "code",
   "execution_count": 58,
   "metadata": {},
   "outputs": [
    {
     "name": "stdout",
     "output_type": "stream",
     "text": [
      "['a', 'a', 'a', 'c']\n",
      "<re.Match object; span=(15, 16), match='a'>\n",
      "<re.Match object; span=(0, 1), match='H'>\n",
      "['abc', 'aaa']\n",
      "['abc', 'aaa']\n",
      "['ç']\n"
     ]
    }
   ],
   "source": [
    "'''\n",
    "    [] - Köşeli parantezler arasına yazılan bütün karakterler aranır\n",
    "    \n",
    "    [abc] => a : match\n",
    "             ac: match\n",
    "             Python: no match\n",
    "\n",
    "    [a-e] => [abcde]\n",
    "    [1-5] => [1234]\n",
    "    [0-39] => [01239]\n",
    "\n",
    "'''\n",
    "\n",
    "cumle = \"Hello world. I am a Python teacher\"\n",
    "result = re.findall('[abc]', cumle)\n",
    "print(result)\n",
    "\n",
    "result = re.search(\"[abc]\", cumle)\n",
    "print(result)\n",
    "\n",
    "\n",
    "\n",
    "'''\n",
    "    ^ - Değil karakteri. Örneğin:\n",
    "    [^abc] => abc olmayan bütün karakterler anlamına gelir\n",
    "    [^0-9] => 0 1 2 3 4 5 6 7 8 9 dışındaki tüm karakterler\n",
    "\n",
    "\n",
    "    Sadece köşeli parantez içindeyken olumsuz anlam kazanır.\n",
    "'''\n",
    "\n",
    "result = re.search(\"[^abc]\", cumle)\n",
    "print(result)\n",
    "\n",
    "\n",
    "'''\n",
    "    {} - Birden fazla karakter olduğunu belirtmek için kullanılır.\n",
    "    \n",
    "    [abc]{3} => 3 tane yan yana gelen ve sadece a veya b veya c olan karakterlerden oluşan bir string\n",
    "    \n",
    "'''\n",
    "\n",
    "cumle = \"çocuğumun ilk sözleri abc oldu. Nerminlerin çocuğu ise aaabcd demiş.\"\n",
    "result = re.findall(\"[abc]{3}\", cumle)\n",
    "print(result)\n",
    "\n",
    "\n",
    "'''\n",
    "    . => Herhangi bir(1) karakteri belirtir.\n",
    "        a. => a: No match\n",
    "              ab: match\n",
    "              ac: match\n",
    "              abbc: match (ab)\n",
    "              ba: no match\n",
    "'''\n",
    "\n",
    "result = re.findall(\"a..\", cumle)\n",
    "print(result)\n",
    "\n",
    "\n",
    "'''\n",
    "     ^ => Eğer baştaysa, stringin belirtilen karakterle başlayıp başlamadığını kontrol eder. \n",
    "\n",
    "        ^a => ahmet: match\n",
    "              sülo: no match\n",
    "\n",
    "'''\n",
    "\n",
    "result = re.findall(\"^ç\", cumle)\n",
    "print(result)\n",
    "\n",
    "'''\n",
    "    $ => belirtilen karakterle bitiyor mu?\n",
    "        a$ => a : match\n",
    "              lamba: match\n",
    "              python: no match\n",
    "\n",
    "\n",
    "    * => Kendinden önce gelen karakterden sıfır ya da daha fazla olmasını kontrol eder\n",
    "        ma*n => man: match\n",
    "                maaaaaan: match\n",
    "                mn: match\n",
    "                main: no match\n",
    "    + => Kendinden önce gelen karakterden BİR ya da daha fazla olmasını kontrol eder.\n",
    "        ma+n => man: match\n",
    "                maaaaaan: match\n",
    "                mn: no match\n",
    "                main: no match\n",
    "    ? => Kendinden önce gelen karakterin bir ya da sıfır kere bulunabileceğini kontrol eder.\n",
    "        ma?n => man: match\n",
    "                mn: match\n",
    "                maaaaan: no match\n",
    "                main: no match\n",
    "'''\n",
    "\n"
   ]
  },
  {
   "cell_type": "code",
   "execution_count": 65,
   "metadata": {},
   "outputs": [
    {
     "ename": "SyntaxError",
     "evalue": "invalid syntax (<ipython-input-65-a83d671414ec>, line 6)",
     "output_type": "error",
     "traceback": [
      "\u001b[0;36m  File \u001b[0;32m\"<ipython-input-65-a83d671414ec>\"\u001b[0;36m, line \u001b[0;32m6\u001b[0m\n\u001b[0;31m    if result != None\u001b[0m\n\u001b[0m                     ^\u001b[0m\n\u001b[0;31mSyntaxError\u001b[0m\u001b[0;31m:\u001b[0m invalid syntax\n"
     ]
    }
   ],
   "source": [
    "def ibanChecker(iban):\n",
    "    iban_regex = \"^TR[0-9]{24}\"\n",
    "\n",
    "    result = re.search(iban_regex, iban)\n",
    "\n",
    "    if result != None:\n",
    "        return True\n",
    "    else:\n",
    "        return False\n",
    "    \n",
    "\n",
    "iban = input(\"IBAN bilginizi girin: \")\n",
    "\n",
    "if ibanChecker(iban):\n",
    "    print(\"Doğru IBAN girdiniz.\")\n",
    "else:\n",
    "    print(\"Hatalı IBAN girdiniz.\")\n",
    "\n"
   ]
  }
 ],
 "metadata": {
  "kernelspec": {
   "display_name": "Python 3",
   "language": "python",
   "name": "python3"
  },
  "language_info": {
   "codemirror_mode": {
    "name": "ipython",
    "version": 3
   },
   "file_extension": ".py",
   "mimetype": "text/x-python",
   "name": "python",
   "nbconvert_exporter": "python",
   "pygments_lexer": "ipython3",
   "version": "3.9.0"
  }
 },
 "nbformat": 4,
 "nbformat_minor": 4
}

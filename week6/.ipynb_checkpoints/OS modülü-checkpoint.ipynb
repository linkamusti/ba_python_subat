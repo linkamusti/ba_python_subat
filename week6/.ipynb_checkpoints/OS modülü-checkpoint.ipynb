{
 "cells": [
  {
   "cell_type": "code",
   "execution_count": 3,
   "metadata": {
    "scrolled": true
   },
   "outputs": [
    {
     "name": "stdout",
     "output_type": "stream",
     "text": [
      "['CLD_CONTINUED', 'CLD_DUMPED', 'CLD_EXITED', 'CLD_KILLED', 'CLD_STOPPED', 'CLD_TRAPPED', 'DirEntry', 'EX_CANTCREAT', 'EX_CONFIG', 'EX_DATAERR', 'EX_IOERR', 'EX_NOHOST', 'EX_NOINPUT', 'EX_NOPERM', 'EX_NOUSER', 'EX_OK', 'EX_OSERR', 'EX_OSFILE', 'EX_PROTOCOL', 'EX_SOFTWARE', 'EX_TEMPFAIL', 'EX_UNAVAILABLE', 'EX_USAGE', 'F_LOCK', 'F_OK', 'F_TEST', 'F_TLOCK', 'F_ULOCK', 'GenericAlias', 'Mapping', 'MutableMapping', 'NGROUPS_MAX', 'O_ACCMODE', 'O_APPEND', 'O_ASYNC', 'O_CLOEXEC', 'O_CREAT', 'O_DIRECTORY', 'O_DSYNC', 'O_EXCL', 'O_EXLOCK', 'O_NDELAY', 'O_NOCTTY', 'O_NOFOLLOW', 'O_NONBLOCK', 'O_RDONLY', 'O_RDWR', 'O_SHLOCK', 'O_SYNC', 'O_TRUNC', 'O_WRONLY', 'POSIX_SPAWN_CLOSE', 'POSIX_SPAWN_DUP2', 'POSIX_SPAWN_OPEN', 'PRIO_PGRP', 'PRIO_PROCESS', 'PRIO_USER', 'P_ALL', 'P_NOWAIT', 'P_NOWAITO', 'P_PGID', 'P_PID', 'P_WAIT', 'PathLike', 'RTLD_GLOBAL', 'RTLD_LAZY', 'RTLD_LOCAL', 'RTLD_NODELETE', 'RTLD_NOLOAD', 'RTLD_NOW', 'R_OK', 'SCHED_FIFO', 'SCHED_OTHER', 'SCHED_RR', 'SEEK_CUR', 'SEEK_END', 'SEEK_SET', 'ST_NOSUID', 'ST_RDONLY', 'TMP_MAX', 'WCONTINUED', 'WCOREDUMP', 'WEXITED', 'WEXITSTATUS', 'WIFCONTINUED', 'WIFEXITED', 'WIFSIGNALED', 'WIFSTOPPED', 'WNOHANG', 'WNOWAIT', 'WSTOPPED', 'WSTOPSIG', 'WTERMSIG', 'WUNTRACED', 'W_OK', 'X_OK', '_Environ', '__all__', '__builtins__', '__cached__', '__doc__', '__file__', '__loader__', '__name__', '__package__', '__spec__', '_check_methods', '_execvpe', '_exists', '_exit', '_fspath', '_get_exports_list', '_spawnvef', '_walk', '_wrap_close', 'abc', 'abort', 'access', 'altsep', 'chdir', 'chflags', 'chmod', 'chown', 'chroot', 'close', 'closerange', 'confstr', 'confstr_names', 'cpu_count', 'ctermid', 'curdir', 'defpath', 'device_encoding', 'devnull', 'dup', 'dup2', 'environ', 'environb', 'error', 'execl', 'execle', 'execlp', 'execlpe', 'execv', 'execve', 'execvp', 'execvpe', 'extsep', 'fchdir', 'fchmod', 'fchown', 'fdopen', 'fork', 'forkpty', 'fpathconf', 'fsdecode', 'fsencode', 'fspath', 'fstat', 'fstatvfs', 'fsync', 'ftruncate', 'get_blocking', 'get_exec_path', 'get_inheritable', 'get_terminal_size', 'getcwd', 'getcwdb', 'getegid', 'getenv', 'getenvb', 'geteuid', 'getgid', 'getgrouplist', 'getgroups', 'getloadavg', 'getlogin', 'getpgid', 'getpgrp', 'getpid', 'getppid', 'getpriority', 'getsid', 'getuid', 'initgroups', 'isatty', 'kill', 'killpg', 'lchflags', 'lchmod', 'lchown', 'linesep', 'link', 'listdir', 'lockf', 'lseek', 'lstat', 'major', 'makedev', 'makedirs', 'minor', 'mkdir', 'mkfifo', 'mknod', 'name', 'nice', 'open', 'openpty', 'pardir', 'path', 'pathconf', 'pathconf_names', 'pathsep', 'pipe', 'popen', 'posix_spawn', 'posix_spawnp', 'pread', 'putenv', 'pwrite', 'read', 'readlink', 'readv', 'register_at_fork', 'remove', 'removedirs', 'rename', 'renames', 'replace', 'rmdir', 'scandir', 'sched_get_priority_max', 'sched_get_priority_min', 'sched_yield', 'sendfile', 'sep', 'set_blocking', 'set_inheritable', 'setegid', 'seteuid', 'setgid', 'setgroups', 'setpgid', 'setpgrp', 'setpriority', 'setregid', 'setreuid', 'setsid', 'setuid', 'spawnl', 'spawnle', 'spawnlp', 'spawnlpe', 'spawnv', 'spawnve', 'spawnvp', 'spawnvpe', 'st', 'stat', 'stat_result', 'statvfs', 'statvfs_result', 'strerror', 'supports_bytes_environ', 'supports_dir_fd', 'supports_effective_ids', 'supports_fd', 'supports_follow_symlinks', 'symlink', 'sync', 'sys', 'sysconf', 'sysconf_names', 'system', 'tcgetpgrp', 'tcsetpgrp', 'terminal_size', 'times', 'times_result', 'truncate', 'ttyname', 'umask', 'uname', 'uname_result', 'unlink', 'unsetenv', 'urandom', 'utime', 'wait', 'wait3', 'wait4', 'waitpid', 'waitstatus_to_exitcode', 'walk', 'write', 'writev']\n"
     ]
    }
   ],
   "source": [
    "import os # Operating System\n",
    "import datetime\n",
    "# herhangi bir modül hakkında bilgi almak için dir komutunu kullanabilrsiniz\n",
    "print(dir(os))"
   ]
  },
  {
   "cell_type": "code",
   "execution_count": 25,
   "metadata": {},
   "outputs": [
    {
     "name": "stdout",
     "output_type": "stream",
     "text": [
      "posix\n",
      "/Users/mustafakemaltas/Desktop/Bilge Adam Python 2/week6\n",
      "/Users/mustafakemaltas/Desktop\n",
      "['bilge.txt', 'deneme', 'Functions-2.ipynb', 'Date Modülü.ipynb', 'input.txt', 'Week 5 tekrar.ipynb', '.ipynb_checkpoints', 'output.txt', 'OS modülü.ipynb']\n",
      "Functions-2.ipynb\n",
      "Date Modülü.ipynb\n",
      "Week 5 tekrar.ipynb\n",
      "OS modülü.ipynb\n",
      "os.stat_result(st_mode=33188, st_ino=24568033, st_dev=16777221, st_nlink=1, st_uid=501, st_gid=20, st_size=41, st_atime=1617465355, st_mtime=1617452345, st_ctime=1617452345)\n"
     ]
    }
   ],
   "source": [
    "import os\n",
    "\n",
    "# İşletim Sisteminin ismini ekrana basmak için:\n",
    "print(os.name)\n",
    "\n",
    "os.chdir(\"/Users/mustafakemaltas/Desktop/Bilge Adam Python 2/week6\") # change directory\n",
    "# Kodun çalışma anında hangi klasörde bulunduğunu bulmak için:\n",
    "print(os.getcwd()) # get current working directory\n",
    "\n",
    "os.chdir(\"/Users/mustafakemaltas/Desktop\") # change directory\n",
    "# Kodun çalışma alanını değiştirmek için:\n",
    "print(os.getcwd()) # get current working directory\n",
    "\n",
    "# Geri dönmek için yazdım\n",
    "os.chdir(\"/Users/mustafakemaltas/Desktop/Bilge Adam Python 2/week6\") # change directory\n",
    "\n",
    "\n",
    "# Yeni bir klasör oluşturmak için:\n",
    "#os.mkdir(\"deneme\") # Make directory (derste tekrar tekrar klasör oluşturmaya çalıştığı için comment out edildi)\n",
    "os.chdir(\"deneme\")\n",
    "\n",
    "f = open(\"deneme.txt\", \"w\")\n",
    "f.write(\"Kodum buraya kadar geldi\\nBir de bunları yazdı\")\n",
    "f.close()\n",
    "os.chdir(\"..\") ## Bir önceki klasöre dönmek için\n",
    "print(\"-\"*20)\n",
    "\n",
    "\n",
    "# Birden fazla iç içe klasöre oluşturmak için:\n",
    "#os.makedirs(\"deneme/ortanca/en_icerisi/daha_da_dibi\")\n",
    "\n",
    "\n",
    "# Çalışma alanımızda (working directory) bulunan dosyaları listelemek için:\n",
    "\n",
    "print(os.listdir()) # list directory\n",
    "\n",
    "print(\"-\"*20)\n",
    "\n",
    "## Directory listelerken filtreleyerek listeleme:\n",
    "\n",
    "for dosya in os.listdir():\n",
    "    if dosya.endswith(\".ipynb\"):\n",
    "        print(dosya)\n",
    "        \n",
    "        \n",
    "# Bir dosya hakkında detaylı bilgiler görüntülemek için:\n",
    "\n",
    "print(\"-\"*20)\n",
    "file_stats = os.stat(\"output.txt\")\n",
    "print(file_stats)"
   ]
  }
 ],
 "metadata": {
  "kernelspec": {
   "display_name": "Python 3",
   "language": "python",
   "name": "python3"
  },
  "language_info": {
   "codemirror_mode": {
    "name": "ipython",
    "version": 3
   },
   "file_extension": ".py",
   "mimetype": "text/x-python",
   "name": "python",
   "nbconvert_exporter": "python",
   "pygments_lexer": "ipython3",
   "version": "3.9.0"
  }
 },
 "nbformat": 4,
 "nbformat_minor": 4
}

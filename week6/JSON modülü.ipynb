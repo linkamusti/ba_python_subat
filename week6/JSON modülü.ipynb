{
 "cells": [
  {
   "cell_type": "code",
   "execution_count": 11,
   "metadata": {},
   "outputs": [
    {
     "name": "stdout",
     "output_type": "stream",
     "text": [
      "{\"name\": \"Mustafa\",\"age\": 26,\"email\": \"mkemaltas@sabanciuniv.edu\"}\n",
      "<class 'str'>\n",
      "{'name': 'Mustafa', 'age': 26, 'email': 'mkemaltas@sabanciuniv.edu'}\n",
      "<class 'dict'>\n",
      "Mustafa\n",
      "{\"a\": 1, \"b\": 2, \"c\": 3}\n",
      "<class 'str'>\n"
     ]
    }
   ],
   "source": [
    "import json\n",
    "\n",
    "\n",
    "JSON_RESPONSE = '{\"name\": \"Mustafa\",\"age\": 26,\"email\": \"mkemaltas@sabanciuniv.edu\"}'\n",
    "\n",
    "parsed_response = json.loads(JSON_RESPONSE) # Load dictionary from String \n",
    "\n",
    "\n",
    "print(JSON_RESPONSE)\n",
    "print(type(JSON_RESPONSE))\n",
    "\n",
    "print(parsed_response)\n",
    "print(type(parsed_response))\n",
    "print(parsed_response['name'])\n",
    "\n",
    "\n",
    "my_dict = { \"a\": 1, \"b\": 2, \"c\": 3}\n",
    "\n",
    "str_dict = json.dumps(my_dict) # Dictionary to string\n",
    "print(str_dict)\n",
    "print(type(str_dict))"
   ]
  }
 ],
 "metadata": {
  "kernelspec": {
   "display_name": "Python 3",
   "language": "python",
   "name": "python3"
  },
  "language_info": {
   "codemirror_mode": {
    "name": "ipython",
    "version": 3
   },
   "file_extension": ".py",
   "mimetype": "text/x-python",
   "name": "python",
   "nbconvert_exporter": "python",
   "pygments_lexer": "ipython3",
   "version": "3.9.0"
  }
 },
 "nbformat": 4,
 "nbformat_minor": 4
}

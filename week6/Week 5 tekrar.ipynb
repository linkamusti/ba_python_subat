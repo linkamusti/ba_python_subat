{
 "cells": [
  {
   "cell_type": "markdown",
   "metadata": {},
   "source": [
    "## File Operations\n",
    "\n",
    "* Read \n",
    "* Write\n",
    "* Append\n",
    "\n",
    "\n",
    "\n",
    "**open**(filename, mode)"
   ]
  },
  {
   "cell_type": "code",
   "execution_count": 4,
   "metadata": {},
   "outputs": [],
   "source": [
    "f = open(\"output.txt\", \"w\") # write modunda dosya açıyor\n",
    "\n",
    "f.write('Hello World!\\n')\n",
    "\n",
    "f.close()"
   ]
  },
  {
   "cell_type": "code",
   "execution_count": 5,
   "metadata": {},
   "outputs": [],
   "source": [
    "f = open(\"output.txt\", \"a\") # append modunda dosya açıyor\n",
    "\n",
    "f.write('Hello World Again! (append)\\n')\n",
    "\n",
    "f.close()"
   ]
  },
  {
   "cell_type": "code",
   "execution_count": 6,
   "metadata": {},
   "outputs": [
    {
     "name": "stdout",
     "output_type": "stream",
     "text": [
      "Hello World!\n",
      "Hello World Again! (append)\n",
      "\n"
     ]
    }
   ],
   "source": [
    "f = open(\"output.txt\", \"r\") # read modunda dosya açıyor\n",
    "\n",
    "content = f.read() # Dosya içeriğinin tamamını okuyoruz.\n",
    "print(content)\n",
    "\n",
    "f.close()"
   ]
  },
  {
   "cell_type": "code",
   "execution_count": 7,
   "metadata": {},
   "outputs": [
    {
     "name": "stdout",
     "output_type": "stream",
     "text": [
      "Hello World!\n",
      "\n",
      "Hello World Again! (append)\n",
      "\n"
     ]
    }
   ],
   "source": [
    "f = open(\"output.txt\", \"r\") # read modunda dosya açıyor\n",
    "\n",
    "for line in f: # dosyayı satır satır okuyoruz\n",
    "    print(line)\n",
    "    \n",
    "f.close()"
   ]
  },
  {
   "cell_type": "code",
   "execution_count": 9,
   "metadata": {},
   "outputs": [
    {
     "name": "stdout",
     "output_type": "stream",
     "text": [
      "orld!\n",
      "Hello World Again! (append)\n",
      "\n"
     ]
    }
   ],
   "source": [
    "f = open('output.txt', \"r\") # read modunda dosya açıyor\n",
    "\n",
    "f.seek(7) # 7.karaktere atlıyoruz\n",
    "\n",
    "content = f.read() # f.seek ile belirttiğimiz yerden itibaren okuyor\n",
    "\n",
    "print(content)\n",
    "\n",
    "f.close()"
   ]
  },
  {
   "cell_type": "code",
   "execution_count": 12,
   "metadata": {},
   "outputs": [],
   "source": [
    "## Bir dosyanın bütün satırlarını tersten aynı dosyaya yazalım.\n",
    "\n",
    "# Bütün satırları bir listeye atacağız\n",
    "# Dosyayı kapatıp, write modunda açacağız\n",
    "# Listedeki satırları tersten bu dosyaya yazacağız\n",
    "\n",
    "f = open(\"input.txt\", \"r\")\n",
    "\n",
    "lines = f.readlines()\n",
    "\n",
    "f.close()\n",
    "f = open(\"input.txt\", \"w\")\n",
    "\n",
    "for line in lines[::-1]:\n",
    "    f.write(line)\n",
    "    \n",
    "f.close()"
   ]
  }
 ],
 "metadata": {
  "kernelspec": {
   "display_name": "Python 3",
   "language": "python",
   "name": "python3"
  },
  "language_info": {
   "codemirror_mode": {
    "name": "ipython",
    "version": 3
   },
   "file_extension": ".py",
   "mimetype": "text/x-python",
   "name": "python",
   "nbconvert_exporter": "python",
   "pygments_lexer": "ipython3",
   "version": "3.9.0"
  }
 },
 "nbformat": 4,
 "nbformat_minor": 4
}

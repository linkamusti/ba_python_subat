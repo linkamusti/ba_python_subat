{
 "cells": [
  {
   "cell_type": "code",
   "execution_count": 12,
   "metadata": {
    "scrolled": true
   },
   "outputs": [
    {
     "name": "stdout",
     "output_type": "stream",
     "text": [
      "[10 15 30 45 60]\n",
      "[ 5  6  7  8  9 10 11 12 13 14]\n",
      "[50 55 60 65 70 75 80 85 90 95]\n",
      "[0. 0. 0. 0. 0. 0. 0. 0. 0. 0.]\n",
      "[1. 1. 1. 1. 1. 1. 1. 1. 1. 1.]\n",
      "[  0.  25.  50.  75. 100.]\n",
      "[19 22 12 15 22]\n",
      "[ 0.89137068  0.57090228  0.58414419 -0.40515868 -0.60808331 -0.59109743\n",
      " -0.45805918  0.46210148  0.9891155   0.38884783]\n",
      "[-0.84621811  0.62016262  0.2990261  -0.80778639  0.11610153  0.22096838\n",
      " -0.22460061 -0.77393857  0.42061856 -0.112467  ]\n",
      "[[20.32215552 45.77585974 45.16745556 18.04712112 39.85910418]\n",
      " [35.15312927 41.63320728 12.47763721 12.78456683 11.39098671]\n",
      " [39.02410506 13.17961842 22.8465652  15.34406888 42.40647184]]\n",
      "[169.17169612 113.4395273  132.8008294 ]\n",
      "[ 94.49938986 100.58868543  80.49165797  46.17575683  93.65656273]\n"
     ]
    }
   ],
   "source": [
    "import numpy as np\n",
    "\n",
    "# 1- (10,15,30,45,60) değerlerine sahip numpy dizisi oluşturunuz.\n",
    "result = np.array([10, 15, 30, 45, 60])\n",
    "print(result)\n",
    "# 2- (5-15) arasındaki sayılarla numpy dizisi oluşturunuz.\n",
    "result = np.arange(5,15)\n",
    "print(result)\n",
    "# 3- (50-100) arasında 5'er 5'er artarak numpy dizisi oluşturunuz.\n",
    "result = np.arange(50, 100, 5)\n",
    "print(result)\n",
    "# 4- 10 elemanlı sıfırlardan oluşan bir dizi oluşturunuz.\n",
    "result = np.zeros(10)\n",
    "print(result)\n",
    "\n",
    "# 5- 10 elemanlı birlerden oluşan bir dizi oluşturunuz.\n",
    "result = np.ones(10)\n",
    "print(result)\n",
    "\n",
    "\n",
    "# 6- (0-100) arasında eşit aralıklı 5 sayı üretin.\n",
    "result = np.linspace(0, 100, 5)\n",
    "print(result)\n",
    "# 7- (10-30) arasında rastgele 5 tane tamsayı üretin.\n",
    "result = np.random.randint(10, 30, 5)\n",
    "print(result)\n",
    "# 8- [-1 ile 1] arasında 10 adet sayı üretin.\n",
    "result = np.random.rand(10) # 0 < x < 1 => 0 < y < 2 => -1 < z < 1\n",
    "result = result * 2 - 1\n",
    "print(result)\n",
    "\n",
    "result = np.random.uniform(-1,1,10)\n",
    "print(result)\n",
    "\n",
    "# 9- (3x5) boyutlarında (10-50) arasında rastgele bir matris oluşturunuz.\n",
    "\n",
    "result = np.random.uniform(10, 50, (3,5))\n",
    "print(result)\n",
    "\n",
    "# 10- Üretilen matrisin satır ve sütun sayıları toplamlarını hesaplayınız ?\n",
    "satir_toplami = result.sum(axis=1) \n",
    "sutun_toplami = result.sum(axis=0)\n",
    "print(satir_toplami)\n",
    "print(sutun_toplami)\n",
    "\n",
    "# 11- Üretilen matrisin en büyük, en küçük ve ortalaması nedir ?\n",
    "# 12- Üretilen matrisin en büyük değerinin indeksi kaçtır ?\n",
    "# 13- (10-20) arasındaki sayıları içeren dizinin ilk 3 elemanını seçiniz.\n",
    "# 14- Üretilen dizinin elemanlarını tersten yazdırın.\n",
    "# 15- Üretilen matrisin ilk satırını seçiniz.\n",
    "\n",
    "\n",
    "# 16- Üretilen matrisin 2.satır 3.sütundaki elemanı hangisidir ?\n",
    "# 17- Üretilen matrisin tüm satırlardaki ilk elemanı seçiniz.\n",
    "# 18- Üretilen matrisin her bir elemanının karesini alınız.\n",
    "# 19- Üretilen matris elemanlarının hangisi pozitif çift sayıdır ?\n"
   ]
  },
  {
   "cell_type": "code",
   "execution_count": 17,
   "metadata": {},
   "outputs": [
    {
     "name": "stdout",
     "output_type": "stream",
     "text": [
      "[[1 1 1 1 1 1]\n",
      " [1 1 1 1 1 1]\n",
      " [1 1 1 1 1 1]\n",
      " [1 1 1 1 1 1]\n",
      " [1 1 1 1 1 1]\n",
      " [1 1 1 1 1 1]]\n",
      "--------------------\n",
      "[[1 1 1 1 1 1]\n",
      " [1 0 0 0 0 1]\n",
      " [1 0 0 0 0 1]\n",
      " [1 0 0 0 0 1]\n",
      " [1 0 0 0 0 1]\n",
      " [1 1 1 1 1 1]]\n",
      "--------------------\n",
      "[[1 1 1 1 1 1]\n",
      " [1 0 0 0 0 1]\n",
      " [1 0 2 2 0 1]\n",
      " [1 0 2 2 0 1]\n",
      " [1 0 0 0 0 1]\n",
      " [1 1 1 1 1 1]]\n"
     ]
    }
   ],
   "source": [
    "result = np.ones((6,6), dtype=\"int32\")\n",
    "print(result)\n",
    "print(\"-\"*20)\n",
    "\n",
    "result[1:5, 1:5] = 0\n",
    "print(result)\n",
    "print(\"-\"*20)\n",
    "\n",
    "result[2:4, 2:4] = 2\n",
    "print(result)"
   ]
  }
 ],
 "metadata": {
  "kernelspec": {
   "display_name": "Python 3",
   "language": "python",
   "name": "python3"
  },
  "language_info": {
   "codemirror_mode": {
    "name": "ipython",
    "version": 3
   },
   "file_extension": ".py",
   "mimetype": "text/x-python",
   "name": "python",
   "nbconvert_exporter": "python",
   "pygments_lexer": "ipython3",
   "version": "3.9.0"
  }
 },
 "nbformat": 4,
 "nbformat_minor": 4
}

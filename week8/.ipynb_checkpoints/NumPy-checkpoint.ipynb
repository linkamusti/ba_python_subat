{
 "cells": [
  {
   "cell_type": "markdown",
   "metadata": {},
   "source": [
    "## NumPy\n",
    "\n",
    " - Numpy tek veya çok boyutlu (matrix) sayı dizinleriyle uğraşan bir modül\n",
    " - Pandas, SciPy, Matplotlib, scikit-learn, scikit-image gibi modüllerin temelinde kullanılıyor\n",
    " - Genellikle çok boyutlu matrixler üzerinde analitik işlemleri çok hızlı şekilde yapmaya yarıyor.\n",
    " - Veri biliminde çok sık kullanılıyor\n",
    " \n",
    " - Bir image için:\n",
    "     - (59, 48, 190), (53, 33, 24) ...\n",
    "     - (23, 42, 238), (12, 233, 223) ...\n",
    "     \n",
    "     şeklinde pixel verisi tutuluyor. Bu image'ı işlerken bu sayılar üzerinden işlem yapıyoruz\n",
    "     \n",
    " - Şirketin yıllık kâr ve gider tablosunu\n",
    "     - 2018, 100, 90\n",
    "     - 2019, 90, 120\n",
    "     - 2020, 80, 70\n",
    "     - 2021, 13, 24\n",
    "     \n",
    "    şeklinde tutuyoruz. Bunun üzerinde analiz yapmak istersek, yine çok boyutlu matrixlerle işlem yapmamız gerekiyor\n",
    "    \n",
    "    \n",
    "### Numpy vs Python Lists\n",
    "\n",
    "- Kullanım kolaylığı:\n",
    "    - Numpy **array**leri üzerinde matematiksel işlem yapmak çok kolay.\n",
    "- Daha hızlı:\n",
    "    - Sebep 1: numpy arraylerinin boyutları değişemez ve sabittir.\n",
    "    - Sebep 2: numpy arraylerinin bütün elemanlarının type'ı aynıdır.\n"
   ]
  },
  {
   "cell_type": "code",
   "execution_count": 1,
   "metadata": {
    "scrolled": true
   },
   "outputs": [
    {
     "name": "stdout",
     "output_type": "stream",
     "text": [
      "Requirement already satisfied: numpy in /Library/Frameworks/Python.framework/Versions/3.9/lib/python3.9/site-packages (1.19.4)\n",
      "Note: you may need to restart the kernel to use updated packages.\n"
     ]
    }
   ],
   "source": [
    "pip install numpy"
   ]
  },
  {
   "cell_type": "code",
   "execution_count": 3,
   "metadata": {},
   "outputs": [
    {
     "name": "stdout",
     "output_type": "stream",
     "text": [
      "[1, 2, 3, 4]\n",
      "[2, 3, 4, 5]\n",
      "[3, 4, 5, 6]\n"
     ]
    }
   ],
   "source": [
    "liste = [[1,2,3,4], [2,3,4,5], [3,4,5,6]]\n",
    "\n",
    "\n",
    "## Bu eski yöntem (python listesi)\n",
    "for satir in liste:\n",
    "    print(satir)"
   ]
  },
  {
   "cell_type": "markdown",
   "metadata": {},
   "source": [
    "## Numpy arrayi tanımlama yöntemleri"
   ]
  },
  {
   "cell_type": "code",
   "execution_count": 20,
   "metadata": {},
   "outputs": [
    {
     "name": "stdout",
     "output_type": "stream",
     "text": [
      "[1 2 4 5 6]\n",
      "1\n",
      "[4 5]\n",
      "[5 6]\n",
      "<class 'numpy.ndarray'>\n",
      "--------------------\n",
      "[[1 2 3]\n",
      " [4 5 6]\n",
      " [7 8 9]]\n",
      "a[1,1] -> 5\n",
      "a[-1, -1] -> 9\n",
      "a[0:2, 2] -> [3 6]\n",
      "a[2, 0:2] -> [7 8]\n",
      "a[0:2, 0:2] ->  [[1 2]\n",
      " [4 5]]\n",
      "--------------------\n",
      "[[[1 2]\n",
      "  [2 3]]\n",
      "\n",
      " [[3 4]\n",
      "  [4 5]]\n",
      "\n",
      " [[4 5]\n",
      "  [5 6]]]\n"
     ]
    }
   ],
   "source": [
    "# Elemanları kendimiz vererek \n",
    "\n",
    "a = np.array([1,2,4,5,6])\n",
    "\n",
    "print(a)\n",
    "print(a[0])\n",
    "print(a[2:4])\n",
    "print(a[3:])\n",
    "\n",
    "print(type(a))\n",
    "print(\"-\"*20)\n",
    "a = np.array([   [1,2,3],  [4,5,6], [7,8,9]  ])\n",
    "print(a)\n",
    "print(\"a[1,1] ->\", a[1,1])\n",
    "print(\"a[-1, -1] ->\", a[-1, -1])\n",
    "print(\"a[0:2, 2] ->\", a[0:2, 2])\n",
    "print(\"a[2, 0:2] ->\", a[2, 0:2])\n",
    "print(\"a[0:2, 0:2] -> \", a[0:2, 0:2])\n",
    "print(\"-\"*20)\n",
    "\n",
    "a = np.array([ [ [1,2], [2,3] ], [ [3,4], [4,5] ], [[4,5], [5,6]] ])\n",
    "print(a)\n",
    "\n"
   ]
  },
  {
   "cell_type": "code",
   "execution_count": 34,
   "metadata": {},
   "outputs": [
    {
     "name": "stdout",
     "output_type": "stream",
     "text": [
      "[0. 0. 0. 0. 0.]\n",
      "[1. 1. 1. 1. 1.]\n",
      "[1. 1. 1. 1. 1.]\n",
      "--------------------\n",
      "[[0. 0. 0. 0. 0.]\n",
      " [0. 0. 0. 0. 0.]\n",
      " [0. 0. 0. 0. 0.]]\n",
      "--------------------\n",
      "[[[0. 0. 0.]\n",
      "  [0. 0. 0.]]\n",
      "\n",
      " [[0. 0. 0.]\n",
      "  [0. 0. 0.]]\n",
      "\n",
      " [[0. 0. 0.]\n",
      "  [0. 0. 0.]]]\n"
     ]
    }
   ],
   "source": [
    "# Sadece 0'lardan veya sadece 1'lerden oluşan arrayler oluşturma\n",
    "\n",
    "a = np.zeros(5) # sadece sıfırlardan oluşan 5 elemanlı numpy array\n",
    "                # default olarak bütün sayılar float oluyor\n",
    "print(a)\n",
    "\n",
    "a = np.ones(5) # sadece birlerden oluşan 5 elemanlı numpy array\n",
    "                # default olarak bütün sayılar float oluyor    \n",
    "print(a)\n",
    "\n",
    "# Boş bir numpy arrayi oluşturma\n",
    "\n",
    "a = np.empty(5) # elemanlarına herhangi bir değer atanmamış 5 elemanlı bir numpy arrayi\n",
    "print(a)\n",
    "\n",
    "\n",
    "print(\"-\"*20)\n",
    "## Çok boyutlu sadece 0'lardan oluşan bir numpy arrayi oluşturma\n",
    "\n",
    "a = np.zeros((3,5))\n",
    "print(a)\n",
    "print(\"-\"*20)\n",
    "\n",
    "a = np.zeros((3,2,3))\n",
    "print(a)\n",
    "\n"
   ]
  },
  {
   "cell_type": "code",
   "execution_count": 42,
   "metadata": {},
   "outputs": [
    {
     "name": "stdout",
     "output_type": "stream",
     "text": [
      "[[1. 1. 1. 1. 1. 1.]\n",
      " [1. 1. 1. 1. 1. 1.]\n",
      " [1. 1. 1. 1. 1. 1.]\n",
      " [1. 1. 1. 1. 1. 1.]\n",
      " [1. 1. 1. 1. 1. 1.]]\n",
      "(5, 6)\n",
      "2\n",
      "float64\n",
      "8\n",
      "30\n"
     ]
    }
   ],
   "source": [
    "a = np.ones((5,6))\n",
    "print(a)\n",
    "\n",
    "\n",
    "print(a.shape) # arrayin boyutlarını verir\n",
    "print(a.ndim) # number of dimensions (toplam kaç boyutlu olduğunu verir)\n",
    "print(a.dtype) # arrayin değerlerinin data typeı hakkında detay verir\n",
    "print(a.itemsize) # arrayin her bir elemanının size'ını verir (byte cinsinden)\n",
    "print(a.size) # arrayin toplam size'ını verir (kaç eleman olduğu)"
   ]
  },
  {
   "cell_type": "code",
   "execution_count": 48,
   "metadata": {},
   "outputs": [
    {
     "name": "stdout",
     "output_type": "stream",
     "text": [
      "[0 1 2 3 4 5 6 7 8 9]\n",
      "[5 6 7 8 9]\n",
      "[ 5  8 11 14 17]\n",
      "[1.  1.3 1.6 1.9 2.2 2.5 2.8 3.1 3.4 3.7 4.  4.3 4.6 4.9 5.2 5.5 5.8 6.1\n",
      " 6.4 6.7 7.  7.3 7.6 7.9 8.2 8.5 8.8 9.1 9.4 9.7]\n"
     ]
    }
   ],
   "source": [
    "# Range ile numpy array oluşturma\n",
    "\n",
    "a = np.arange(10)\n",
    "print(a)\n",
    "\n",
    "a = np.arange(5,10)\n",
    "print(a)\n",
    "\n",
    "a = np.arange(5, 20, 3)\n",
    "print(a)\n",
    "\n",
    "a = np.arange(1, 10, 0.3) # step size float olabiliyor\n",
    "print(a)"
   ]
  },
  {
   "cell_type": "code",
   "execution_count": 51,
   "metadata": {},
   "outputs": [
    {
     "name": "stdout",
     "output_type": "stream",
     "text": [
      "[ 1.    3.25  5.5   7.75 10.  ]\n",
      "[  0.   5.  10.  15.  20.  25.  30.  35.  40.  45.  50.  55.  60.  65.\n",
      "  70.  75.  80.  85.  90.  95. 100.]\n"
     ]
    }
   ],
   "source": [
    "# Başlangıç ve bitiş noktası ve toplam eleman sayısı verilen numpy array oluşturma\n",
    "\n",
    "a = np.linspace(1, 10, 5)\n",
    "print(a)\n",
    "\n",
    "a = np.linspace(0, 100, 21)\n",
    "print(a)"
   ]
  },
  {
   "cell_type": "code",
   "execution_count": 61,
   "metadata": {},
   "outputs": [
    {
     "name": "stdout",
     "output_type": "stream",
     "text": [
      "[8 5 0 7 8]\n",
      "--------------------\n",
      "[[4 9 3 7]\n",
      " [2 2 8 9]]\n",
      "--------------------\n",
      "[0.99216332 0.71437282 0.26365042 0.00731788 0.47744581]\n",
      "--------------------\n",
      "[[0.50577113 0.35260262 0.50960578 0.55872994]\n",
      " [0.01081508 0.67589408 0.45604368 0.45326617]]\n"
     ]
    }
   ],
   "source": [
    "a = np.random.randint(0, 10, 5) # 0 ile 10 arasında (10 dahil değil), 5 rastgele tamsayıdan oluşan numpy array\n",
    "print(a)\n",
    "print(\"-\"*20)\n",
    "a = np.random.randint(0,10, (2,4)) # 0 ile 10 arasında (10 dahil değil), 8 rasgele tamsayıdan oluşan, 2x4 boyutlarında bir numpy array\n",
    "print(a)\n",
    "print(\"-\"*20)\n",
    "\n",
    "a = np.random.rand(5)# 0 ile 1 arasında 5 rasgele sayıdan oluşan bir numpy array\n",
    "print(a)\n",
    "\n",
    "print(\"-\"*20)\n",
    "\n",
    "a = np.random.rand(2,4)# 0 ile 1 arasında 8 rasgele sayıdan oluşan 2x4 boyutlarında bir numpy array\n",
    "print(a)\n"
   ]
  },
  {
   "cell_type": "code",
   "execution_count": 69,
   "metadata": {},
   "outputs": [
    {
     "name": "stdout",
     "output_type": "stream",
     "text": [
      "[[4 0 4 2]\n",
      " [0 4 1 2]\n",
      " [2 0 1 1]\n",
      " [0 3 0 0]\n",
      " [0 0 1 0]\n",
      " [4 4 3 1]]\n",
      "--------------------\n",
      "[[4 0 4 2 0 4 1 2 2 0 1 1]\n",
      " [0 3 0 0 0 0 1 0 4 4 3 1]]\n",
      "--------------------\n",
      "[[4 0 4 2 0 4 1 2]\n",
      " [2 0 1 1 0 3 0 0]\n",
      " [0 0 1 0 4 4 3 1]]\n",
      "--------------------\n",
      "[[4 0 4 2 0 4 1 2 2 0 1 1 0 3 0 0 0 0 1 0 4 4 3 1]]\n",
      "--------------------\n",
      "[4 0 4 2 0 4 1 2 2 0 1 1 0 3 0 0 0 0 1 0 4 4 3 1]\n"
     ]
    }
   ],
   "source": [
    "# Arraylerin shape'ini değiştirme\n",
    "\n",
    "a = np.random.randint(0, 5, (6,4))\n",
    "print(a)\n",
    "print(\"-\"*20)\n",
    "\n",
    "a = a.reshape((2,12))\n",
    "print(a)\n",
    "\n",
    "## reshape sonrasındaki toplam eleman sayısının değişmemesi gerekiyor\n",
    "print(\"-\"*20)\n",
    "\n",
    "a = a.reshape((3,8))\n",
    "print(a)\n",
    "\n",
    "print(\"-\"*20)\n",
    "\n",
    "a = a.reshape((1,24))\n",
    "print(a)\n",
    "\n",
    "print(\"-\"*20)\n",
    "\n",
    "a = a.reshape(24)\n",
    "print(a)b"
   ]
  },
  {
   "cell_type": "markdown",
   "metadata": {},
   "source": [
    "## Sayısal İşlemler"
   ]
  },
  {
   "cell_type": "code",
   "execution_count": 79,
   "metadata": {},
   "outputs": [
    {
     "name": "stdout",
     "output_type": "stream",
     "text": [
      "[[8 5 2]\n",
      " [7 5 1]\n",
      " [6 7 1]]\n",
      "Tamamının toplamı:  42\n",
      "Satırların toplamı:  [15 13 14]\n",
      "Sütunların toplamı:  [21 17  4]\n",
      "Minimum değer:  1\n",
      "Maximum değer:  8\n",
      "Ortalama değer:  4.666666666666667\n",
      "Maximum değerin indexi:  0\n",
      "Minimum değerin indexi:  5\n"
     ]
    }
   ],
   "source": [
    "a = np.random.randint(1, 10, (3,3))\n",
    "print(a)\n",
    "\n",
    "print(\"Tamamının toplamı: \", a.sum()) # array içerisindeki bütün sayıların toplamını verir\n",
    "print(\"Satırların toplamı: \", a.sum(axis=1)) # arrayin satırlarının toplamını verir\n",
    "print(\"Sütunların toplamı: \",a.sum(axis=0)) # arrayin sütunlarının toplamını verir\n",
    "print(\"Minimum değer: \", a.min()) # arrayin en küçük elemanını verir\n",
    "print(\"Maximum değer: \", a.max()) # arrayin en büyük elemanını verir\n",
    "print(\"Ortalama değer: \", a.mean()) # arrayin sayı ortalamasını verir\n",
    "print(\"Maximum değerin indexi: \", a.argmax()) # arrayin en büyük değerinin indexini verir\n",
    "print(\"Minimum değerin indexi: \", a.argmin()) # arrayin en küçük değerinin indexini verir\n"
   ]
  },
  {
   "cell_type": "code",
   "execution_count": 102,
   "metadata": {
    "scrolled": true
   },
   "outputs": [
    {
     "name": "stdout",
     "output_type": "stream",
     "text": [
      "a=\n",
      "[[5 3 4]\n",
      " [5 1 6]\n",
      " [1 1 7]]\n",
      "--------------------\n",
      "b = a+3\n",
      "[[ 8  6  7]\n",
      " [ 8  4  9]\n",
      " [ 4  4 10]]\n",
      "--------------------\n",
      "b = a-3\n",
      "[[ 2  0  1]\n",
      " [ 2 -2  3]\n",
      " [-2 -2  4]]\n",
      "--------------------\n",
      "b = a*3\n",
      "[[15  9 12]\n",
      " [15  3 18]\n",
      " [ 3  3 21]]\n",
      "--------------------\n",
      "b = a/3\n",
      "[[1.66666667 1.         1.33333333]\n",
      " [1.66666667 0.33333333 2.        ]\n",
      " [0.33333333 0.33333333 2.33333333]]\n",
      "--------------------\n",
      "b = a**2\n",
      "[[25  9 16]\n",
      " [25  1 36]\n",
      " [ 1  1 49]]\n",
      "--------------------\n",
      "b = a // 3\n",
      "[[1 1 1]\n",
      " [1 0 2]\n",
      " [0 0 2]]\n",
      "--------------------\n",
      "b = a % 3\n",
      "[[2 0 1]\n",
      " [2 1 0]\n",
      " [1 1 1]]\n"
     ]
    }
   ],
   "source": [
    "# Aritmetik işlemler\n",
    "\n",
    "a = np.random.randint(1, 10, (3,3))\n",
    "print(\"a=\")\n",
    "print(a)\n",
    "\n",
    "print(\"-\"*20)\n",
    "print(\"b = a+3\")\n",
    "b = a + 3\n",
    "print(b)\n",
    "\n",
    "print(\"-\"*20)\n",
    "print(\"b = a-3\")\n",
    "b = a - 3\n",
    "print(b)\n",
    "\n",
    "print(\"-\"*20)\n",
    "print(\"b = a*3\")\n",
    "b = a * 3\n",
    "print(b)\n",
    "\n",
    "print(\"-\"*20)\n",
    "print(\"b = a/3\")\n",
    "b = a/3\n",
    "print(b)\n",
    "\n",
    "\n",
    "print(\"-\"*20)\n",
    "print(\"b = a**2\")\n",
    "b = a**2\n",
    "print(b)\n",
    "\n",
    "\n",
    "print(\"-\"*20)\n",
    "print(\"b = a // 3\")\n",
    "b = a//3\n",
    "print(b)\n",
    "\n",
    "\n",
    "print(\"-\"*20)\n",
    "print(\"b = a % 3\")\n",
    "b = a%3\n",
    "print(b)\n",
    "\n"
   ]
  },
  {
   "cell_type": "code",
   "execution_count": 103,
   "metadata": {
    "scrolled": true
   },
   "outputs": [
    {
     "name": "stdout",
     "output_type": "stream",
     "text": [
      "--------------------\n",
      "b = np.sin(a)\n",
      "[[-0.95892427  0.14112001 -0.7568025 ]\n",
      " [-0.95892427  0.84147098 -0.2794155 ]\n",
      " [ 0.84147098  0.84147098  0.6569866 ]]\n",
      "--------------------\n",
      "b = np.cos(a)\n",
      "[[ 0.28366219 -0.9899925  -0.65364362]\n",
      " [ 0.28366219  0.54030231  0.96017029]\n",
      " [ 0.54030231  0.54030231  0.75390225]]\n",
      "--------------------\n",
      "b = np.sqrt(a)\n",
      "[[2.23606798 1.73205081 2.        ]\n",
      " [2.23606798 1.         2.44948974]\n",
      " [1.         1.         2.64575131]]\n",
      "--------------------\n",
      "b = np.log(a)\n",
      "[[1.60943791 1.09861229 1.38629436]\n",
      " [1.60943791 0.         1.79175947]\n",
      " [0.         0.         1.94591015]]\n",
      "--------------------\n",
      "b = np.exp(a)\n",
      "[[ 148.4131591    20.08553692   54.59815003]\n",
      " [ 148.4131591     2.71828183  403.42879349]\n",
      " [   2.71828183    2.71828183 1096.63315843]]\n"
     ]
    }
   ],
   "source": [
    "print(\"-\"*20)\n",
    "print(\"b = np.sin(a)\")\n",
    "b = np.sin(a)\n",
    "print(b)\n",
    "\n",
    "print(\"-\"*20)\n",
    "print(\"b = np.cos(a)\")\n",
    "b = np.cos(a)\n",
    "print(b)\n",
    "\n",
    "\n",
    "print(\"-\"*20)\n",
    "print(\"b = np.sqrt(a)\")\n",
    "b = np.sqrt(a)\n",
    "print(b)\n",
    "\n",
    "\n",
    "print(\"-\"*20)\n",
    "print(\"b = np.log(a)\")\n",
    "b = np.log(a)\n",
    "print(b)\n",
    "\n",
    "\n",
    "print(\"-\"*20)\n",
    "print(\"b = np.exp(a)\")\n",
    "b = np.exp(a)\n",
    "print(b)"
   ]
  },
  {
   "cell_type": "code",
   "execution_count": 116,
   "metadata": {},
   "outputs": [
    {
     "name": "stdout",
     "output_type": "stream",
     "text": [
      "Bu işlemleri yapabilmemiz için, iki arrayin SHAPEinin aynı olması gerekiyor!!!\n",
      "a=\n",
      "[[2. 2. 2.]\n",
      " [2. 2. 2.]\n",
      " [2. 2. 2.]]\n",
      "b=\n",
      "[[3. 3. 3.]\n",
      " [3. 3. 3.]\n",
      " [3. 3. 3.]]\n",
      "--------------------\n",
      "a+b\n",
      "[[5. 5. 5.]\n",
      " [5. 5. 5.]\n",
      " [5. 5. 5.]]\n",
      "--------------------\n",
      "a-b\n",
      "[[-1. -1. -1.]\n",
      " [-1. -1. -1.]\n",
      " [-1. -1. -1.]]\n",
      "--------------------\n",
      "a*b (gerçek matrix çarpımı değil, eleman eleman çarpma)\n",
      "[[6. 6. 6.]\n",
      " [6. 6. 6.]\n",
      " [6. 6. 6.]]\n",
      "--------------------\n",
      "a @ b (lisede öğrendiğimiz matrix çarpımı)\n",
      "[[18. 18. 18.]\n",
      " [18. 18. 18.]\n",
      " [18. 18. 18.]]\n",
      "--------------------\n",
      "a/b\n",
      "[[0.66666667 0.66666667 0.66666667]\n",
      " [0.66666667 0.66666667 0.66666667]\n",
      " [0.66666667 0.66666667 0.66666667]]\n"
     ]
    }
   ],
   "source": [
    "a = np.ones((3,3)) * 2\n",
    "b = np.ones((3,3)) * 3\n",
    "\n",
    "\n",
    "print(\"Bu işlemleri yapabilmemiz için, iki arrayin SHAPEinin aynı olması gerekiyor!!!\")\n",
    "\n",
    "print(\"a=\")\n",
    "print(a)\n",
    "\n",
    "print(\"b=\")\n",
    "print(b)\n",
    "\n",
    "print(\"-\"*20)\n",
    "\n",
    "c = a + b\n",
    "print(\"a+b\")\n",
    "print(c)\n",
    "print(\"-\"*20)\n",
    "print(\"a-b\")\n",
    "\n",
    "c = a - b\n",
    "print(c)\n",
    "\n",
    "print(\"-\"*20)\n",
    "print(\"a*b (gerçek matrix çarpımı değil, eleman eleman çarpma)\")\n",
    "\n",
    "c = a * b\n",
    "print(c)\n",
    "\n",
    "print(\"-\"*20)\n",
    "print(\"a @ b (lisede öğrendiğimiz matrix çarpımı)\")\n",
    "\n",
    "c = a @ b\n",
    "print(c)\n",
    "\n",
    "\n",
    "print(\"-\"*20)\n",
    "print(\"a/b\")\n",
    "\n",
    "c = a / b\n",
    "print(c)\n"
   ]
  },
  {
   "cell_type": "code",
   "execution_count": 123,
   "metadata": {},
   "outputs": [
    {
     "name": "stdout",
     "output_type": "stream",
     "text": [
      "@ operatörünü kullanabilmek için bir matrixin sütun sayısıyla diğer matrixin satır sayısı aynı olmalı\n",
      "[[3 8 6]\n",
      " [9 9 9]\n",
      " [7 9 5]\n",
      " [1 5 3]]\n",
      "--------------------\n",
      "[[6 1]\n",
      " [1 5]\n",
      " [2 1]]\n",
      "--------------------\n",
      "a @ b\n",
      "[[38 49]\n",
      " [81 63]\n",
      " [61 57]\n",
      " [17 29]]\n"
     ]
    }
   ],
   "source": [
    "print(\"@ operatörünü kullanabilmek için bir matrixin sütun sayısıyla diğer matrixin satır sayısı aynı olmalı\")\n",
    "\n",
    "a = np.random.randint(1,10, (4,3))\n",
    "b = np.random.randint(1,10, (3,2))\n",
    "\n",
    "print(a)\n",
    "print(\"-\"*20)\n",
    "print(b)\n",
    "\n",
    "print(\"-\"*20)\n",
    "print(\"a @ b\")\n",
    "print(a @ b)\n"
   ]
  },
  {
   "cell_type": "code",
   "execution_count": 132,
   "metadata": {},
   "outputs": [
    {
     "name": "stdout",
     "output_type": "stream",
     "text": [
      "a=\n",
      " [[1. 1. 1. 1.]\n",
      " [1. 1. 1. 1.]\n",
      " [1. 1. 1. 1.]]\n",
      "--------------------\n",
      "b=\n",
      " [[0. 0. 0. 0.]\n",
      " [0. 0. 0. 0.]]\n",
      "--------------------\n",
      "c=\n",
      " [[1. 1. 1. 1.]\n",
      " [1. 1. 1. 1.]]\n",
      "--------------------\n",
      "np.vstack((a,b))\n",
      "[[1. 1. 1. 1.]\n",
      " [1. 1. 1. 1.]\n",
      " [1. 1. 1. 1.]\n",
      " [0. 0. 0. 0.]\n",
      " [0. 0. 0. 0.]\n",
      " [1. 1. 1. 1.]\n",
      " [1. 1. 1. 1.]]\n"
     ]
    }
   ],
   "source": [
    "# İki numpy arrayini birleştirme (stack)\n",
    "\n",
    "a = np.ones((3,4))\n",
    "b = np.zeros((2,4))\n",
    "c = np.ones((2,4))\n",
    "\n",
    "print(\"a=\\n\",a)\n",
    "print(\"-\"*20)\n",
    "print(\"b=\\n\",b)\n",
    "print(\"-\"*20)\n",
    "print(\"c=\\n\",c)\n",
    "print(\"-\"*20)\n",
    "\n",
    "# Vertical Stacking (vstack)\n",
    "# Sütun sayıları aynı olmak zorunda !!\n",
    "\n",
    "d = np.vstack((a,b,c))\n",
    "print(\"np.vstack((a,b))\")\n",
    "print(d)\n",
    "\n"
   ]
  },
  {
   "cell_type": "code",
   "execution_count": 133,
   "metadata": {},
   "outputs": [
    {
     "name": "stdout",
     "output_type": "stream",
     "text": [
      "a=\n",
      " [[1. 1. 1.]\n",
      " [1. 1. 1.]]\n",
      "--------------------\n",
      "b=\n",
      " [[0. 0. 0. 0. 0.]\n",
      " [0. 0. 0. 0. 0.]]\n",
      "--------------------\n",
      "c=\n",
      " [[1. 1.]\n",
      " [1. 1.]]\n",
      "--------------------\n",
      "np.hstack((a,b))\n",
      "[[1. 1. 1. 0. 0. 0. 0. 0. 1. 1.]\n",
      " [1. 1. 1. 0. 0. 0. 0. 0. 1. 1.]]\n"
     ]
    }
   ],
   "source": [
    "# İki numpy arrayini birleştirme (stack)\n",
    "\n",
    "a = np.ones((2,3))\n",
    "b = np.zeros((2,5))\n",
    "c = np.ones((2,2))\n",
    "\n",
    "print(\"a=\\n\",a)\n",
    "print(\"-\"*20)\n",
    "print(\"b=\\n\",b)\n",
    "print(\"-\"*20)\n",
    "print(\"c=\\n\",c)\n",
    "print(\"-\"*20)\n",
    "\n",
    "# Horizontal Stacking (hstack)\n",
    "# Satır sayıları aynı olmak zorunda !!\n",
    "\n",
    "d = np.hstack((a,b,c))\n",
    "print(\"np.hstack((a,b))\")\n",
    "print(d)\n"
   ]
  },
  {
   "cell_type": "code",
   "execution_count": 141,
   "metadata": {},
   "outputs": [
    {
     "name": "stdout",
     "output_type": "stream",
     "text": [
      "[ True  True False]\n",
      "[1 2 3]\n",
      "3\n",
      "[1 2]\n"
     ]
    }
   ],
   "source": [
    "# Numpy arrayleri üzerinde filtreleme ve maskeleme işlemleri\n",
    "\n",
    "a = np.array([True, True, False]) # boolean numpy array (mask)\n",
    "print(a)\n",
    "\n",
    "b = np.array([1,2,3])\n",
    "print(b)\n",
    "\n",
    "print(b[2])\n",
    "print(b[a]) # filtering (a boolean bir array olduğu için)\n"
   ]
  },
  {
   "cell_type": "code",
   "execution_count": 146,
   "metadata": {
    "scrolled": true
   },
   "outputs": [
    {
     "name": "stdout",
     "output_type": "stream",
     "text": [
      "[[4 7 9 7 8]\n",
      " [9 1 5 2 3]\n",
      " [5 7 9 1 7]\n",
      " [6 7 5 3 8]\n",
      " [6 1 4 2 8]]\n",
      "--------------------\n",
      "[[False  True  True  True  True]\n",
      " [ True False False False False]\n",
      " [False  True  True False  True]\n",
      " [ True  True False False  True]\n",
      " [ True False False False  True]]\n",
      "--------------------\n",
      "[7 9 7 8 9 7 9 7 6 7 8 6 8]\n"
     ]
    }
   ],
   "source": [
    "a = np.random.randint(1,10, (5,5))\n",
    "print(a)\n",
    "\n",
    "print(\"-\"*20)\n",
    "mask = a > 5\n",
    "print(mask)\n",
    "print(\"-\"*20)\n",
    "\n",
    "print(a[mask])"
   ]
  },
  {
   "cell_type": "code",
   "execution_count": 153,
   "metadata": {},
   "outputs": [
    {
     "name": "stdout",
     "output_type": "stream",
     "text": [
      "[[9 7 5 5 8]\n",
      " [7 1 5 5 3]\n",
      " [5 7 5 3 9]\n",
      " [7 9 5 9 8]\n",
      " [9 9 6 4 7]]\n",
      "--------------------\n",
      "a[a < 3]\n",
      "[1]\n",
      "--------------------\n",
      "a[a % 2 == 0]\n",
      "[8 8 6 4]\n",
      "--------------------\n",
      "a[a >= 5]\n",
      "[9 7 5 5 8 7 5 5 5 7 5 9 7 9 5 9 8 9 9 6 7]\n"
     ]
    }
   ],
   "source": [
    "a = np.random.randint(1,10, (5,5))\n",
    "print(a)\n",
    "\n",
    "print(\"-\"*20)\n",
    "print(\"a[a < 3]\")\n",
    "b = a[a < 3]\n",
    "print(b)\n",
    "\n",
    "print(\"-\"*20)\n",
    "print(\"a[a % 2 == 0]\")\n",
    "b = a[a % 2 == 0]\n",
    "print(b)\n",
    "\n",
    "print(\"-\"*20)\n",
    "print(\"a[a >= 5]\")\n",
    "b = a[a >= 5]\n",
    "print(b)"
   ]
  }
 ],
 "metadata": {
  "kernelspec": {
   "display_name": "Python 3",
   "language": "python",
   "name": "python3"
  },
  "language_info": {
   "codemirror_mode": {
    "name": "ipython",
    "version": 3
   },
   "file_extension": ".py",
   "mimetype": "text/x-python",
   "name": "python",
   "nbconvert_exporter": "python",
   "pygments_lexer": "ipython3",
   "version": "3.9.0"
  }
 },
 "nbformat": 4,
 "nbformat_minor": 4
}

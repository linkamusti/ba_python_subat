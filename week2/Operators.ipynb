{
 "cells": [
  {
   "cell_type": "markdown",
   "metadata": {},
   "source": [
    "### Operatörler\n",
    "\n",
    "* **Assignment (=)**\n",
    "    * Bir değişkene değer atamak için kullanılır\n",
    "    * Aynı satırda birden fazla değişkene de değer atayabiliriz\n",
    "    * Kısayol: \n",
    "        * x = x + y -> x += y\n",
    "        * x = x - y -> x -= y\n",
    "        * x = x * y -> x *= y\n",
    "        * x = x / y -> x /= y\n",
    "        * x = x % y -> x %= y\n",
    "        * x = x ** y -> x**= y\n",
    "        * x = x // y -> x//= y"
   ]
  },
  {
   "cell_type": "code",
   "execution_count": 18,
   "metadata": {},
   "outputs": [
    {
     "name": "stdout",
     "output_type": "stream",
     "text": [
      "10 20 30\n",
      "10 20 30\n"
     ]
    }
   ],
   "source": [
    "x = 5  # 00000000 00000000 00000000 00000101\n",
    "x = 19 # 00000000 00000000 00000000 00010011\n",
    "\n",
    "x = \"Mustafa\" \n",
    "\n",
    "x,y,z = 10,20,30\n",
    "\n",
    "print(x,y,z)\n",
    "a,b,c = x,y,z\n",
    "\n",
    "print(a,b,c)\n"
   ]
  },
  {
   "cell_type": "code",
   "execution_count": 19,
   "metadata": {},
   "outputs": [
    {
     "name": "stdout",
     "output_type": "stream",
     "text": [
      "24\n",
      "29\n",
      "19\n",
      "57\n",
      "19.0\n"
     ]
    }
   ],
   "source": [
    "\n",
    "x = y + 4\n",
    "print(x)\n",
    "\n",
    "x += 5\n",
    "print(x)\n",
    "\n",
    "x -= 10\n",
    "print(x)\n",
    "\n",
    "x *= 3\n",
    "print(x)\n",
    "\n",
    "x /= 3\n",
    "print(x)"
   ]
  },
  {
   "cell_type": "raw",
   "metadata": {},
   "source": [
    "a,b,c,*d = 10,20,30,40,50,60,70,80\n",
    "\n",
    "print(a,b,c)\n",
    "print(d)\n",
    "print(d[0], d[1], d[2], d[3], d[4])"
   ]
  },
  {
   "cell_type": "markdown",
   "metadata": {},
   "source": [
    "#### Comparison Operators\n",
    "\n",
    "* Equals (==) Operator\n",
    "* Not Equals (!=) Operator\n",
    "* Greater than / Less Than (>) (<)\n",
    "* Greather than or Equal to / Less than or Equal to (>=) (<=)"
   ]
  },
  {
   "cell_type": "code",
   "execution_count": 29,
   "metadata": {
    "scrolled": true
   },
   "outputs": [
    {
     "name": "stdout",
     "output_type": "stream",
     "text": [
      "Kullanıcı Adı: Suleyman\n",
      "Sifre: qweasdqwe\n",
      "False\n",
      "False\n"
     ]
    }
   ],
   "source": [
    "DOGRU_KULLANICI_ADI = \"mkemaltas\"\n",
    "DOGRU_SIFRE = \"qweqweqwe\"\n",
    "\n",
    "k_adi = input(\"Kullanıcı Adı: \")\n",
    "sifre = input(\"Sifre: \")\n",
    "\n",
    "print(k_adi == DOGRU_KULLANICI_ADI)\n",
    "print(sifre == DOGRU_SIFRE)"
   ]
  },
  {
   "cell_type": "code",
   "execution_count": 30,
   "metadata": {},
   "outputs": [
    {
     "name": "stdout",
     "output_type": "stream",
     "text": [
      "True\n",
      "False\n",
      "True\n",
      "False\n"
     ]
    }
   ],
   "source": [
    "print(3 == 3)\n",
    "print(3 == 5)\n",
    "print(\"Ali\" == \"Ali\")\n",
    "print(3 == \"Ali\")"
   ]
  },
  {
   "cell_type": "code",
   "execution_count": 36,
   "metadata": {
    "scrolled": true
   },
   "outputs": [
    {
     "name": "stdout",
     "output_type": "stream",
     "text": [
      "False\n",
      "True\n",
      "False\n",
      "True\n",
      "\n",
      "True\n",
      "False\n",
      "True\n"
     ]
    }
   ],
   "source": [
    "print(3 != 3)\n",
    "print(3 != 5)\n",
    "print(\"Ali\" != \"Ali\")\n",
    "print(3 != \"Ali\")\n",
    "\n",
    "a = 3\n",
    "b = 5\n",
    "c = \"Ali\"\n",
    "print()\n",
    "print(a != b)\n",
    "print(a != a)\n",
    "print(c != b)"
   ]
  },
  {
   "cell_type": "code",
   "execution_count": 41,
   "metadata": {},
   "outputs": [
    {
     "name": "stdout",
     "output_type": "stream",
     "text": [
      "False\n",
      "True\n",
      "True\n",
      "\n",
      "True\n",
      "False\n"
     ]
    }
   ],
   "source": [
    "a = 3\n",
    "b = 5\n",
    "c = 15\n",
    "d = 15\n",
    "\n",
    "print(a > b)\n",
    "print(a < b)\n",
    "print(a <= b)\n",
    "\n",
    "\n",
    "print()\n",
    "\n",
    "print(c >= d)\n",
    "print(c < b)"
   ]
  },
  {
   "cell_type": "markdown",
   "metadata": {},
   "source": [
    "0 dışındaki tüm sayılar \"True\" olarak değerlendirilir.\n",
    "\n",
    "\"True\" nun sayısal karşılığı 1'dir.\n",
    "\n",
    "\"False\" un sayısal karşılığı 0'dır."
   ]
  },
  {
   "cell_type": "code",
   "execution_count": 46,
   "metadata": {},
   "outputs": [
    {
     "name": "stdout",
     "output_type": "stream",
     "text": [
      "True\n",
      "True\n",
      "False\n"
     ]
    }
   ],
   "source": [
    "print(True == 1)\n",
    "print(False == 0)\n",
    "\n",
    "## a b c sayılarımız var, b ve c eşitse a'yı bir arttır\n",
    "\n",
    "a = 3\n",
    "b = 4\n",
    "c = 4\n",
    "\n",
    "a += (b == c)"
   ]
  },
  {
   "cell_type": "markdown",
   "metadata": {},
   "source": [
    "#### Demo\n",
    "\n",
    "1 - Kullanıcıdan iki sayı alın (integer olsun), birinci sayı ikinci sayıdan büyük mü değil mi ekrana basın."
   ]
  },
  {
   "cell_type": "code",
   "execution_count": 56,
   "metadata": {},
   "outputs": [
    {
     "name": "stdout",
     "output_type": "stream",
     "text": [
      "Birinci sayıyı girin: 1000\n",
      "İkinci sayıyı girin: 9\n",
      "True\n"
     ]
    }
   ],
   "source": [
    "sayi1 = int(input(\"Birinci sayıyı girin: \"))\n",
    "sayi2 = int(input(\"İkinci sayıyı girin: \"))\n",
    "\n",
    "print(sayi1 > sayi2)"
   ]
  },
  {
   "cell_type": "markdown",
   "metadata": {},
   "source": [
    "2 - Kullanıcında 2 vize ve final notlarını alıp not ortalamasını hesaplayın\n",
    "\n",
    "* Vizeler %60 (30-30)\n",
    "* Final %40\n",
    "\n",
    "Öğrencinin dersten geçip geçemediğini (True/False olarak) ekrana basın.\n",
    "Not: Geçme notu 50\n",
    "\n",
    "3 - **Bonus**: Kullanıcıdan bir sayı alın, sayının çift olup olmadığını ekrana basın"
   ]
  },
  {
   "cell_type": "code",
   "execution_count": 51,
   "metadata": {},
   "outputs": [
    {
     "name": "stdout",
     "output_type": "stream",
     "text": [
      "İlk vizenin notunu girin: 75\n",
      "İkinci vizenin notunu girin: 15\n",
      "Final notunu girin: 60\n",
      "51.0 True\n"
     ]
    }
   ],
   "source": [
    "vize1 = int(input(\"İlk vizenin notunu girin: \"))\n",
    "vize2 = int(input(\"İkinci vizenin notunu girin: \"))\n",
    "final = int(input(\"Final notunu girin: \"))\n",
    "\n",
    "not_ortalamasi = vize1 * 0.3 + vize2 * 0.3 + final * 0.4\n",
    "print(not_ortalamasi , not_ortalamasi >= 50)"
   ]
  },
  {
   "cell_type": "code",
   "execution_count": 53,
   "metadata": {},
   "outputs": [
    {
     "name": "stdout",
     "output_type": "stream",
     "text": [
      "Bir sayı girin: 6\n",
      "True\n"
     ]
    }
   ],
   "source": [
    "sayi = int(input(\"Bir sayı girin: \"))\n",
    "\n",
    "cift = (sayi % 2) == 0\n",
    "print(cift)"
   ]
  },
  {
   "cell_type": "markdown",
   "metadata": {},
   "source": [
    "#### Logical (Mantıksal) Operators\n",
    "\n",
    "* **and** : Bir tane bile False varsa, sonuç False'tur.\n",
    "    * True **and** True -> True\n",
    "    * False **and** True -> False\n",
    "    * True **and** False -> False\n",
    "    * False **and** False -> False\n",
    "* **or** : Bir tane bile True varsa, sonuç True'dur.\n",
    "    * True **or** True -> True\n",
    "    * False **or** True -> True\n",
    "    * True **or** False -> True\n",
    "    * False **or** False -> False \n",
    "* **not**\n",
    "    * **not** True -> False\n",
    "    * **not** False -> True"
   ]
  },
  {
   "cell_type": "code",
   "execution_count": 59,
   "metadata": {},
   "outputs": [
    {
     "name": "stdout",
     "output_type": "stream",
     "text": [
      "Adın ne: Süleyman\n",
      "Yaşın kaç: 99\n",
      "False\n"
     ]
    }
   ],
   "source": [
    "name = input(\"Adın ne: \")\n",
    "age = int(input(\"Yaşın kaç: \"))\n",
    "\n",
    "## Hem yaşım 18'den büyük olmalı, hem de adım Mustafa olmalı.\n",
    "sonuc = (age > 18) and (name == \"Mustafa\")\n",
    "print(sonuc)"
   ]
  },
  {
   "cell_type": "code",
   "execution_count": 61,
   "metadata": {},
   "outputs": [
    {
     "name": "stdout",
     "output_type": "stream",
     "text": [
      "Yaşın kaç: 16\n",
      "Egitim durumunuz nedir: Üniversite\n",
      "True\n"
     ]
    }
   ],
   "source": [
    "yas = int(input(\"Yaşın kaç: \"))\n",
    "egitim = input(\"Egitim durumunuz nedir: \")\n",
    "\n",
    "# Ya yaşım 18'den büyük olmalı, ya da üniversite mezunu olmalıyım\n",
    "sonuc = (age > 18) or (egitim == \"Üniversite\")\n",
    "print(sonuc)\n"
   ]
  },
  {
   "cell_type": "code",
   "execution_count": 64,
   "metadata": {},
   "outputs": [
    {
     "name": "stdout",
     "output_type": "stream",
     "text": [
      "Bir sayı girin: 99\n",
      "True True\n"
     ]
    }
   ],
   "source": [
    "## Kullanıcıdan bir sayı alalım\n",
    "## Sayı 1 ile 100 arasında 3e bölünebilen bir sayı mı değil mi ekrana basalım\n",
    "\n",
    "sayi = int(input(\"Bir sayı girin: \"))\n",
    "\n",
    "sonuc = sayi > 1 and sayi < 100 and sayi % 3 == 0\n",
    "sonuc2 = (1 < sayi < 100) and sayi % 3 == 0\n",
    "\n",
    "print(sonuc, sonuc2)"
   ]
  },
  {
   "cell_type": "markdown",
   "metadata": {},
   "source": [
    "#### Identity Operator (is)\n",
    "İki değişkenin aynı değişken olup olmadığını kontrol ediyor."
   ]
  },
  {
   "cell_type": "code",
   "execution_count": 68,
   "metadata": {},
   "outputs": [
    {
     "name": "stdout",
     "output_type": "stream",
     "text": [
      "True\n",
      "\n",
      "True\n",
      "False\n"
     ]
    }
   ],
   "source": [
    "x = 5\n",
    "y = x\n",
    "\n",
    "print(x is y)\n",
    "\n",
    "print()\n",
    "a = [1,2,3]\n",
    "b = [1,2,3]\n",
    "c = a\n",
    "\n",
    "print(a is c)\n",
    "print(a is b)"
   ]
  },
  {
   "cell_type": "markdown",
   "metadata": {},
   "source": [
    "#### Membership Operator (in)\n",
    "\n",
    "Bir elemanın, bir containerda (list, dictionary, set) olup olmadığını kontrol ediyor."
   ]
  },
  {
   "cell_type": "code",
   "execution_count": 70,
   "metadata": {},
   "outputs": [
    {
     "name": "stdout",
     "output_type": "stream",
     "text": [
      "True\n",
      "False\n"
     ]
    }
   ],
   "source": [
    "myList = [\"apple\", \"banana\", \"orange\"]\n",
    "\n",
    "print(\"apple\" in myList)\n",
    "print(\"cherry\" in myList)"
   ]
  },
  {
   "cell_type": "markdown",
   "metadata": {},
   "source": [
    "#### Demo\n",
    "\n",
    "1 - Girilen bir sayının pozitif çift sayı olup olmadığını ekrana basın"
   ]
  },
  {
   "cell_type": "markdown",
   "metadata": {},
   "source": [
    "2 - Kullanıcıdan iki vize (%60) ve final (%40) notunu alıp not ortalaması hesaplayın ve dersi geçip geçemediğini ekrana basın.\n",
    "\n",
    "Geçme şartları:\n",
    "* Eğer ortalama 50 veya üstündeyse, ve final en az 50 ise,\n",
    "* Eğer final 70 veya üstündeyse, not ortalaması ne olursa olsun"
   ]
  },
  {
   "cell_type": "code",
   "execution_count": 73,
   "metadata": {},
   "outputs": [
    {
     "name": "stdout",
     "output_type": "stream",
     "text": [
      "Bir sayı girin: -8\n",
      "False\n"
     ]
    }
   ],
   "source": [
    "sayi = int(input(\"Bir sayı girin: \"))\n",
    "print(sayi %2 == 0 and sayi > 0)"
   ]
  },
  {
   "cell_type": "code",
   "execution_count": 78,
   "metadata": {},
   "outputs": [
    {
     "name": "stdout",
     "output_type": "stream",
     "text": [
      "İlk vizenin notunu girin: 1\n",
      "İkinci vizenin notunu girin: 1\n",
      "Final notunu girin: 70\n",
      "28.6 True True\n"
     ]
    }
   ],
   "source": [
    "vize1 = int(input(\"İlk vizenin notunu girin: \"))\n",
    "vize2 = int(input(\"İkinci vizenin notunu girin: \"))\n",
    "final = int(input(\"Final notunu girin: \"))\n",
    "\n",
    "not_ortalamasi = vize1 * 0.3 + vize2 * 0.3 + final * 0.4\n",
    "\n",
    "sart1 = not_ortalamasi >= 50 and final >= 50\n",
    "sart2 = final >= 70\n",
    "sonuc = sart1 or sart2\n",
    "sonuc2 = (not_ortalamasi >= 50 and final >= 50) or final >= 70\n",
    "\n",
    "print(not_ortalamasi, sonuc, sonuc2)"
   ]
  }
 ],
 "metadata": {
  "kernelspec": {
   "display_name": "Python 3",
   "language": "python",
   "name": "python3"
  },
  "language_info": {
   "codemirror_mode": {
    "name": "ipython",
    "version": 3
   },
   "file_extension": ".py",
   "mimetype": "text/x-python",
   "name": "python",
   "nbconvert_exporter": "python",
   "pygments_lexer": "ipython3",
   "version": "3.9.0"
  }
 },
 "nbformat": 4,
 "nbformat_minor": 4
}

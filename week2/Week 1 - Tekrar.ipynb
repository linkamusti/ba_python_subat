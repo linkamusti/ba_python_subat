{
 "cells": [
  {
   "cell_type": "markdown",
   "metadata": {},
   "source": [
    "### Print - Input\n",
    "\n",
    "Ekrana bir şey basmak için : print(xxx)\n",
    "Kullanıcıdan bir bilgi almak için: xxx = input(\"SORUMUZ NEYSE ONU YAZIYORUZ\")"
   ]
  },
  {
   "cell_type": "code",
   "execution_count": 3,
   "metadata": {},
   "outputs": [
    {
     "name": "stdout",
     "output_type": "stream",
     "text": [
      "Hello World\n",
      "İsmin nedir: Mustafa\n",
      "Yaşın kaç: 26\n",
      "Mustafa 26\n"
     ]
    }
   ],
   "source": [
    "print(\"Hello World\")\n",
    "name = input(\"İsmin nedir: \")\n",
    "yas = int(input(\"Yaşın kaç: \"))\n",
    "\n",
    "print(name, yas)"
   ]
  },
  {
   "cell_type": "markdown",
   "metadata": {},
   "source": [
    "### Veri tipleri\n",
    "\n",
    "* Sayılar\n",
    "    * Integer\n",
    "    * Float\n",
    "* Yazılar\n",
    "    * String\n",
    "* Boolean (True/False)"
   ]
  },
  {
   "cell_type": "code",
   "execution_count": 5,
   "metadata": {
    "scrolled": true
   },
   "outputs": [
    {
     "name": "stdout",
     "output_type": "stream",
     "text": [
      "<class 'int'>\n",
      "<class 'float'>\n",
      "<class 'str'>\n",
      "<class 'bool'>\n"
     ]
    }
   ],
   "source": [
    "x = 15\n",
    "y = 15.6\n",
    "z = \"Mustafa -122384 '+(^/^')(+/^))'\"\n",
    "q = True\n",
    "\n",
    "print(type(x))\n",
    "print(type(y))\n",
    "print(type(z))\n",
    "print(type(q))"
   ]
  },
  {
   "cell_type": "code",
   "execution_count": 11,
   "metadata": {},
   "outputs": [
    {
     "name": "stdout",
     "output_type": "stream",
     "text": [
      "AAAAAAAAAA\n",
      "AB\n",
      "225\n",
      "3\n",
      "1\n"
     ]
    }
   ],
   "source": [
    "s = \"A\"\n",
    "b = \"B\"\n",
    "print(s * 10)\n",
    "print(s+b)\n",
    "\n",
    "myInt = 15\n",
    "\n",
    "print(myInt ** 2)\n",
    "print(myInt // 4)\n",
    "print(myInt % 2)"
   ]
  },
  {
   "cell_type": "markdown",
   "metadata": {},
   "source": [
    "### Listeler\n",
    "\n",
    "\\[\\] içerisinde virgüller ile ayrılarak birden fazla elemanı tek bir yerde tutmaya yarıyor."
   ]
  },
  {
   "cell_type": "code",
   "execution_count": 13,
   "metadata": {},
   "outputs": [
    {
     "name": "stdout",
     "output_type": "stream",
     "text": [
      "4\n",
      "[2, 3, 4]\n"
     ]
    }
   ],
   "source": [
    "myList = [1,2,3,4,5]\n",
    "myKarisik = [1,\"Mustafa\", True, 3.6]\n",
    "\n",
    "print(myList[3])\n",
    "print(myList[1:4]) # Slicing"
   ]
  },
  {
   "cell_type": "markdown",
   "metadata": {},
   "source": [
    "### Dictionary\n",
    "\n",
    "{} arasında key-value ikilileri şeklinde tanımlanıyor."
   ]
  },
  {
   "cell_type": "code",
   "execution_count": 15,
   "metadata": {},
   "outputs": [
    {
     "name": "stdout",
     "output_type": "stream",
     "text": [
      "kozyatagi\n"
     ]
    }
   ],
   "source": [
    "myDict = {\"isim\": \"Mustafa\", \"yas\": 26, \"semt\": \"kozyatagi\"}\n",
    "\n",
    "print(myDict[\"semt\"])"
   ]
  }
 ],
 "metadata": {
  "kernelspec": {
   "display_name": "Python 3",
   "language": "python",
   "name": "python3"
  },
  "language_info": {
   "codemirror_mode": {
    "name": "ipython",
    "version": 3
   },
   "file_extension": ".py",
   "mimetype": "text/x-python",
   "name": "python",
   "nbconvert_exporter": "python",
   "pygments_lexer": "ipython3",
   "version": "3.9.0"
  }
 },
 "nbformat": 4,
 "nbformat_minor": 4
}

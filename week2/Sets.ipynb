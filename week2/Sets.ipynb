{
 "cells": [
  {
   "cell_type": "markdown",
   "metadata": {},
   "source": [
    "### Set (Küme)\n",
    "\n",
    "* Daha önceden tanımlanmış bir listeyi **set()** ile çevreleyerek tanımlanıyor\n",
    "* Küme parantezleri ile {} key-value vermeden, virgüllerle ayrılmış elemanlar şeklinde de tanımlanabiliyor.\n",
    "* Aynı elemandan birden fazla bulunamıyor\n",
    "* Kesişim / Birleşim gibi küme işlemleri yapılabiliyor.\n",
    "* Elemanların indexleri (sıraları) yok."
   ]
  },
  {
   "cell_type": "code",
   "execution_count": 2,
   "metadata": {},
   "outputs": [
    {
     "name": "stdout",
     "output_type": "stream",
     "text": [
      "<class 'set'>\n",
      "<class 'dict'>\n"
     ]
    }
   ],
   "source": [
    "fruits = {'orange', 'apple', 'banana', 'strawberry'}\n",
    "myDict = {\"isim\": \"Mustafa\", \"yas\": 26}\n",
    "print(type(fruits))\n",
    "print(type(myDict))"
   ]
  },
  {
   "cell_type": "code",
   "execution_count": 5,
   "metadata": {
    "scrolled": true
   },
   "outputs": [
    {
     "name": "stdout",
     "output_type": "stream",
     "text": [
      "{'banana', 'strawberry', 'apple', 'orange'}\n",
      "banana\n",
      "strawberry\n",
      "apple\n",
      "orange\n"
     ]
    }
   ],
   "source": [
    "print(fruits)\n",
    "for fruit in fruits:\n",
    "    print(fruit)"
   ]
  },
  {
   "cell_type": "markdown",
   "metadata": {},
   "source": [
    "#### Kümeye eleman ekleme\n",
    "\n",
    "add fonksiyonu ile yapılıyor.\n",
    "\n",
    "> fruits = {\"orange\", \"apple\"}\n",
    "\n",
    "> fruits.add(\"banana\")\n",
    "\n"
   ]
  },
  {
   "cell_type": "code",
   "execution_count": 6,
   "metadata": {},
   "outputs": [
    {
     "name": "stdout",
     "output_type": "stream",
     "text": [
      "{'orange', 'banana', 'cherry', 'apple', 'strawberry'}\n"
     ]
    }
   ],
   "source": [
    "fruits.add(\"cherry\")\n",
    "print(fruits)"
   ]
  },
  {
   "cell_type": "markdown",
   "metadata": {},
   "source": [
    "#### Kümeden bir eleman çıkartma\n",
    "\n",
    "remove komutu ile yapılıyor.\n",
    "\n",
    "> fruits.remove(\"banana\")"
   ]
  },
  {
   "cell_type": "code",
   "execution_count": 7,
   "metadata": {},
   "outputs": [
    {
     "name": "stdout",
     "output_type": "stream",
     "text": [
      "{'orange', 'cherry', 'apple', 'strawberry'}\n"
     ]
    }
   ],
   "source": [
    "fruits.remove(\"banana\")\n",
    "print(fruits)"
   ]
  },
  {
   "cell_type": "markdown",
   "metadata": {},
   "source": [
    "#### Kümeyi güncellemek için\n",
    "\n",
    "Küme birden fazla eleman eklemek için **update** komutunu kullanıyoruz.\n",
    "\n",
    "> fruits.update(\\['grape', 'apple', 'mango'\\])"
   ]
  },
  {
   "cell_type": "code",
   "execution_count": 8,
   "metadata": {},
   "outputs": [
    {
     "name": "stdout",
     "output_type": "stream",
     "text": [
      "{'orange', 'mango', 'cherry', 'grape', 'apple', 'strawberry'}\n"
     ]
    }
   ],
   "source": [
    "fruits.update(['grape', 'apple', 'mango'])\n",
    "print(fruits)"
   ]
  },
  {
   "cell_type": "markdown",
   "metadata": {},
   "source": [
    "#### Daha önceden tanımlanmış bir liste ile set(küme) oluşturma"
   ]
  },
  {
   "cell_type": "code",
   "execution_count": 10,
   "metadata": {},
   "outputs": [
    {
     "name": "stdout",
     "output_type": "stream",
     "text": [
      "{1, 2, 3, 4, 5}\n"
     ]
    }
   ],
   "source": [
    "myList = [1,2,3,3,2,3,2,4,1,2,5,2,3]\n",
    "mySet = set(myList)\n",
    "print(mySet)"
   ]
  },
  {
   "cell_type": "markdown",
   "metadata": {},
   "source": [
    "#### İki kümenin kesişimi\n",
    "\n",
    "intersection methodunu kullanarak yapıyoruz\n",
    "\n",
    "> kume1.intersection(kume2)\n",
    "\n",
    "Ya da iki küme arasında & (and) işareti koyarak"
   ]
  },
  {
   "cell_type": "code",
   "execution_count": 20,
   "metadata": {},
   "outputs": [
    {
     "name": "stdout",
     "output_type": "stream",
     "text": [
      "{1, 2, 3, 4, 5}\n",
      "{3, 4, 5}\n",
      "{3, 4, 5}\n",
      "{5}\n",
      "{5}\n",
      "{5}\n"
     ]
    }
   ],
   "source": [
    "myList1 = [1,2,3,4,5]\n",
    "myList2 = [3,4,5,6,7]\n",
    "myList3 = [5,6,7,8,9]\n",
    "\n",
    "mySet1 = set(myList1)\n",
    "mySet2 = set(myList2)\n",
    "mySet3 = set(myList3)\n",
    "\n",
    "print(mySet1)\n",
    "\n",
    "kesisim = mySet1.intersection(mySet2)\n",
    "kesisim2 = mySet3.intersection(kesisim)\n",
    "kesisim3 = mySet1.intersection(mySet2.intersection(mySet3))\n",
    "\n",
    "print(kesisim)\n",
    "print(mySet1 & mySet2)\n",
    "print(mySet1 & mySet2 & mySet3)\n",
    "print(kesisim2)\n",
    "print(kesisim3)"
   ]
  },
  {
   "cell_type": "markdown",
   "metadata": {},
   "source": [
    "#### Birleşim\n",
    "\n",
    "Union methodunu kullanarak yapıyoruz\n",
    "\n",
    "> kume1.union(kume2)\n",
    "\n",
    "Ya da | (or) işaretini kullanabiliriz."
   ]
  },
  {
   "cell_type": "code",
   "execution_count": 23,
   "metadata": {},
   "outputs": [
    {
     "name": "stdout",
     "output_type": "stream",
     "text": [
      "{1, 2, 3, 4, 5, 6, 7}\n",
      "{1, 2, 3, 4, 5, 6, 7}\n",
      "{1, 2, 3, 4, 5, 6, 7, 8, 9}\n",
      "{5, 6, 7}\n"
     ]
    }
   ],
   "source": [
    "birlesim = mySet1.union(mySet2)\n",
    "print(birlesim)\n",
    "\n",
    "print(mySet1 | mySet2)\n",
    "print(mySet1 | mySet2 | mySet3)\n",
    "print((mySet1 | mySet2) & mySet3)"
   ]
  }
 ],
 "metadata": {
  "kernelspec": {
   "display_name": "Python 3",
   "language": "python",
   "name": "python3"
  },
  "language_info": {
   "codemirror_mode": {
    "name": "ipython",
    "version": 3
   },
   "file_extension": ".py",
   "mimetype": "text/x-python",
   "name": "python",
   "nbconvert_exporter": "python",
   "pygments_lexer": "ipython3",
   "version": "3.9.0"
  }
 },
 "nbformat": 4,
 "nbformat_minor": 4
}

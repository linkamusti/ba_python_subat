{
 "cells": [
  {
   "cell_type": "markdown",
   "metadata": {},
   "source": [
    "# Loops\n",
    "\n",
    "* Ya bir işlemi X kadar tekrarla\n",
    "* Ya da bir işlem \"X olana kadar\" devam etsin\n",
    "* Ya da her bir X için şöyle yap\n",
    "\n",
    "\n",
    "### While\n",
    "\n",
    "> **while** (CONDITION):\n",
    "\n",
    ">       STATEMENT1\n",
    "    \n",
    ">       STATEMENT2\n",
    "    \n",
    ">       ..."
   ]
  },
  {
   "cell_type": "code",
   "execution_count": 1,
   "metadata": {},
   "outputs": [
    {
     "name": "stdout",
     "output_type": "stream",
     "text": [
      "1\n",
      "2\n",
      "3\n",
      "4\n",
      "5\n",
      "6\n",
      "7\n",
      "8\n",
      "9\n",
      "\n",
      "While loopum sona erdi\n"
     ]
    }
   ],
   "source": [
    "x = 1\n",
    "\n",
    "while x < 10:\n",
    "    print(x)\n",
    "    x = x + 1\n",
    "    \n",
    "print(\"\\nWhile loopum sona erdi\")"
   ]
  },
  {
   "cell_type": "code",
   "execution_count": 3,
   "metadata": {},
   "outputs": [
    {
     "ename": "KeyboardInterrupt",
     "evalue": "",
     "output_type": "error",
     "traceback": [
      "\u001b[0;31m---------------------------------------------------------------------------\u001b[0m",
      "\u001b[0;31mKeyboardInterrupt\u001b[0m                         Traceback (most recent call last)",
      "\u001b[0;32m<ipython-input-3-7a6952824194>\u001b[0m in \u001b[0;36m<module>\u001b[0;34m\u001b[0m\n\u001b[1;32m      4\u001b[0m \u001b[0my\u001b[0m \u001b[0;34m=\u001b[0m \u001b[0;36m15\u001b[0m\u001b[0;34m\u001b[0m\u001b[0;34m\u001b[0m\u001b[0m\n\u001b[1;32m      5\u001b[0m \u001b[0;32mwhile\u001b[0m \u001b[0mx\u001b[0m \u001b[0;34m<\u001b[0m \u001b[0;36m10\u001b[0m\u001b[0;34m:\u001b[0m\u001b[0;34m\u001b[0m\u001b[0;34m\u001b[0m\u001b[0m\n\u001b[0;32m----> 6\u001b[0;31m     \u001b[0my\u001b[0m \u001b[0;34m+=\u001b[0m \u001b[0;36m1\u001b[0m\u001b[0;34m\u001b[0m\u001b[0;34m\u001b[0m\u001b[0m\n\u001b[0m\u001b[1;32m      7\u001b[0m \u001b[0;34m\u001b[0m\u001b[0m\n\u001b[1;32m      8\u001b[0m \u001b[0mprint\u001b[0m\u001b[0;34m(\u001b[0m\u001b[0;34m\"Loopum bitti\"\u001b[0m\u001b[0;34m)\u001b[0m\u001b[0;34m\u001b[0m\u001b[0;34m\u001b[0m\u001b[0m\n",
      "\u001b[0;31mKeyboardInterrupt\u001b[0m: "
     ]
    }
   ],
   "source": [
    "#Infinite loop\n",
    "\n",
    "x = 1\n",
    "y = 15\n",
    "while x < 10:\n",
    "    y += 1\n",
    "    \n",
    "print(\"Loopum bitti\")"
   ]
  },
  {
   "cell_type": "markdown",
   "metadata": {},
   "source": [
    "### While loop genelleme:\n",
    "\n",
    "* Initialization (İlk değerleri belirleme)\n",
    "* Condition (Devam etme koşullarını belirleme)\n",
    "* Update (Her tur güncellenecek değeri belirleme)"
   ]
  },
  {
   "cell_type": "code",
   "execution_count": null,
   "metadata": {},
   "outputs": [],
   "source": [
    "x = 1 # Initialization \n",
    "\n",
    "while x < 10: # Condition\n",
    "    print(x)\n",
    "    x = x + 1 # Update\n",
    "    \n",
    "print(\"\\nWhile loopum sona erdi\")"
   ]
  },
  {
   "cell_type": "code",
   "execution_count": 4,
   "metadata": {},
   "outputs": [
    {
     "name": "stdout",
     "output_type": "stream",
     "text": [
      "Bir sayı girin:1\n",
      "Bir sayı girin: 2\n",
      "Bir sayı girin: 3\n",
      "Bir sayı girin: 4\n",
      "Bir sayı girin: 5\n",
      "Bir sayı girin: 6\n",
      "Bir sayı girin: 7\n",
      "Bir sayı girin: 8\n",
      "Bir sayı girin: 9\n",
      "Bir sayı girin: 0\n",
      "Bir sayı girin: 1\n",
      "Bir sayı girin: 4\n",
      "Bir sayı girin: 1\n",
      "Bir sayı girin: -5\n",
      "While loopu bitti.\n",
      "[1, 2, 3, 4, 5, 6, 7, 8, 9, 0, 1, 4, 1]\n"
     ]
    }
   ],
   "source": [
    "## Kullanıcıdan negatif bir sayı girilene kadar sayılar alıp bir listeye ekleyin\n",
    "\n",
    "# Initilization: Boş bir liste oluşturmak\n",
    "#                Kullanıcının gireceği sayıyı oluşturmak\n",
    "# Condition: Kullanıcının negatif bir sayı girmemesi\n",
    "# Update: Kullanıcıdan yeni bir sayı almak\n",
    "\n",
    "liste = []\n",
    "sayi = int(input(\"Bir sayı girin:\"))\n",
    "\n",
    "while sayi >= 0:\n",
    "    liste.append(sayi)\n",
    "    sayi = int(input(\"Bir sayı girin: \"))\n",
    "    \n",
    "print(\"While loopu bitti.\")\n",
    "print(liste)"
   ]
  },
  {
   "cell_type": "code",
   "execution_count": 6,
   "metadata": {},
   "outputs": [
    {
     "name": "stdout",
     "output_type": "stream",
     "text": [
      "2 4 8 10 14 16 20 22 26 28 32 34 38 40 44 46 50 52 56 58 62 64 68 70 74 76 80 82 86 88 92 94 98 "
     ]
    }
   ],
   "source": [
    "## 0'dan 100e kadar olan sayılar arasında 2ye bölünüp 3e bölünmeyen sayıları ekrana basın (while)\n",
    "\n",
    "# Initilzation: Sayıyı 0'a eşitleme\n",
    "# Condition: Sayının 100'den küçük olması\n",
    "# Asıl problem: sayı 2ye bölünüp 3e bölünemiyorsa ekrana basma\n",
    "# Update: Sayıyı 1 arttırmak\n",
    "\n",
    "sayi = 0\n",
    "\n",
    "while sayi < 100:\n",
    "    if sayi % 2 == 0 and sayi % 3 != 0:\n",
    "        print(sayi, end=\" \")\n",
    "    sayi += 1"
   ]
  },
  {
   "cell_type": "code",
   "execution_count": 8,
   "metadata": {},
   "outputs": [
    {
     "name": "stdout",
     "output_type": "stream",
     "text": [
      "Bir isim girin: Mustafa\n",
      "Bir isim daha girin: Arda\n",
      "Bir isim daha girin: Berkcan\n",
      "Bir isim daha girin: Burak\n",
      "Bir isim daha girin: Dilara\n",
      "Bir isim daha girin: Gül\n",
      "Bir isim daha girin: Hasan\n",
      "Bir isim daha girin: Melike\n",
      "Bir isim daha girin: Sibel\n",
      "Bir isim daha girin: Mert\n",
      "Bir isim daha girin: Onur\n",
      "Bir isim daha girin: Serap\n",
      "Bir isim daha girin: Tayland\n",
      "Bir isim daha girin: Emre\n",
      "Bir isim daha girin: bitti\n",
      "Listede aramak istediğiniz ismi girin: Süleyman\n",
      "Girdiğiniz isim listede yok.\n"
     ]
    }
   ],
   "source": [
    "## Kullanıcıdan tekrar tekrar öğrenci isimleri alacağız.\n",
    "## Kullanıcı \"bitti\" yazdığında öğrenci ismi almayı bırakacağız.\n",
    "## Kullanıcıdan aldığımız tüm isimleri bir listeye ekleyeceğiz.\n",
    "\n",
    "## Sonra kullanıcıdan bir isim daha alıp listede olup olmadığını ekrana basacağız.\n",
    "\n",
    "# init: kullanıcıdan ilk ismi alma\n",
    "#       boş bir liste oluşturmak\n",
    "# condition: girilen ismin \"bitti\" olmaması\n",
    "# asıl iş: girilen ismi listeye ekleme\n",
    "# update: kullanıcıdan bir isim daha almak\n",
    "\n",
    "liste = []\n",
    "isim = input(\"Bir isim girin: \")\n",
    "\n",
    "while isim != \"bitti\":\n",
    "    liste.append(isim)\n",
    "    isim = input(\"Bir isim daha girin: \")\n",
    "    \n",
    "isim = input(\"Listede aramak istediğiniz ismi girin: \")\n",
    "\n",
    "if isim in liste:\n",
    "    print(\"Girdiğiniz isim listede var.\")\n",
    "else:\n",
    "    print(\"Girdiğiniz isim listede yok.\")"
   ]
  }
 ],
 "metadata": {
  "kernelspec": {
   "display_name": "Python 3",
   "language": "python",
   "name": "python3"
  },
  "language_info": {
   "codemirror_mode": {
    "name": "ipython",
    "version": 3
   },
   "file_extension": ".py",
   "mimetype": "text/x-python",
   "name": "python",
   "nbconvert_exporter": "python",
   "pygments_lexer": "ipython3",
   "version": "3.9.0"
  }
 },
 "nbformat": 4,
 "nbformat_minor": 4
}

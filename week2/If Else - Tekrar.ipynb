{
 "cells": [
  {
   "cell_type": "code",
   "execution_count": 2,
   "metadata": {},
   "outputs": [
    {
     "name": "stdout",
     "output_type": "stream",
     "text": [
      "Bu ifin dışında\n"
     ]
    }
   ],
   "source": [
    "if 3 < 5:\n",
    "    print(\"Üç beşten küçüktür\")\n",
    "    print(\"Burası benim ifimin içi\")\n",
    "    print(\"İfim burda bitiyor\")\n",
    "    \n",
    "print(\"Bu ifin dışında\")"
   ]
  },
  {
   "cell_type": "code",
   "execution_count": 15,
   "metadata": {},
   "outputs": [
    {
     "name": "stdout",
     "output_type": "stream",
     "text": [
      "Adını gir: Mustafa\n",
      "Hoşgeldin Mustafa, dersi anlatmaya başlayabilirsin.\n",
      "------------------DERS BAŞLIYOR-------------------\n"
     ]
    }
   ],
   "source": [
    "name = input(\"Adını gir: \")\n",
    "\n",
    "if name == \"Mustafa\":\n",
    "    print(\"Hoşgeldin Mustafa, dersi anlatmaya başlayabilirsin.\")\n",
    "else:\n",
    "    print(\"Hoşgeldin {}. Ders birazdan başlıyor.\".format(name))\n",
    "    #print(\"Hoşgeldin {}. Ders birazdan başlıyor. Yaşın {}\".format(name, age)) \n",
    "    #print(\"Hoşgeldin \", name, \". Ders birazdan başlıyor\")\n",
    "    \n",
    "print(\"DERS BAŞLIYOR\".center(50, \"-\"))"
   ]
  },
  {
   "cell_type": "code",
   "execution_count": 17,
   "metadata": {},
   "outputs": [
    {
     "name": "stdout",
     "output_type": "stream",
     "text": [
      "Yaşını gir: 14\n",
      "Eğitim durumunu gir: üniversite\n",
      "Yaşınızdan dolayı ehliyet alamazsınız.\n",
      "\n",
      "\n",
      "Değerlendirmeniz sona ermiştir.\n"
     ]
    }
   ],
   "source": [
    "# Nested if \n",
    "# Yaş 18den büyük ve eğitim durumu lise veya üniversiteyse ehliyet alabilir\n",
    "# Yoksa alamaz\n",
    "\n",
    "age = int(input(\"Yaşını gir: \"))\n",
    "egitim = input(\"Eğitim durumunu gir: \")\n",
    "\n",
    "\n",
    "if age >= 18:\n",
    "    if egitim == \"lise\" or egitim == \"üniversite\":\n",
    "        print(\"Ehliyet alabilirsiniz.\")\n",
    "    else:\n",
    "        print(\"Eğitim durumunuzdan dolayı ehliyet alamazsınız.\")\n",
    "else:\n",
    "     print(\"Yaşınızdan dolayı ehliyet alamazsınız.\")\n",
    "        \n",
    "print(\"\\n\\nDeğerlendirmeniz sona ermiştir.\")"
   ]
  },
  {
   "cell_type": "code",
   "execution_count": 21,
   "metadata": {},
   "outputs": [
    {
     "name": "stdout",
     "output_type": "stream",
     "text": [
      "Bir sayı girin: 0\n",
      "Girilen sayı 0'dır\n"
     ]
    }
   ],
   "source": [
    "## Kullanıcıdan bir sayı alıp, pozitif çift sayı olup olmadığını ekrana basın\n",
    "# Eğer pozitif çift sayıysa \"Girilen sayı pozitif çift sayıdır.\" yazın\n",
    "# Eğer pozitif tek sayıysa \"Girilen sayı pozitif tek sayıdır\" yazın\n",
    "# Eğer negatifse \"Girilen sayı negatiftir\" yazın\n",
    "\n",
    "sayi = int(input(\"Bir sayı girin: \"))\n",
    "\n",
    "if sayi > 0:\n",
    "    if sayi % 2 == 0:\n",
    "        print(\"Girilen sayı pozitif çift bir sayıdır.\")\n",
    "    else:\n",
    "        print(\"Girilen sayı pozitif tek bir sayıdır.\")\n",
    "elif sayi == 0:\n",
    "    print(\"Girilen sayı 0'dır\")\n",
    "else:\n",
    "    print(\"Girilen sayı negatiftir.\")\n",
    "    "
   ]
  },
  {
   "cell_type": "code",
   "execution_count": 44,
   "metadata": {},
   "outputs": [
    {
     "name": "stdout",
     "output_type": "stream",
     "text": [
      "Email girin: mustafa\n",
      "Password girin: abc123\n",
      "Hatalı email\n"
     ]
    }
   ],
   "source": [
    "# Email ve parola bilgisi alıcaz\n",
    "# email: \"***@bilgeadam.com\"\n",
    "# password: \"abc123\"\n",
    "\n",
    "# Eğer email ve password doğruysa, \"Uygulamaya giriş başarılı\" yazın\n",
    "# Eğer password hatalıysa \"Hatalı parola\" yazın\n",
    "# Eğer email hatalıysa \"Hatalı email\" yazın\n",
    "\n",
    "\n",
    "email = input(\"Email girin: \")\n",
    "password = input(\"Password girin: \")\n",
    "\n",
    "#if \"@bilgeadam.com\" in email:\n",
    "#if email[-14:] == \"@bilgeadam.com\":\n",
    "\n",
    "email_split = email.split(\"@\")\n",
    "\n",
    "# Short circuit (Kısa devre)\n",
    "if len(email_split) == 2 and email_split[1] == \"bilgeadam.com\":\n",
    "    if password == \"abc123\":\n",
    "        print(\"Uygulamaya giriş başarılı\")\n",
    "    else:\n",
    "        print(\"Hatalı parola\")\n",
    "else:\n",
    "    print(\"Hatalı email\")\n",
    "    \n",
    "    "
   ]
  },
  {
   "cell_type": "code",
   "execution_count": 51,
   "metadata": {},
   "outputs": [
    {
     "name": "stdout",
     "output_type": "stream",
     "text": [
      "a: 1\n",
      "b: 2\n",
      "c: 3\n",
      "c en büyük sayı: 3\n",
      "3\n"
     ]
    }
   ],
   "source": [
    "## Kullanıcıdan 3 tane sayı alın\n",
    "## En büyük sayıyı ekrana basın\n",
    "## Sayıların farklı olacağını kabul edebiliriz\n",
    "\n",
    "a = int(input(\"a: \"))\n",
    "b = int(input(\"b: \"))\n",
    "c = int(input(\"c: \"))\n",
    "\n",
    "\n",
    "if a > b and a > c:\n",
    "    print(\"a en büyük sayı: {}\".format(a))\n",
    "elif b > a and b > c:\n",
    "    print(\"b en büyük sayı: {}\".format(b))\n",
    "else:\n",
    "    print(\"c en büyük sayı: {}\".format(c))\n",
    "    \n",
    "\n",
    "#myList = [a,b,c]\n",
    "#myList.sort(reverse=True)\n",
    "#print(max(myList))"
   ]
  },
  {
   "cell_type": "code",
   "execution_count": 55,
   "metadata": {},
   "outputs": [
    {
     "name": "stdout",
     "output_type": "stream",
     "text": [
      "1. vize notunu girin:100\n",
      "2. vize notunu girin:100\n",
      "Final notunu girin: 30\n",
      "72.0\n",
      "F\n"
     ]
    }
   ],
   "source": [
    "## Kullanıcıdan 2 vize (%30 %30) ve 1 final (%40) notu alın ve not ortalamasını hesaplayın\n",
    "## Not ortalamasına denk gelen harf notunu ekrana basın\n",
    "## 100 - 85 -> A\n",
    "## 70 - 85 -> B\n",
    "## 60 - 70 -> C\n",
    "## 50 - 60 -> D\n",
    "## <50 -> F\n",
    "\n",
    "## Final notu 50'nin altındaysa ortalama ne olursa olsun F\n",
    "\n",
    "vize1 = int(input(\"1. vize notunu girin:\"))\n",
    "vize2 = int(input(\"2. vize notunu girin:\"))\n",
    "final = int(input(\"Final notunu girin: \"))\n",
    "\n",
    "not_ortalamasi = 0.3 * vize1 + 0.3 * vize2 + 0.4 * final\n",
    "print(not_ortalamasi)\n",
    "if final < 50:\n",
    "    print(\"F\")\n",
    "elif 100 > not_ortalamasi >= 85:\n",
    "    print(\"A\")\n",
    "elif 85 > not_ortalamasi >= 70:\n",
    "    print(\"B\")\n",
    "elif 70 > not_ortalamasi >= 60:\n",
    "    print(\"C\")\n",
    "elif 60 > not_ortalamasi >= 50:\n",
    "    print(\"D\")\n",
    "elif not_ortalamasi < 50:\n",
    "    print(\"F\")\n",
    "else:\n",
    "    print(\"Bi hata var\")"
   ]
  },
  {
   "cell_type": "code",
   "execution_count": 63,
   "metadata": {},
   "outputs": [
    {
     "name": "stdout",
     "output_type": "stream",
     "text": [
      "İsim soyisim: Mustafa Kemal Taş\n",
      "Kilo: 82\n",
      "Boy: 1.78\n",
      "Mustafa Kemal Taş vücut kitle indeksin: 25.88, Fazla Kilolu kategorisine giriyorsun\n",
      "Fazla Kilolu\n"
     ]
    }
   ],
   "source": [
    "## Kişinin ad soyad kilo ve boy bilgilerini alıp Vücut Kitle İndeksini hesaplayın\n",
    "# Formül : (Kilo / Boy'un karesi) (kg ve m float)\n",
    "# Aşağıdaki tabloya göre hangi aralığa girdiğini ekrana basın\n",
    "# 0 - 18.4 => Zayıf\n",
    "# 18.5 - 24.9 => Normal\n",
    "# 25.0 - 29.9 => Fazla Kilolu\n",
    "# 30-34.9 => Şişman (Obez)\n",
    "\n",
    "# Boy ve kilo pozitif girilmezse, ekrana uyarı basın \n",
    "# {İsim Soyisim} vücut kitle indeksin: {BMI}, {aralık} kategorisine giriyorsun.\n",
    "\n",
    "ad_soyad = input(\"İsim soyisim: \")\n",
    "kilo = float(input(\"Kilo: \"))\n",
    "boy = float(input(\"Boy: \"))\n",
    "\n",
    "BMI = kilo / (boy ** 2)\n",
    "\n",
    "\n",
    "if boy > 0 and kilo > 0:\n",
    "    if 0 < BMI <= 18.4:\n",
    "        sonuc = \"Zayıf\"\n",
    "    elif 18.4 < BMI <= 24.9:\n",
    "        sonuc = \"Normal\"\n",
    "    elif 24.9 < BMI <= 29.9:\n",
    "        sonuc = \"Fazla Kilolu\"\n",
    "    elif 29.9 < BMI <= 34.9:\n",
    "        sonuc = \"Şişman\"\n",
    "\n",
    "    print(\"{} vücut kitle indeksin: {:.2f}, {} kategorisine giriyorsun\".format(ad_soyad, BMI, sonuc))\n",
    "else: \n",
    "    print(\"Boy ve kilo değerleri pozitif olmalı\")"
   ]
  }
 ],
 "metadata": {
  "kernelspec": {
   "display_name": "Python 3",
   "language": "python",
   "name": "python3"
  },
  "language_info": {
   "codemirror_mode": {
    "name": "ipython",
    "version": 3
   },
   "file_extension": ".py",
   "mimetype": "text/x-python",
   "name": "python",
   "nbconvert_exporter": "python",
   "pygments_lexer": "ipython3",
   "version": "3.9.0"
  }
 },
 "nbformat": 4,
 "nbformat_minor": 4
}

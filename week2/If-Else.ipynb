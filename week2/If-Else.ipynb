{
 "cells": [
  {
   "cell_type": "markdown",
   "metadata": {},
   "source": [
    "### IF-ELSE\n",
    "**if** (CONDITION):\n",
    "\n",
    "    statement1\n",
    "    \n",
    "    statement2\n",
    "    \n",
    "    statement3\n",
    "    ...\n",
    "**else**:\n",
    "\n",
    "    statement1\n",
    "    \n",
    "    statement2\n",
    "    \n",
    "    statement3\n",
    "    ..."
   ]
  },
  {
   "cell_type": "code",
   "execution_count": 5,
   "metadata": {},
   "outputs": [
    {
     "ename": "IndentationError",
     "evalue": "expected an indented block (<ipython-input-5-ca5d173e51d8>, line 4)",
     "output_type": "error",
     "traceback": [
      "\u001b[0;36m  File \u001b[0;32m\"<ipython-input-5-ca5d173e51d8>\"\u001b[0;36m, line \u001b[0;32m4\u001b[0m\n\u001b[0;31m    print(\"Hoşgeldiniz, siteye giriş yapabilirsiniz.\")\u001b[0m\n\u001b[0m    ^\u001b[0m\n\u001b[0;31mIndentationError\u001b[0m\u001b[0;31m:\u001b[0m expected an indented block\n"
     ]
    }
   ],
   "source": [
    "age = int(input(\"Yaşınızı girin: \"))\n",
    "\n",
    "if age >= 18:\n",
    "    print(\"Hoşgeldiniz, siteye giriş yapabilirsiniz.\")\n",
    "else:\n",
    "    print(\"Malesef yaşınız bahis oynamaya yeterli değil.\")\n",
    "    \n",
    "print(\"If - Else bloğum sona erdi\")"
   ]
  },
  {
   "cell_type": "code",
   "execution_count": 13,
   "metadata": {},
   "outputs": [
    {
     "name": "stdout",
     "output_type": "stream",
     "text": [
      "Pizzanın yarıçapını girin: 0\n",
      "Pizzayı kaç dilime bölmek istersiniz: 0\n",
      "Pizzanın alanı:  0.0 , fakat dilim sayısı 0 olamaz.\n"
     ]
    }
   ],
   "source": [
    "# Kullanıcıdan bir pizzanın yarıçapını alıp, kaç dilime bölmek istediğini sorucaz\n",
    "# Bir dilimin alanını hesaplayıp ekrana basıcaz\n",
    "\n",
    "r = float(input(\"Pizzanın yarıçapını girin: \"))\n",
    "dilim = int(input(\"Pizzayı kaç dilime bölmek istersiniz: \"))\n",
    "\n",
    "if dilim == 0:\n",
    "    alan = 3 * r * r\n",
    "    print(\"Pizzanın alanı: \", alan, \", fakat dilim sayısı 0 olamaz.\")\n",
    "else:\n",
    "    alan = 3 * r * r\n",
    "    dilim_alani = alan / dilim\n",
    "    print(\"Pizzanın alanı: \", alan, \", bir dilimin alanı: \", dilim_alani)"
   ]
  },
  {
   "cell_type": "markdown",
   "metadata": {},
   "source": [
    "#### elif -> else if\n",
    "\n",
    "**if** (CONDITION1):\n",
    "\n",
    "    ...\n",
    "   \n",
    "**elif** (CONDITION2):\n",
    "\n",
    "    ...\n",
    "    \n",
    "**elif** (CONDITION3):\n",
    "\n",
    "    ...\n",
    "    \n",
    "...\n",
    "\n",
    "**else**:\n",
    "\n",
    "    ..."
   ]
  },
  {
   "cell_type": "code",
   "execution_count": 19,
   "metadata": {},
   "outputs": [
    {
     "name": "stdout",
     "output_type": "stream",
     "text": [
      "Doğum yılınızı girin: 1999\n",
      "Generation: Z\n",
      "\n",
      "Bizi tercih ettiğiniz için teşekkür ederiz\n"
     ]
    }
   ],
   "source": [
    "# 1925-1945 : Silent\n",
    "# 1946-1964 : Baby Boomer\n",
    "# 1965-1979 : X\n",
    "# 1980-1995 : Y\n",
    "# 1996-2020 : Z\n",
    "\n",
    "birthyear = int(input(\"Doğum yılınızı girin: \"))\n",
    "\n",
    "'''\n",
    "if 1925 <= birthyear <= 1945:\n",
    "    print(\"Generation: Silent\")\n",
    "elif 1946 <= birthyear <= 1964:\n",
    "    print(\"Generation: Baby Boomer\")\n",
    "elif 1965 <= birthyear <= 1979:\n",
    "    print(\"Generation: X\")\n",
    "elif 1980 <= birthyear <= 1995:\n",
    "    print(\"Generation: Y\")\n",
    "elif 1996 <= birthyear <= 2020:\n",
    "    print(\"Generation: Z\")\n",
    "else:\n",
    "    print(\"Generation Not Found!\")\n",
    "'''\n",
    "\n",
    "if 1925 <= birthyear <= 1945:\n",
    "    print(\"Generation: Silent\")\n",
    "if 1946 <= birthyear <= 1964:\n",
    "    print(\"Generation: Baby Boomer\")\n",
    "if 1965 <= birthyear <= 1979:\n",
    "    print(\"Generation: X\")\n",
    "if 1980 <= birthyear <= 1995:\n",
    "    print(\"Generation: Y\")\n",
    "if 1996 <= birthyear <= 2020:\n",
    "    print(\"Generation: Z\")\n",
    "\n",
    "\n",
    "\n",
    "print(\"\\nBizi tercih ettiğiniz için teşekkür ederiz\")\n"
   ]
  },
  {
   "cell_type": "code",
   "execution_count": 25,
   "metadata": {},
   "outputs": [
    {
     "name": "stdout",
     "output_type": "stream",
     "text": [
      "Bankada ne kadar paranız var: 980\n",
      "Faizden sonra anapara:  1274.0\n"
     ]
    }
   ],
   "source": [
    "## Bankada bir miktar paramız var, paranın miktarına göre kazanacağımız faizi hesaplayacağız\n",
    "# 0 - 1000 -> %30\n",
    "# 1000 - 5000 -> %25\n",
    "# 5000 - 10000 -> %15\n",
    "# > 10000 -> %5\n",
    "\n",
    "#En sonunda faizle birlikte anaparanın ne kadar olduğunu hesaplayın\n",
    "\n",
    "# 980 -> 1274\n",
    "\n",
    "anapara = int(input(\"Bankada ne kadar paranız var: \"))\n",
    "\n",
    "if 0 < anapara <= 1000:\n",
    "    anapara = anapara * 1.3\n",
    "elif 1000 < anapara <= 5000:\n",
    "    anapara = anapara * 1.25\n",
    "elif 5000 < anapara <= 10000:\n",
    "    anapara = anapara * 1.15\n",
    "elif 10000 < anapara:\n",
    "    anapara = anapara * 1.05\n",
    "\n",
    "'''\n",
    "# Elif kullanmadığımız için 980 değeri girildiğinde iki kere faiz işliyor\n",
    "if 0 < anapara <= 1000:\n",
    "    anapara = anapara * 1.3\n",
    "if 1000 < anapara <= 5000:\n",
    "    anapara = anapara * 1.25\n",
    "if 5000 < anapara <= 10000:\n",
    "    anapara = anapara * 1.15\n",
    "if 10000 < anapara:\n",
    "    anapara = anapara * 1.05\n",
    "'''\n",
    "    \n",
    "print(\"Faizden sonra anapara: \", anapara)"
   ]
  },
  {
   "cell_type": "code",
   "execution_count": 30,
   "metadata": {},
   "outputs": [
    {
     "name": "stdout",
     "output_type": "stream",
     "text": [
      "İsminizi girin: Mustafa\n",
      "Yaşınızı girin: 26\n",
      "Eğitim durumunuzu girin: üniversite\n",
      "Ehliyet almaya uygun\n",
      "Ehliyet almaya uygun\n"
     ]
    }
   ],
   "source": [
    "## Kullanıcıdan isim, yaş ve eğitim durumunu isteyip, ehliyet alıp alamayacağını ekrana basın.\n",
    "# Ehliyet alma şartları:\n",
    "# En az 18 yaşında ve eğitim durumu lise veya üniversite olacak.\n",
    "# Ehliyet alabiliyorsa ekrana \"Ehliyet almaya uygun\" yazın\n",
    "# Ehliyet alamıyorsa, alamama sebebini ekrana uygun bir şekilde yazın. (Yaştan dolayı, eğitim durumundan dolayı vs)\n",
    "\n",
    "isim = input(\"İsminizi girin: \")\n",
    "age = int(input(\"Yaşınızı girin: \"))\n",
    "egitim = input(\"Eğitim durumunuzu girin: \")\n",
    "\n",
    "if age >= 18 and (egitim == \"lise\" or egitim == \"üniversite\"):\n",
    "    print(\"Ehliyet almaya uygun\")\n",
    "elif age < 18:\n",
    "    print(\"Yaşınız ehliyet almaya uygun değil.\")\n",
    "elif egitim != \"lise\" and egitim != \"üniversite\":\n",
    "    print(\"Eğitim durumunuz ehliyet almaya uygun değil\")\n",
    "    \n",
    "    \n",
    "gecerliEgitimDurumu = [\"lise\", \"üniversite\", \"yükseklisans\"]\n",
    "\n",
    "if age >= 18 and egitim in gecerliEgitimDurumu:\n",
    "    print(\"Ehliyet almaya uygun\")\n",
    "elif age < 18:\n",
    "    print(\"Yaşınız ehliyet almaya uygun değil.\")\n",
    "elif egitim not in gecerliEgitimDurumu:\n",
    "    print(\"Eğitim durumunuz ehliyet almaya uygun değil\")"
   ]
  }
 ],
 "metadata": {
  "kernelspec": {
   "display_name": "Python 3",
   "language": "python",
   "name": "python3"
  },
  "language_info": {
   "codemirror_mode": {
    "name": "ipython",
    "version": 3
   },
   "file_extension": ".py",
   "mimetype": "text/x-python",
   "name": "python",
   "nbconvert_exporter": "python",
   "pygments_lexer": "ipython3",
   "version": "3.9.0"
  }
 },
 "nbformat": 4,
 "nbformat_minor": 4
}

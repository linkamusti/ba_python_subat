{
 "cells": [
  {
   "cell_type": "code",
   "execution_count": 11,
   "metadata": {
    "scrolled": true
   },
   "outputs": [
    {
     "name": "stdout",
     "output_type": "stream",
     "text": [
      "2002,2009,2016,2023,2037,2044,2051,2058,2072,2079,2086,2093,2107,2114,2121,2128,2142,2149,2156,2163,2177,2184,2191,2198,2212,2219,2226,2233,2247,2254,2261,2268,2282,2289,2296,2303,2317,2324,2331,2338,2352,2359,2366,2373,2387,2394,2401,2408,2422,2429,2436,2443,2457,2464,2471,2478,2492,2499,2506,2513,2527,2534,2541,2548,2562,2569,2576,2583,2597,2604,2611,2618,2632,2639,2646,2653,2667,2674,2681,2688,2702,2709,2716,2723,2737,2744,2751,2758,2772,2779,2786,2793,2807,2814,2821,2828,2842,2849,2856,2863,2877,2884,2891,2898,2912,2919,2926,2933,2947,2954,2961,2968,2982,2989,2996,3003,3017,3024,3031,3038,3052,3059,3066,3073,3087,3094,3101,3108,3122,3129,3136,3143,3157,3164,3171,3178,3192,3199\n",
      "\n",
      "İKİNCİ METOD:\n",
      "2002,2009,2016,2023,2037,2044,2051,2058,2072,2079,2086,2093,2107,2114,2121,2128,2142,2149,2156,2163,2177,2184,2191,2198,2212,2219,2226,2233,2247,2254,2261,2268,2282,2289,2296,2303,2317,2324,2331,2338,2352,2359,2366,2373,2387,2394,2401,2408,2422,2429,2436,2443,2457,2464,2471,2478,2492,2499,2506,2513,2527,2534,2541,2548,2562,2569,2576,2583,2597,2604,2611,2618,2632,2639,2646,2653,2667,2674,2681,2688,2702,2709,2716,2723,2737,2744,2751,2758,2772,2779,2786,2793,2807,2814,2821,2828,2842,2849,2856,2863,2877,2884,2891,2898,2912,2919,2926,2933,2947,2954,2961,2968,2982,2989,2996,3003,3017,3024,3031,3038,3052,3059,3066,3073,3087,3094,3101,3108,3122,3129,3136,3143,3157,3164,3171,3178,3192,3199\n"
     ]
    }
   ],
   "source": [
    "## 2000 ile 3200 arasında 5e bölünemeyip 7ye bölünebilen bütün sayıları \n",
    "#TEK BİR SATIRDA VİRGÜLLERLE AYRILMIŞ BİR ŞEKİLDE ekrana basın\n",
    "\n",
    "\n",
    "lst = []\n",
    "for i in range(2000, 3200):\n",
    "    if i%5 != 0 and i%7 == 0:\n",
    "        lst.append(str(i))\n",
    "        \n",
    "print(\",\".join(lst))\n",
    "\n",
    "\n",
    "print('\\nİKİNCİ METOD:')\n",
    "\n",
    "output = \"\"\n",
    "\n",
    "for i in range(2000,3200):\n",
    "    if i%5 != 0 and i%7 == 0:\n",
    "        output += str(i) + \",\"\n",
    "        \n",
    "print(output[:-1])"
   ]
  },
  {
   "cell_type": "code",
   "execution_count": 20,
   "metadata": {},
   "outputs": [
    {
     "name": "stdout",
     "output_type": "stream",
     "text": [
      "Sayıları virgüllerle ayrılmış bir şekilde girin: 1,3,4,7\n",
      "1,6,24,5040\n"
     ]
    }
   ],
   "source": [
    "## Kullanıcıdan virgüllerle ayrılmış sayılar alıp,\n",
    "## her bir sayının faktöriyelini virgüllerle ayrılmış bir şekilde ekrana basalım\n",
    "\n",
    "# örn:\n",
    "# input: 2,3,5\n",
    "# output: 2,6,120\n",
    "\n",
    "#ipucu: fonksiyon kullanabilirsiniz\n",
    "#ipucu2: split ile liste oluşturabilirsiniz\n",
    "\n",
    "\n",
    "def factorial(n):\n",
    "    result = 1\n",
    "    for i in range(n, 1, -1):\n",
    "        result *= i\n",
    "    return result\n",
    "\n",
    "\n",
    "\n",
    "sayilar = input(\"Sayıları virgüllerle ayrılmış bir şekilde girin: \")\n",
    "sayi_listesi = sayilar.split(\",\")\n",
    "sonuc_listesi = []\n",
    "\n",
    "for sayi in sayi_listesi:\n",
    "    sonuc = factorial(int(sayi))\n",
    "    sonuc_listesi.append(str(sonuc))\n",
    "    \n",
    "print(\",\".join(sonuc_listesi))\n",
    "\n"
   ]
  },
  {
   "cell_type": "code",
   "execution_count": 24,
   "metadata": {},
   "outputs": [
    {
     "name": "stdout",
     "output_type": "stream",
     "text": [
      "Bir sayı girin: 40\n",
      "*\n",
      "**\n",
      "***\n",
      "****\n",
      "*****\n",
      "******\n",
      "*******\n",
      "********\n",
      "*********\n",
      "**********\n",
      "***********\n",
      "************\n",
      "*************\n",
      "**************\n",
      "***************\n",
      "****************\n",
      "*****************\n",
      "******************\n",
      "*******************\n",
      "********************\n",
      "*********************\n",
      "**********************\n",
      "***********************\n",
      "************************\n",
      "*************************\n",
      "**************************\n",
      "***************************\n",
      "****************************\n",
      "*****************************\n",
      "******************************\n",
      "*******************************\n",
      "********************************\n",
      "*********************************\n",
      "**********************************\n",
      "***********************************\n",
      "************************************\n",
      "*************************************\n",
      "**************************************\n",
      "***************************************\n",
      "****************************************\n"
     ]
    }
   ],
   "source": [
    "## Kullanıcıdan bir sayı alıp, girilen sayı kadar satırı olan bir dik üçgen çizeceğiz\n",
    "\n",
    "## Örn:\n",
    "\n",
    "#input: 3\n",
    "#*\n",
    "#**\n",
    "#***\n",
    "\n",
    "#input: 5\n",
    "#*\n",
    "#**\n",
    "#***\n",
    "#****\n",
    "#*****\n",
    "\n",
    "#ipucu: for loop kullanabilrisniz\n",
    "\n",
    "\n",
    "sayi = int(input(\"Bir sayı girin: \"))\n",
    "for i in range(1, sayi+1):\n",
    "    print(i * \"*\")\n",
    "    \n"
   ]
  },
  {
   "cell_type": "code",
   "execution_count": 31,
   "metadata": {
    "scrolled": true
   },
   "outputs": [
    {
     "name": "stdout",
     "output_type": "stream",
     "text": [
      "Bir sayı girin: 9\n",
      "        *\n",
      "       ***\n",
      "      *****\n",
      "     *******\n",
      "    *********\n",
      "   ***********\n",
      "  *************\n",
      " ***************\n",
      "*****************\n"
     ]
    }
   ],
   "source": [
    "\n",
    "    \n",
    "    \n",
    "# Kullanıcıdan bir sayı alıp, girilen sayı kadar satırı olan bir ikizkenar üçgen çizeceğiz\n",
    "\n",
    "#input: 3\n",
    "#  *\n",
    "# ***\n",
    "#*****\n",
    "\n",
    "\n",
    "# 1 -> n - 1 boşluk, 1 yıldız\n",
    "# 2 -> n - 2 boşluk, 3 yıldız\n",
    "# 3 -> n - 3 boşluk, 5 yıldız\n",
    "# x -> n - x boşluk, 2 * x - 1 yıldız\n",
    "\n",
    "#input: 5\n",
    "\n",
    "#    *\n",
    "#   ***\n",
    "#  *****\n",
    "# *******\n",
    "#*********\n",
    "\n",
    "\n",
    "sayi = int(input(\"Bir sayı girin: \"))\n",
    "for i in range(1, sayi + 1):\n",
    "    bosluk_sayisi = sayi - i\n",
    "    yildiz_sayisi = 2 * i - 1\n",
    "    print(bosluk_sayisi * \" \" + yildiz_sayisi * \"*\")"
   ]
  },
  {
   "cell_type": "code",
   "execution_count": 33,
   "metadata": {},
   "outputs": [
    {
     "name": "stdout",
     "output_type": "stream",
     "text": [
      "Bakiye: 1000\n",
      "İşlem sayısı: 2\n",
      "İşlem girin: D 500\n",
      "İşlem girin: D 300\n",
      "Bakiyeniz: 1800\n"
     ]
    }
   ],
   "source": [
    "# Kullanıcıya banka hesabında ne kadar para olduğunu soracağız\n",
    "# Kullancıya kaç adet işlem yapılacağını soracağız\n",
    "# Her bir işlem iki seçenekten biri olabilir:\n",
    "# D (deposit) para yatırma\n",
    "# W (withdraw) para çekme\n",
    "\n",
    "# D 100\n",
    "# W 200\n",
    "# W 500\n",
    "\n",
    "\n",
    "# En sonunda toplam bakiyeyi ekrana basıcaz\n",
    "\n",
    "#Örn:\n",
    "\n",
    "# input: 1000 4 \n",
    "# W 100\n",
    "# W 200\n",
    "# D 300\n",
    "# D 100\n",
    "\n",
    "# Output: 1100\n",
    "\n",
    "bakiye = int(input(\"Bakiye: \"))\n",
    "islem_sayisi = int(input(\"İşlem sayısı: \"))\n",
    "\n",
    "for _ in range(islem_sayisi):\n",
    "    islem = input(\"İşlem girin: \")\n",
    "    islem_turu = islem.split()[0]\n",
    "    islem_miktari = int(islem.split()[1])\n",
    "    \n",
    "    if islem_turu == \"W\":\n",
    "        bakiye -= islem_miktari\n",
    "    elif islem_turu == \"D\":\n",
    "        bakiye += islem_miktari\n",
    "        \n",
    "print(\"Bakiyeniz: {}\".format(bakiye))"
   ]
  },
  {
   "cell_type": "code",
   "execution_count": null,
   "metadata": {},
   "outputs": [],
   "source": [
    "def hesapislem(hesapbakiye,islemsayi):\n",
    "    for i in range(islemsayi):\n",
    "        secim=input(\"seciminizi giriniz\")\n",
    "\n",
    "        if secim==\"withdraw\":\n",
    "            cekilentutuar=int(input(\"cekilecek miktarı giriniz ?\"))\n",
    "            hesapbakiye=hesapbakiye-cekilentutuar\n",
    "\n",
    "        elif secim==\"deposit\":\n",
    "            yatırılantutar=int(input(\"yatırılacak tutar\"))\n",
    "            hesapbakiye=hesapbakiye+yatırılantutar\n",
    "\n",
    "    return hesapbakiye\n",
    "\n",
    "hesapbakiye=int(input(\"hesabınızdane kadar para bulunuyor\"))\n",
    "islemsayi=int(input(\"kaç işlem yapcaksınız\"))\n",
    "hesapbakiye = hesapislem(hesapbakiye,islemsayi)\n",
    "\n",
    "print(\"hesapbakiyeniz: {}\".format(hesapbakiye))"
   ]
  }
 ],
 "metadata": {
  "kernelspec": {
   "display_name": "Python 3",
   "language": "python",
   "name": "python3"
  },
  "language_info": {
   "codemirror_mode": {
    "name": "ipython",
    "version": 3
   },
   "file_extension": ".py",
   "mimetype": "text/x-python",
   "name": "python",
   "nbconvert_exporter": "python",
   "pygments_lexer": "ipython3",
   "version": "3.9.0"
  }
 },
 "nbformat": 4,
 "nbformat_minor": 4
}

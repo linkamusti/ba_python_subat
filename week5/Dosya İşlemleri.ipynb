{
 "cells": [
  {
   "cell_type": "markdown",
   "metadata": {},
   "source": [
    "# Dosya İşlemleri\n",
    "\n",
    "Aşağıdakileri yapmak için, her birinden önce dosyayı _açmamız_ gerekecek.\n",
    "\n",
    "Dosyayı açarken, Python'a bu dosyayla ne yapacağını söylememiz gerekiyor:\n",
    "\n",
    " - Okuma (r)ead\n",
    " - Yazma (w)rite\n",
    " - Sonuna ekleme (a)ppend\n",
    " \n",
    "\n",
    " \n",
    " \n",
    "Dosyayı açmak için\n",
    "\n",
    "> f = **open**(DOSYA_ISMI, ACMA_MODU)\n",
    "\n",
    "\n",
    "Örnek:\n",
    "\n",
    "> f = **open**(\"input.txt\", \"r\")\n",
    "\n",
    "\n",
    "DOSYA_ISMI, eğer içinde \"/\" barındırmıyorsa, kodun çalıştığı klasördeki dosyalar arasında bu dosya aranır.\n",
    "\n",
    "DOSYA_ISMI içinde \"/\" barındırıyorsa, o zaman tam adresi verilmiş olan dosya aranır.\n",
    "\n",
    "İşimiz bittiğinde, dosyayı kapatmak için \n",
    "\n",
    "> f.**close**()\n",
    "\n",
    "### Dosya Okuma\n",
    "\n",
    "> f = **open**(\"input.txt\", \"r\")\n",
    "\n",
    "Bu satır, eğer dosya bulunursa dosyayı açıyor. Dosya bulunamazsa, hata veriyor.\n",
    "\n",
    "### Dosyaya Yazma\n",
    "\n",
    "> f = **open**(\"input.txt\", \"w\")\n",
    "\n",
    "Eğer dosya bulunursa, o dosyanın yerine yazıyor.\n",
    "\n",
    "Eğer dosya bulunamazsa, öyle bir dosya oluşturuyor.\n",
    "\n",
    "\n",
    "### Dosya Güncelleme\n",
    "\n",
    "Dosyanın sonuna bir şeyler eklemke için kullanılıyor.\n",
    "\n",
    "> f = **open**(\"input.txt\", \"a\")\n",
    "\n",
    "Eğer dosya bulunursa, o dosyanın _sonuna_ yazıyor.\n",
    "\n",
    "Eğer dosya bulunamazsa, öyle bir dosya oluşturuyor.\n",
    "\n",
    "\n",
    "\"a\"ppend modunda açtığımız dosyaların sadece SONUNA ekleme yapabiliyoruz."
   ]
  },
  {
   "cell_type": "code",
   "execution_count": 13,
   "metadata": {
    "scrolled": false
   },
   "outputs": [
    {
     "name": "stdout",
     "output_type": "stream",
     "text": [
      "Hello World I'm a file!\n",
      "Bu benim ikinci satırım.\n",
      "Bu da üçüncü satır\n",
      "WOOWW\n"
     ]
    }
   ],
   "source": [
    "## Dosyanın içeriğinin tamamını okuma\n",
    "\n",
    "f = open (\"bıdık.txt\", \"r\") # OKUMA modunda açıyor.\n",
    "\n",
    "dosya_icerigi = f.read()\n",
    "print(dosya_icerigi)\n",
    "\n",
    "f.close()"
   ]
  },
  {
   "cell_type": "code",
   "execution_count": 24,
   "metadata": {},
   "outputs": [
    {
     "name": "stdout",
     "output_type": "stream",
     "text": [
      "Hello W\n"
     ]
    }
   ],
   "source": [
    "## Dosyanın içeriğinin bir kısmını okuma\n",
    "# Örnek: metadata okuma\n",
    "\n",
    "f = open (\"bıdık.txt\", \"r\")\n",
    "\n",
    "bir_kismi = f.read(7) # İlk 4 karakteri oku\n",
    "\n",
    "print(bir_kismi)\n",
    "\n",
    "f.close()"
   ]
  },
  {
   "cell_type": "code",
   "execution_count": 20,
   "metadata": {},
   "outputs": [
    {
     "name": "stdout",
     "output_type": "stream",
     "text": [
      "WOOWW\n",
      "Hello World I'm a file!\n",
      "Bu benim ikinci satırım.\n",
      "Bu da üçüncü satır\n",
      "WOOWW"
     ]
    }
   ],
   "source": [
    "## Satır Satır okuma yöntemi\n",
    "\n",
    "f = open(\"bıdık.txt\", \"r\") # OKUMA modunda açıyor\n",
    "\n",
    "lines = f.readlines()\n",
    "\n",
    "print(lines[3])\n",
    "\n",
    "for line in lines:\n",
    "    print(line, end=\"\")\n",
    "\n",
    "f.close()"
   ]
  },
  {
   "cell_type": "code",
   "execution_count": 22,
   "metadata": {
    "scrolled": false
   },
   "outputs": [
    {
     "name": "stdout",
     "output_type": "stream",
     "text": [
      "Hello World I'm a file!\n",
      "Bu benim ikinci satırım.\n",
      "Bu da üçüncü satır\n",
      "WOOWW"
     ]
    }
   ],
   "source": [
    "## Satır Satır Okuma - 2\n",
    "\n",
    "f = open(\"bıdık.txt\", \"r\")\n",
    "\n",
    "for line in f:\n",
    "    print(line, end = \"\")\n",
    "    \n",
    "f.close()"
   ]
  },
  {
   "cell_type": "code",
   "execution_count": 40,
   "metadata": {},
   "outputs": [
    {
     "name": "stdout",
     "output_type": "stream",
     "text": [
      "Hello World I'm a file!\n",
      "\n",
      "Bu benim ikinci satırım.\n",
      "\n",
      "Biraz duralım dinlenelim\n",
      "\n",
      "Bu da üçüncü satır\n",
      "\n",
      "WOOWW\n",
      "\n",
      "BURADAN SONRA PRINT YOK\n",
      "WOOWW\n",
      "\n",
      "Hello World I'm a file!\n",
      "\n",
      "Bu benim ikinci satırım.\n",
      "\n"
     ]
    }
   ],
   "source": [
    "f = open(\"bıdık.txt\", \"r\")\n",
    "\n",
    "print(f.readline()) # İlk satırı okuyor\n",
    "print(f.readline()) # ikinci satırı okuyor\n",
    "\n",
    "print(\"Biraz duralım dinlenelim\\n\")\n",
    "\n",
    "print(f.readline()) # Üçüncü satırı okuyor.\n",
    "print(f.readline()) # Dördüncü satırı okuyor.\n",
    "\n",
    "\n",
    "f.seek(0) # Dosyanın başına dön\n",
    "\n",
    "\n",
    "print(\"BURADAN SONRA PRINT YOK\")\n",
    "f.readline()\n",
    "f.readline() \n",
    "f.readline()\n",
    "print(f.readline())\n",
    "\n",
    "\n",
    "f.seek(0) # Dosyanın başına dön\n",
    "\n",
    "print(f.readline()) \n",
    "print(f.readline()) \n",
    "\n",
    "\n",
    "f.close()"
   ]
  },
  {
   "cell_type": "code",
   "execution_count": 56,
   "metadata": {},
   "outputs": [
    {
     "name": "stdout",
     "output_type": "stream",
     "text": [
      "Bir isim girin: Ümit\n",
      "23\n"
     ]
    }
   ],
   "source": [
    "## notlar.txt dosyasını okuyup, kullanıcıdan bir isim alın.\n",
    "\n",
    "# Girilen ismin aldığı notu ekrana basın\n",
    "# Girilen isme dair bir not yoksa, ekrana \"Öğrenci bulunamadı\" mesajı basın.\n",
    "\n",
    "# İpucu: satır satır girilen ismi aramanız gerekiyor.\n",
    "# İpucu: split kullanarak ismin aldığı notu bulmanız gerekiyor.\n",
    "\n",
    "\n",
    "f = open(\"notlar.txt\", \"r\", encoding='utf8')\n",
    "isim = input(\"Bir isim girin: \")\n",
    "found = False\n",
    "\n",
    "for line in f:\n",
    "    line = line.strip(\"\\n\") # Satır sonlarındaki \"satırı bitir\" karakterini silmek için\n",
    "    \n",
    "    name = line.split(\",\")[0]\n",
    "    grade = line.split(\",\")[1]\n",
    "    if name.upper() == isim.upper():\n",
    "        print(grade)\n",
    "        found = True\n",
    "        \n",
    "if not found:\n",
    "    print(\"Öğrenci bulunamadı\")\n",
    "    \n",
    "    \n",
    "f.close()"
   ]
  },
  {
   "cell_type": "code",
   "execution_count": 61,
   "metadata": {},
   "outputs": [],
   "source": [
    "## Bir dosyaya, hello world yazma kodu\n",
    "\n",
    "f = open(\"write_ornek.txt\", \"w\")\n",
    "\n",
    "f.write(\"Bu benim yeni Hello World'üm\\n\")\n",
    "\n",
    "f.close()"
   ]
  },
  {
   "cell_type": "code",
   "execution_count": 62,
   "metadata": {},
   "outputs": [],
   "source": [
    "# notlar.txt'yi okuyup her bir öğrencinin aldığı GEÇME/KALMA durumunu \"gecme_kalma.txt\" dosyasına yazın\n",
    "# 50 - 100 => GECTI\n",
    "# 0  - 50  => KALDI\n",
    "\n",
    "#Örn:\n",
    "#Mustafa,GECTI\n",
    "\n",
    "#ipucu: iki farklı dosya olduğu için, iki farklı file handler'a ihtiyac duyucaz\n",
    "#ipucu: Satır satır okuyup, geçme kalma durumuna karar vermemiz gerekiyor\n",
    "#ipucu: Dosyadan okuduğumuz not bilgileri STRING şeklinde geliyor.\n",
    "\n",
    "\n",
    "f1 = open(\"notlar.txt\", \"r\", encoding=\"utf8\")\n",
    "f2 = open(\"gecme_kalma.txt\", \"w\", encoding=\"utf8\")\n",
    "\n",
    "\n",
    "for line in f1:\n",
    "    line = line.strip('\\n')\n",
    "    name = line.split(\",\")[0]\n",
    "    grade = int(line.split(',')[1])\n",
    "    \n",
    "    if grade >= 50:\n",
    "        f2.write(name + \" GEÇTİ\\n\")\n",
    "    else:\n",
    "        f2.write(name + \" KALDI\\n\")\n",
    "             \n",
    "f1.close()\n",
    "f2.close()"
   ]
  },
  {
   "cell_type": "code",
   "execution_count": 67,
   "metadata": {},
   "outputs": [
    {
     "name": "stdout",
     "output_type": "stream",
     "text": [
      "Kaç yeni öğrenci notu gireceksiniz: 2\n",
      "İsim: Hasan\n",
      "Not: 85\n",
      "İsim: Berkcan\n",
      "Not: 85\n"
     ]
    }
   ],
   "source": [
    "##### Kullanıcıdan kaç yeni öğrenci notu girileceğini alalım\n",
    "# Her öğrenci için isim ve not alıp, \"notlar.txt\"ye ekleyelim\n",
    "\n",
    "\n",
    "f = open(\"notlar.txt\", \"a\")\n",
    "\n",
    "sayi = int(input(\"Kaç yeni öğrenci notu gireceksiniz: \"))\n",
    "for _ in range(sayi):\n",
    "    name = input(\"İsim: \")\n",
    "    grade = input(\"Not: \")\n",
    "    \n",
    "    f.write(\"\\n\" + name + \",\" + grade)\n",
    "    \n",
    "f.close()"
   ]
  },
  {
   "cell_type": "code",
   "execution_count": 73,
   "metadata": {},
   "outputs": [
    {
     "name": "stdout",
     "output_type": "stream",
     "text": [
      "benim ikin\n"
     ]
    }
   ],
   "source": [
    "## Dosyanın belli bir yerinden okumaya başlama\n",
    "\n",
    "f = open(\"bıdık.txt\", \"r\")\n",
    "\n",
    "f.seek(27) # 27inci karaktere atlıyor\n",
    "\n",
    "print(f.read(10)) # Sadece 10 karakter oku\n",
    "f.close()"
   ]
  },
  {
   "cell_type": "code",
   "execution_count": 78,
   "metadata": {},
   "outputs": [],
   "source": [
    "# Dosyanın belli bir yerine yazma\n",
    "\n",
    "f = open(\"mustafa.txt\", \"r+\") # Read yapmak için yazıyoruz, ama write da yapabiliriz\n",
    "\n",
    "f.seek(20)\n",
    "f.write(\"Sülüman\\n\")\n",
    "f.close()"
   ]
  },
  {
   "cell_type": "code",
   "execution_count": 88,
   "metadata": {
    "scrolled": true
   },
   "outputs": [],
   "source": [
    "import os # operating system\n",
    "\n",
    "f = open(\"mustafa.txt\", \"r\")\n",
    "\n",
    "f2 = open(\"temp.txt\", \"w\")\n",
    "\n",
    "content = f.read()\n",
    "\n",
    "content = content.replace(\"Süleyman\", \"Ayşe\")\n",
    "content = content.replace(\"C#\", \"Javascript\")\n",
    "\n",
    "f2.write(content)\n",
    "\n",
    "f.close()\n",
    "f2.close()\n",
    "\n",
    "f = open(\"mustafa.txt\", \"w\")\n",
    "f2 = open(\"temp.txt\", \"r\")\n",
    "\n",
    "content = f2.read()\n",
    "f.write(content)\n",
    "\n",
    "f.close()\n",
    "f2.close()\n",
    "\n",
    "os.remove(\"temp.txt\")"
   ]
  },
  {
   "cell_type": "code",
   "execution_count": 95,
   "metadata": {},
   "outputs": [],
   "source": [
    "# Bir listeyi, satır satır dosyaya yazma\n",
    "\n",
    "dizeler = [\"Tüm endise kaygi korkulariyla beraber\\n\", \n",
    " \"Yagmaya üsüsen capulculuklarin her türlüsünden\\n\", \n",
    " \"Satilik kiralik kadrolu kadrosuz\\n\"]\n",
    "\n",
    "f = open(\"siir.txt\", \"w\")\n",
    "\n",
    "#for dize in dizeler:\n",
    "#    f.write(dize + \"\\n\")\n",
    "    \n",
    "    \n",
    "    \n",
    "#f.write(\"\\n\".join(dizeler))\n",
    "#Alternatif olarak:\n",
    "\n",
    "f.writelines(dizeler)\n",
    "f.close()"
   ]
  },
  {
   "cell_type": "code",
   "execution_count": 96,
   "metadata": {},
   "outputs": [],
   "source": [
    "# kelimeler.txt dosyasını okuyup, bu dosyadaki bütün PALINDROME'ları palindrom.txt'ye yazan bir kod yazın\n",
    "\n",
    "# PALINDROME: baştan ve sondan okunduğunda aynı olan kelimeler\n",
    "\n",
    "f = open(\"kelimeler.txt\", \"r\")\n",
    "f2 = open(\"palindrom.txt\", \"w\")\n",
    "\n",
    "for line in f:\n",
    "    kelime = line.strip('\\n')\n",
    "    \n",
    "    ### EĞER PALİNDROMSA\n",
    "    if kelime == kelime[::-1]:\n",
    "        f2.write(kelime + \"\\n\")\n",
    "        \n",
    "f2.close()"
   ]
  }
 ],
 "metadata": {
  "kernelspec": {
   "display_name": "Python 3",
   "language": "python",
   "name": "python3"
  },
  "language_info": {
   "codemirror_mode": {
    "name": "ipython",
    "version": 3
   },
   "file_extension": ".py",
   "mimetype": "text/x-python",
   "name": "python",
   "nbconvert_exporter": "python",
   "pygments_lexer": "ipython3",
   "version": "3.9.0"
  }
 },
 "nbformat": 4,
 "nbformat_minor": 4
}

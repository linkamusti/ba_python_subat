{
 "cells": [
  {
   "cell_type": "code",
   "execution_count": 29,
   "metadata": {},
   "outputs": [
    {
     "name": "stdout",
     "output_type": "stream",
     "text": [
      "Bu hafta hangi maç, hangi kanalda?\n",
      "Bu karşılaşmalara dikkat\n",
      "Haftanın golünü siz seçin!\n",
      "İşte 33. haftanın \"Savunma İkilileri\"\n",
      "İZLE | En güzel kaybedenler\n",
      "Bölgesel Amatör Lig maçları Mayıs'a ertelendi\n",
      "İzmir'de maraton zamanı\n",
      "Cengiz Ünder'in kaderi belli oldu\n",
      "Trabzonspor'dan Nwakaeme ve Ekuban açıklaması\n",
      "U16 Millilerin aday kadrosu netleşti\n",
      "Başkan Çebi'den camiaya birlik çağrısı0\n",
      "56. Cumhurbaşkanlığı Bisiklet Turu start alıyor 0\n",
      "\"İşimiz bundan sonra başlıyor\"0\n",
      "A. Hatayspor maç saatini bekliyor0\n",
      "El Clasico zirveyi şekillendirecek0\n",
      "Edgar le'nin ilginç futbola başlama hikayesi0\n",
      "Kasımpaşa hazırlıklara başladı0\n",
      "Biglia ve Borini koronavirüse yakalandı0\n",
      "Fenerbahçe'de divan seçimsiz toplanacak0\n",
      "Cumhurbaşkanı Erdoğan, tur öncesinde kafileyi kabul etti0\n",
      "M. Başakşehir ara vermedi0\n",
      "DG Sivasspor'da İH Konyaspor mesaisi0\n",
      "Göztepe, Hatay deplasmanına hazır0\n",
      "GZT Giresunspor 54 yaşında0\n",
      "Y. Samsunspor seri peşinde0\n",
      "Haftanın hakemleri açıklandı0\n",
      "\"İnşallah iki takımımızı da Final Four'da görürüz\"0\n",
      "Bakan Kasapoğlu'ndan Onat Kazaklı'ya tebrik0\n"
     ]
    }
   ],
   "source": [
    "import requests\n",
    "from bs4 import BeautifulSoup\n",
    "\n",
    "\n",
    "url = \"https://tr.beinsports.com/haberler\"\n",
    "\n",
    "response = requests.get(url)\n",
    "html = response.text\n",
    "\n",
    "soup = BeautifulSoup(html)\n",
    "\n",
    "haberListesi = []\n",
    "\n",
    "\n",
    "haberlerDiv = soup.find_all(\"div\", {\"class\": \"news_list\"})[0]\n",
    "simdikiHaber = haberlerDiv.div\n",
    "haberIcerigi = simdikiHaber.find_all('div', {\"class\": \"item_content\"})[0].a.h2.string\n",
    "\n",
    "haberListesi.append(haberIcerigi)\n",
    "while True:\n",
    "    try:\n",
    "        simdikiHaber = simdikiHaber.findNextSibling()\n",
    "       \n",
    "        if simdikiHaber.get('class')[0] == \"banner_middle\":\n",
    "            continue\n",
    "        elif simdikiHaber.get('class')[0] == \"news_item_small\":\n",
    "            haberIcerigi = simdikiHaber.div.a.h2.text\n",
    "            haberListesi.append(haberIcerigi)\n",
    "        else:\n",
    "            haberIcerigi = simdikiHaber.find_all('div', {\"class\": \"item_content\"})[0].a.h2.string\n",
    "            haberListesi.append(haberIcerigi)\n",
    "\n",
    "    except:\n",
    "        break\n",
    "\n",
    "        \n",
    "for haber in haberListesi:\n",
    "    print(haber)"
   ]
  }
 ],
 "metadata": {
  "kernelspec": {
   "display_name": "Python 3",
   "language": "python",
   "name": "python3"
  },
  "language_info": {
   "codemirror_mode": {
    "name": "ipython",
    "version": 3
   },
   "file_extension": ".py",
   "mimetype": "text/x-python",
   "name": "python",
   "nbconvert_exporter": "python",
   "pygments_lexer": "ipython3",
   "version": "3.9.0"
  }
 },
 "nbformat": 4,
 "nbformat_minor": 4
}

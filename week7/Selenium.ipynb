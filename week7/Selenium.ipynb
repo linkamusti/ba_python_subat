{
 "cells": [
  {
   "cell_type": "markdown",
   "metadata": {},
   "source": [
    "# Installing Selenium\n",
    "\n",
    "\n",
    "1. pip install selenium\n",
    "2. https://sites.google.com/a/chromium.org/chromedriver/downloads üzerinden uygun olan chromedriver.exe'yi indireceğiz\n",
    "3. chromedriver'ı PATH'e ekleyeceğiz (optional)\n",
    "4. chromedriver'ı indirdiğimiz klasör adresini bir yere yazıyoruz\n",
    "\n",
    "\n",
    "Alternatif yöntem (MAC):\n",
    "\n",
    "\n",
    "1. pip install selenium\n",
    "2. https://sites.google.com/a/chromium.org/chromedriver/downloads üzerinden uygun olan chromedriver.exe'nin linkini kopyalayacağız\n",
    "3. !wget __LINK__ yazarak, gerekli zip dosyasını indireceğiz\n",
    "4. !unzip __INDIRILEN_DOSYA__ yazarak, zip dosyasını açacağız\n",
    "5. hangi klasörde olduğumuzu bilmiyorsak !pwd yazarak klasör adresini bulacağız"
   ]
  },
  {
   "cell_type": "code",
   "execution_count": null,
   "metadata": {},
   "outputs": [],
   "source": [
    "pip install selenium"
   ]
  },
  {
   "cell_type": "code",
   "execution_count": 33,
   "metadata": {
    "scrolled": true
   },
   "outputs": [
    {
     "name": "stdout",
     "output_type": "stream",
     "text": [
      "GitHub: Where the world builds software · GitHub\n"
     ]
    }
   ],
   "source": [
    "from selenium import webdriver\n",
    "import time\n",
    "\n",
    "chromedriver_path = \"/Users/mustafakemaltas/Desktop/Bilge Adam Python 2/week7/\"\n",
    "\n",
    "driver = webdriver.Chrome(executable_path=chromedriver_path+\"chromedriver\") # Google Chrome penceresi açar\n",
    "time.sleep(2)\n",
    "\n",
    "driver.get(\"https://www.google.com\") # Girilen URL sayfasına gider\n",
    "time.sleep(2)\n",
    "\n",
    "driver.maximize_window() # Ekranı büyütür\n",
    "time.sleep(2)\n",
    "\n",
    "driver.save_screenshot(\"google_deneme.png\")\n",
    "time.sleep(2)\n",
    "\n",
    "driver.get(\"https://www.github.com\")\n",
    "print(driver.title)\n",
    "time.sleep(2)\n",
    "\n",
    "driver.get(\"https://www.github.com/bilgeadam\")\n",
    "time.sleep(2)\n",
    "\n",
    "driver.back() # Bir önceki sayfaya gider\n",
    "time.sleep(2)\n",
    "\n",
    "driver.forward() # bir sonraki sayfaya gider\n",
    "time.sleep(2)\n",
    "\n",
    "driver.close() # Google chrome penceresini kapatır"
   ]
  },
  {
   "cell_type": "code",
   "execution_count": 47,
   "metadata": {},
   "outputs": [
    {
     "name": "stdout",
     "output_type": "stream",
     "text": [
      "\n",
      "\n",
      "\n",
      "\n",
      "\n",
      "\n",
      "\n",
      "\n",
      "TheAlgorithms/Python\n",
      "geekcomputers/Python\n",
      "injetlee/Python\n",
      "TwoWater/Python\n",
      "Show-Me-the-Code/python\n",
      "kubernetes-client/python\n",
      "xxg1413/python\n",
      "jakevdp/PythonDataScienceHandbook\n",
      "joeyajames/Python\n",
      "docker-library/python\n"
     ]
    }
   ],
   "source": [
    "from selenium import webdriver\n",
    "from selenium.webdriver.common.keys import Keys # Enter'a basmak için\n",
    "import time\n",
    "\n",
    "chromedriver_path = \"/Users/mustafakemaltas/Desktop/Bilge Adam Python 2/week7/\"\n",
    "\n",
    "driver = webdriver.Chrome(executable_path=chromedriver_path+\"chromedriver\") # Google Chrome penceresi açar\n",
    "\n",
    "driver.get(\"https://www.github.com\")\n",
    "driver.maximize_window()\n",
    "\n",
    "searchInput = driver.find_element_by_xpath(\"/html/body/div[1]/header/div/div[2]/div[2]/div/div/div/form/label/input[1]\")\n",
    "\n",
    "#searchInput = driver.find_element_by_name(\"q\")\n",
    "searchInput.send_keys(\"Python\")\n",
    "\n",
    "searchInput.send_keys(Keys.ENTER)\n",
    "\n",
    "results = driver.find_elements_by_css_selector(\".v-align-middle\")\n",
    "for element in results:\n",
    "    print(element.text)\n",
    "driver.close()"
   ]
  }
 ],
 "metadata": {
  "kernelspec": {
   "display_name": "Python 3",
   "language": "python",
   "name": "python3"
  },
  "language_info": {
   "codemirror_mode": {
    "name": "ipython",
    "version": 3
   },
   "file_extension": ".py",
   "mimetype": "text/x-python",
   "name": "python",
   "nbconvert_exporter": "python",
   "pygments_lexer": "ipython3",
   "version": "3.9.0"
  }
 },
 "nbformat": 4,
 "nbformat_minor": 4
}

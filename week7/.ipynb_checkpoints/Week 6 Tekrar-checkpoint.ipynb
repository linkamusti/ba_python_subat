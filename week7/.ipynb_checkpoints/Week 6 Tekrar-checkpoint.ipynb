{
 "cells": [
  {
   "cell_type": "code",
   "execution_count": 5,
   "metadata": {},
   "outputs": [
    {
     "name": "stdout",
     "output_type": "stream",
     "text": [
      "<class 'str'>\n"
     ]
    }
   ],
   "source": [
    "# Servera istek gönderip cevabını aldık\n",
    "import requests\n",
    "\n",
    "response = requests.get(\"https://jsonplaceholder.typicode.com/todos\")\n",
    "\n",
    "print(type(response.text)) # Bu her zaman string olarak geliyor\n"
   ]
  },
  {
   "cell_type": "code",
   "execution_count": 10,
   "metadata": {},
   "outputs": [
    {
     "name": "stdout",
     "output_type": "stream",
     "text": [
      "laboriosam mollitia et enim quasi adipisci quia provident illum\n"
     ]
    }
   ],
   "source": [
    "# Gelen cevap string olduğu için (JSON formatında), bunu liste/dictionarye çevirdik\n",
    "import json\n",
    "\n",
    "myList = json.loads(response.text)\n",
    "\n",
    "print(myList[4]['title'])"
   ]
  },
  {
   "cell_type": "code",
   "execution_count": 23,
   "metadata": {},
   "outputs": [
    {
     "name": "stdout",
     "output_type": "stream",
     "text": [
      "1-Popüler filmler\n",
      "2-En çok puan alan filmler\n",
      "3-Şu anda vizyonda olanlar\n",
      "4-Film ara\n",
      "5-Çıkış\n",
      "Seçim:4\n",
      "Aramak istediğiniz sözcüğü girin: hababam\n"
     ]
    },
    {
     "ename": "NameError",
     "evalue": "name 'request' is not defined",
     "output_type": "error",
     "traceback": [
      "\u001b[0;31m---------------------------------------------------------------------------\u001b[0m",
      "\u001b[0;31mNameError\u001b[0m                                 Traceback (most recent call last)",
      "\u001b[0;32m<ipython-input-23-9f4b3d3d9f55>\u001b[0m in \u001b[0;36m<module>\u001b[0;34m\u001b[0m\n\u001b[1;32m     43\u001b[0m     \u001b[0;32melif\u001b[0m \u001b[0msecim\u001b[0m \u001b[0;34m==\u001b[0m \u001b[0;34m\"4\"\u001b[0m\u001b[0;34m:\u001b[0m\u001b[0;34m\u001b[0m\u001b[0;34m\u001b[0m\u001b[0m\n\u001b[1;32m     44\u001b[0m         \u001b[0msearch\u001b[0m \u001b[0;34m=\u001b[0m \u001b[0minput\u001b[0m\u001b[0;34m(\u001b[0m\u001b[0;34m\"Aramak istediğiniz sözcüğü girin: \"\u001b[0m\u001b[0;34m)\u001b[0m\u001b[0;34m\u001b[0m\u001b[0;34m\u001b[0m\u001b[0m\n\u001b[0;32m---> 45\u001b[0;31m         \u001b[0mresponse\u001b[0m \u001b[0;34m=\u001b[0m \u001b[0mrequest\u001b[0m\u001b[0;34m.\u001b[0m\u001b[0mget\u001b[0m\u001b[0;34m(\u001b[0m\u001b[0mbase_url\u001b[0m \u001b[0;34m+\u001b[0m \u001b[0;34m\"/search/movie\"\u001b[0m \u001b[0;34m+\u001b[0m \u001b[0;34m\"?api_key=\"\u001b[0m \u001b[0;34m+\u001b[0m \u001b[0mapi_key\u001b[0m \u001b[0;34m+\u001b[0m \u001b[0;34m\"&query=\"\u001b[0m \u001b[0;34m+\u001b[0m \u001b[0msearch\u001b[0m\u001b[0;34m)\u001b[0m\u001b[0;34m\u001b[0m\u001b[0;34m\u001b[0m\u001b[0m\n\u001b[0m\u001b[1;32m     46\u001b[0m         \u001b[0msearchResult\u001b[0m \u001b[0;34m=\u001b[0m \u001b[0mjson\u001b[0m\u001b[0;34m.\u001b[0m\u001b[0mloads\u001b[0m\u001b[0;34m(\u001b[0m\u001b[0mresponse\u001b[0m\u001b[0;34m.\u001b[0m\u001b[0mtext\u001b[0m\u001b[0;34m)\u001b[0m\u001b[0;34m[\u001b[0m\u001b[0;34m'results'\u001b[0m\u001b[0;34m]\u001b[0m\u001b[0;34m\u001b[0m\u001b[0;34m\u001b[0m\u001b[0m\n\u001b[1;32m     47\u001b[0m         \u001b[0;32mfor\u001b[0m \u001b[0mmovie\u001b[0m \u001b[0;32min\u001b[0m \u001b[0msearchResult\u001b[0m\u001b[0;34m:\u001b[0m\u001b[0;34m\u001b[0m\u001b[0;34m\u001b[0m\u001b[0m\n",
      "\u001b[0;31mNameError\u001b[0m: name 'request' is not defined"
     ]
    }
   ],
   "source": [
    "##### import requests\n",
    "import json\n",
    "\n",
    "base_url = \"https://api.themoviedb.org/3\"\n",
    "api_key = \"e741267e652d5b14a576ede930ae4352\"\n",
    "\n",
    "\n",
    "# Kullanıcıya 4 seçenek sunacağız\n",
    "# 1 - Popüler filmleri listele\n",
    "# 2 - En çok puan alan filmleri listele\n",
    "# 3 - Şu anda oynatılan filmleri listele\n",
    "# 4 - Film ara\n",
    "# 5 - Çıkış\n",
    "\n",
    "\n",
    "while True:\n",
    "    secim = input(\"1-Popüler filmler\\n2-En çok puan alan filmler\\n3-Şu anda vizyonda olanlar\\n4-Film ara\\n5-Çıkış\\nSeçim:\")\n",
    "    if secim == \"5\":\n",
    "        break\n",
    "    \n",
    "    \n",
    "    if secim == \"1\":\n",
    "        print(\"\\n\\nPOPULAR FILMS\".center(100, \"*\"))\n",
    "        response = requests.get(base_url + \"/movie/popular\" + \"?api_key=\" + api_key)\n",
    "        popularMovieList = json.loads(response.text)['results']\n",
    "        for movie in popularMovieList:\n",
    "            print(movie['title'], movie['release_date'], movie[\"vote_average\"])\n",
    "            print(\"-\"*100)\n",
    "    elif secim == \"2\":\n",
    "        print(\"\\n\\nPOPULAR FILMS\".center(100, \"*\"))\n",
    "        response = requests.get(base_url + \"/movie/top_rated\" + \"?api_key=\" + api_key)\n",
    "        popularMovieList = json.loads(response.text)['results']\n",
    "        for movie in popularMovieList:\n",
    "            print(movie['original_title'], movie['release_date'], movie[\"vote_average\"])\n",
    "            print(\"-\"*100)\n",
    "    elif secim == \"3\":\n",
    "        print(\"\\n\\nPOPULAR FILMS\".center(100, \"*\"))\n",
    "        response = requests.get(base_url + \"/movie/now_playing\" + \"?api_key=\" + api_key)\n",
    "        popularMovieList = json.loads(response.text)['results']\n",
    "        for movie in popularMovieList:\n",
    "            print(movie['original_title'], movie['release_date'], movie[\"vote_average\"])\n",
    "            print(\"-\"*100)\n",
    "    elif secim == \"4\":\n",
    "        search = input(\"Aramak istediğiniz sözcüğü girin: \")\n",
    "        response = requests.get(base_url + \"/search/movie\" + \"?api_key=\" + api_key + \"&query=\" + search)\n",
    "        searchResult = json.loads(response.text)['results']\n",
    "        for movie in searchResult:\n",
    "            print(movie['original_title'], movie['release_date'], movie[\"vote_average\"])\n",
    "            print(\"-\"*100) "
   ]
  }
 ],
 "metadata": {
  "kernelspec": {
   "display_name": "Python 3",
   "language": "python",
   "name": "python3"
  },
  "language_info": {
   "codemirror_mode": {
    "name": "ipython",
    "version": 3
   },
   "file_extension": ".py",
   "mimetype": "text/x-python",
   "name": "python",
   "nbconvert_exporter": "python",
   "pygments_lexer": "ipython3",
   "version": "3.9.0"
  }
 },
 "nbformat": 4,
 "nbformat_minor": 4
}

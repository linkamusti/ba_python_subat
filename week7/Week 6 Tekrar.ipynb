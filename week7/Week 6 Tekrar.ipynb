{
 "cells": [
  {
   "cell_type": "code",
   "execution_count": 5,
   "metadata": {},
   "outputs": [
    {
     "name": "stdout",
     "output_type": "stream",
     "text": [
      "<class 'str'>\n"
     ]
    }
   ],
   "source": [
    "# Servera istek gönderip cevabını aldık\n",
    "import requests\n",
    "\n",
    "response = requests.get(\"https://jsonplaceholder.typicode.com/todos\")\n",
    "\n",
    "print(type(response.text)) # Bu her zaman string olarak geliyor\n"
   ]
  },
  {
   "cell_type": "code",
   "execution_count": 10,
   "metadata": {},
   "outputs": [
    {
     "name": "stdout",
     "output_type": "stream",
     "text": [
      "laboriosam mollitia et enim quasi adipisci quia provident illum\n"
     ]
    }
   ],
   "source": [
    "# Gelen cevap string olduğu için (JSON formatında), bunu liste/dictionarye çevirdik\n",
    "import json\n",
    "\n",
    "myList = json.loads(response.text)\n",
    "\n",
    "print(myList[4]['title'])"
   ]
  },
  {
   "cell_type": "code",
   "execution_count": 25,
   "metadata": {},
   "outputs": [
    {
     "name": "stdout",
     "output_type": "stream",
     "text": [
      "1-Popüler filmler\n",
      "2-En çok puan alan filmler\n",
      "3-Şu anda vizyonda olanlar\n",
      "4-Film ara\n",
      "5-Çıkış\n",
      "Seçim:4\n",
      "Aramak istediğiniz sözcüğü girin: ring\n",
      "******************************************\n",
      "\n",
      "SEARCH RESULTS******************************************\n",
      "The Ring 2002-10-18 6.6\n",
      "----------------------------------------------------------------------------------------------------\n",
      "The Ring Two 2005-03-17 5.7\n",
      "----------------------------------------------------------------------------------------------------\n",
      "The Ring 2021-04-10 0\n",
      "----------------------------------------------------------------------------------------------------\n",
      "The Bling Ring 2013-06-12 5.4\n",
      "----------------------------------------------------------------------------------------------------\n",
      "The Lord of the Rings: The Fellowship of the Ring 2001-12-18 8.3\n",
      "----------------------------------------------------------------------------------------------------\n",
      "Closing the Ring 2007-09-14 6.4\n",
      "----------------------------------------------------------------------------------------------------\n",
      "Tom and Jerry: The Magic Ring 2002-03-12 6.4\n",
      "----------------------------------------------------------------------------------------------------\n",
      "Ring Ring 2019-07-19 5.5\n",
      "----------------------------------------------------------------------------------------------------\n",
      "Le ring 2007-10-13 5.8\n",
      "----------------------------------------------------------------------------------------------------\n",
      "Octonauts: The Ring of Fire 2021-01-08 5\n",
      "----------------------------------------------------------------------------------------------------\n",
      "The Bling Ring 2011-09-26 4.8\n",
      "----------------------------------------------------------------------------------------------------\n",
      "Ring of the Nibelungs 2004-11-19 6.4\n",
      "----------------------------------------------------------------------------------------------------\n",
      "Ring of Darkness 2004-02-28 5.6\n",
      "----------------------------------------------------------------------------------------------------\n",
      "Ring of Death 2009-02-16 5.8\n",
      "----------------------------------------------------------------------------------------------------\n",
      "The Ring 1927-10-01 5.9\n",
      "----------------------------------------------------------------------------------------------------\n",
      "Les reines du ring 2013-07-02 5.9\n",
      "----------------------------------------------------------------------------------------------------\n",
      "Death Ring 1992-06-24 5\n",
      "----------------------------------------------------------------------------------------------------\n",
      "With This Ring 2015-01-24 5.8\n",
      "----------------------------------------------------------------------------------------------------\n",
      "The Ring Thing 2017-06-02 5.3\n",
      "----------------------------------------------------------------------------------------------------\n",
      "Beyond The Ring 2008-01-08 2.7\n",
      "----------------------------------------------------------------------------------------------------\n"
     ]
    },
    {
     "ename": "KeyboardInterrupt",
     "evalue": "Interrupted by user",
     "output_type": "error",
     "traceback": [
      "\u001b[0;31m---------------------------------------------------------------------------\u001b[0m",
      "\u001b[0;31mKeyboardInterrupt\u001b[0m                         Traceback (most recent call last)",
      "\u001b[0;32m<ipython-input-25-8d9ac92c4f61>\u001b[0m in \u001b[0;36m<module>\u001b[0;34m\u001b[0m\n\u001b[1;32m     15\u001b[0m \u001b[0;34m\u001b[0m\u001b[0m\n\u001b[1;32m     16\u001b[0m \u001b[0;32mwhile\u001b[0m \u001b[0;32mTrue\u001b[0m\u001b[0;34m:\u001b[0m\u001b[0;34m\u001b[0m\u001b[0;34m\u001b[0m\u001b[0m\n\u001b[0;32m---> 17\u001b[0;31m     \u001b[0msecim\u001b[0m \u001b[0;34m=\u001b[0m \u001b[0minput\u001b[0m\u001b[0;34m(\u001b[0m\u001b[0;34m\"1-Popüler filmler\\n2-En çok puan alan filmler\\n3-Şu anda vizyonda olanlar\\n4-Film ara\\n5-Çıkış\\nSeçim:\"\u001b[0m\u001b[0;34m)\u001b[0m\u001b[0;34m\u001b[0m\u001b[0;34m\u001b[0m\u001b[0m\n\u001b[0m\u001b[1;32m     18\u001b[0m     \u001b[0;32mif\u001b[0m \u001b[0msecim\u001b[0m \u001b[0;34m==\u001b[0m \u001b[0;34m\"5\"\u001b[0m\u001b[0;34m:\u001b[0m\u001b[0;34m\u001b[0m\u001b[0;34m\u001b[0m\u001b[0m\n\u001b[1;32m     19\u001b[0m         \u001b[0;32mbreak\u001b[0m\u001b[0;34m\u001b[0m\u001b[0;34m\u001b[0m\u001b[0m\n",
      "\u001b[0;32m/Library/Frameworks/Python.framework/Versions/3.9/lib/python3.9/site-packages/ipykernel/kernelbase.py\u001b[0m in \u001b[0;36mraw_input\u001b[0;34m(self, prompt)\u001b[0m\n\u001b[1;32m    858\u001b[0m                 \u001b[0;34m\"raw_input was called, but this frontend does not support input requests.\"\u001b[0m\u001b[0;34m\u001b[0m\u001b[0;34m\u001b[0m\u001b[0m\n\u001b[1;32m    859\u001b[0m             )\n\u001b[0;32m--> 860\u001b[0;31m         return self._input_request(str(prompt),\n\u001b[0m\u001b[1;32m    861\u001b[0m             \u001b[0mself\u001b[0m\u001b[0;34m.\u001b[0m\u001b[0m_parent_ident\u001b[0m\u001b[0;34m,\u001b[0m\u001b[0;34m\u001b[0m\u001b[0;34m\u001b[0m\u001b[0m\n\u001b[1;32m    862\u001b[0m             \u001b[0mself\u001b[0m\u001b[0;34m.\u001b[0m\u001b[0m_parent_header\u001b[0m\u001b[0;34m,\u001b[0m\u001b[0;34m\u001b[0m\u001b[0;34m\u001b[0m\u001b[0m\n",
      "\u001b[0;32m/Library/Frameworks/Python.framework/Versions/3.9/lib/python3.9/site-packages/ipykernel/kernelbase.py\u001b[0m in \u001b[0;36m_input_request\u001b[0;34m(self, prompt, ident, parent, password)\u001b[0m\n\u001b[1;32m    902\u001b[0m             \u001b[0;32mexcept\u001b[0m \u001b[0mKeyboardInterrupt\u001b[0m\u001b[0;34m:\u001b[0m\u001b[0;34m\u001b[0m\u001b[0;34m\u001b[0m\u001b[0m\n\u001b[1;32m    903\u001b[0m                 \u001b[0;31m# re-raise KeyboardInterrupt, to truncate traceback\u001b[0m\u001b[0;34m\u001b[0m\u001b[0;34m\u001b[0m\u001b[0;34m\u001b[0m\u001b[0m\n\u001b[0;32m--> 904\u001b[0;31m                 \u001b[0;32mraise\u001b[0m \u001b[0mKeyboardInterrupt\u001b[0m\u001b[0;34m(\u001b[0m\u001b[0;34m\"Interrupted by user\"\u001b[0m\u001b[0;34m)\u001b[0m \u001b[0;32mfrom\u001b[0m \u001b[0;32mNone\u001b[0m\u001b[0;34m\u001b[0m\u001b[0;34m\u001b[0m\u001b[0m\n\u001b[0m\u001b[1;32m    905\u001b[0m             \u001b[0;32mexcept\u001b[0m \u001b[0mException\u001b[0m \u001b[0;32mas\u001b[0m \u001b[0me\u001b[0m\u001b[0;34m:\u001b[0m\u001b[0;34m\u001b[0m\u001b[0;34m\u001b[0m\u001b[0m\n\u001b[1;32m    906\u001b[0m                 \u001b[0mself\u001b[0m\u001b[0;34m.\u001b[0m\u001b[0mlog\u001b[0m\u001b[0;34m.\u001b[0m\u001b[0mwarning\u001b[0m\u001b[0;34m(\u001b[0m\u001b[0;34m\"Invalid Message:\"\u001b[0m\u001b[0;34m,\u001b[0m \u001b[0mexc_info\u001b[0m\u001b[0;34m=\u001b[0m\u001b[0;32mTrue\u001b[0m\u001b[0;34m)\u001b[0m\u001b[0;34m\u001b[0m\u001b[0;34m\u001b[0m\u001b[0m\n",
      "\u001b[0;31mKeyboardInterrupt\u001b[0m: Interrupted by user"
     ]
    }
   ],
   "source": [
    "##### import requests\n",
    "import json\n",
    "\n",
    "base_url = \"https://api.themoviedb.org/3\"\n",
    "api_key = \"e741267e652d5b14a576ede930ae4352\"\n",
    "\n",
    "\n",
    "# Kullanıcıya 4 seçenek sunacağız\n",
    "# 1 - Popüler filmleri listele\n",
    "# 2 - En çok puan alan filmleri listele\n",
    "# 3 - Şu anda oynatılan filmleri listele\n",
    "# 4 - Film ara\n",
    "# 5 - Çıkış\n",
    "\n",
    "\n",
    "while True:\n",
    "    secim = input(\"1-Popüler filmler\\n2-En çok puan alan filmler\\n3-Şu anda vizyonda olanlar\\n4-Film ara\\n5-Çıkış\\nSeçim:\")\n",
    "    if secim == \"5\":\n",
    "        break\n",
    "    \n",
    "    \n",
    "    if secim == \"1\":\n",
    "        print(\"POPULAR FILMS\".center(100, \"*\"))\n",
    "        response = requests.get(base_url + \"/movie/popular\" + \"?api_key=\" + api_key)\n",
    "        popularMovieList = json.loads(response.text)['results']\n",
    "        for movie in popularMovieList:\n",
    "            print(movie['title'], movie['release_date'], movie[\"vote_average\"])\n",
    "            print(\"-\"*100)\n",
    "    elif secim == \"2\":\n",
    "        print(\"TOP RATED FILMS\".center(100, \"*\"))\n",
    "        response = requests.get(base_url + \"/movie/top_rated\" + \"?api_key=\" + api_key)\n",
    "        topRatedMovieList = json.loads(response.text)['results']\n",
    "        for movie in topRatedMovieList:\n",
    "            print(movie['original_title'], movie['release_date'], movie[\"vote_average\"])\n",
    "            print(\"-\"*100)\n",
    "    elif secim == \"3\":\n",
    "        print(\"NOW PLAYING FILMS\".center(100, \"*\"))\n",
    "        response = requests.get(base_url + \"/movie/now_playing\" + \"?api_key=\" + api_key)\n",
    "        nowPlayingMovieList = json.loads(response.text)['results']\n",
    "        for movie in nowPlayingMovieList:\n",
    "            print(movie['original_title'], movie['release_date'], movie[\"vote_average\"])\n",
    "            print(\"-\"*100)\n",
    "    elif secim == \"4\":\n",
    "        search = input(\"Aramak istediğiniz sözcüğü girin: \")\n",
    "        response = requests.get(base_url + \"/search/movie\" + \"?api_key=\" + api_key + \"&query=\" + search)\n",
    "        searchResult = json.loads(response.text)['results']\n",
    "        print(\"SEARCH RESULTS\".center(100, \"*\"))\n",
    "        \n",
    "        for movie in searchResult:\n",
    "            print(movie['original_title'], movie['release_date'], movie[\"vote_average\"])\n",
    "            print(\"-\"*100) "
   ]
  }
 ],
 "metadata": {
  "kernelspec": {
   "display_name": "Python 3",
   "language": "python",
   "name": "python3"
  },
  "language_info": {
   "codemirror_mode": {
    "name": "ipython",
    "version": 3
   },
   "file_extension": ".py",
   "mimetype": "text/x-python",
   "name": "python",
   "nbconvert_exporter": "python",
   "pygments_lexer": "ipython3",
   "version": "3.9.0"
  }
 },
 "nbformat": 4,
 "nbformat_minor": 4
}

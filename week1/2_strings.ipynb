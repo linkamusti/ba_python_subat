{
 "cells": [
  {
   "cell_type": "markdown",
   "metadata": {},
   "source": [
    "## Strings\n",
    "İki tırnak arasında tanımlanan her şey bir stringdir. \n",
    "(Tek tırnak/Çift tırnak farketmez)"
   ]
  },
  {
   "cell_type": "code",
   "execution_count": 4,
   "metadata": {},
   "outputs": [
    {
     "name": "stdout",
     "output_type": "stream",
     "text": [
      "Stringim içerisinde sayılar (1234567890), noktalama işaretleri (';,!'^&%+/%/(=)) veya boşluklar       bulunabilir\n"
     ]
    }
   ],
   "source": [
    "my_str = \"Bu benim string değerim\"\n",
    "my_str2 = 'Bu da benim diğer string değerim'\n",
    "my_str3 = \"Stringim içerisinde sayılar (1234567890), noktalama işaretleri (';,!'^&%+/%/(=)) veya boşluklar       bulunabilir\"\n",
    "print(my_str3)"
   ]
  },
  {
   "cell_type": "markdown",
   "metadata": {},
   "source": [
    "### Multiline String Declaration\n",
    "Birden fazla satırı olan string tanımlama için üç tırnak kullanıyoruz"
   ]
  },
  {
   "cell_type": "code",
   "execution_count": 6,
   "metadata": {
    "scrolled": true
   },
   "outputs": [
    {
     "name": "stdout",
     "output_type": "stream",
     "text": [
      "Bu benim birinci satırım\n",
      "Burada ikinci satırdan devam ediyoruz\n",
      "Üçüncü satır burada\n",
      "Bu da son satır\n",
      "\n"
     ]
    }
   ],
   "source": [
    "my_str4 = \"\"\"Bu benim birinci satırım\n",
    "Burada ikinci satırdan devam ediyoruz\n",
    "Üçüncü satır burada\n",
    "Bu da son satır\n",
    "\"\"\"\n",
    "\n",
    "print(my_str4)"
   ]
  },
  {
   "cell_type": "code",
   "execution_count": null,
   "metadata": {},
   "outputs": [],
   "source": []
  },
  {
   "cell_type": "markdown",
   "metadata": {},
   "source": [
    "### String \"mathematics\"\n",
    "\n",
    "* \\+ operatörü -> iki stringi birleştirir (concatenation)\n",
    "    * \"abc\" + \"def\" = \"abcdef\"\n",
    "* \\* operatörü -> bir stringi tekrarlar\n",
    "    * \"abc\" * 2 = \"abcabc\"\n",
    "* \\- operatörü kullanılamaz\n",
    "* \\/ operatörü kullanılamaz"
   ]
  },
  {
   "cell_type": "code",
   "execution_count": 8,
   "metadata": {},
   "outputs": [
    {
     "name": "stdout",
     "output_type": "stream",
     "text": [
      "Mustafa Taş\n"
     ]
    }
   ],
   "source": [
    "isim = \"Mustafa\"\n",
    "soyisim = \"Taş\"\n",
    "\n",
    "birlesik = isim + \" \" + soyisim\n",
    "print(birlesik)"
   ]
  },
  {
   "cell_type": "code",
   "execution_count": 9,
   "metadata": {
    "scrolled": true
   },
   "outputs": [
    {
     "name": "stdout",
     "output_type": "stream",
     "text": [
      "Bloody Marry Bloody Marry Bloody Marry \n"
     ]
    }
   ],
   "source": [
    "B_M = \"Bloody Marry \"\n",
    "curse = B_M * 3\n",
    "\n",
    "print(curse)"
   ]
  },
  {
   "cell_type": "markdown",
   "metadata": {},
   "source": [
    "### Strings as Lists\n",
    "\n",
    "- my_str[x] -> x+1'inci karakteri gösterir.\n",
    "- my_str[-x] -> sondan x'inci karakteri gösterir.\n",
    "\n",
    "---------------\n",
    "\n",
    "\n",
    "- **GENERIC: my_str[START:STOP]**\n",
    "- my_str[x:y] -> x+1'inci karakterden y+1'inci karaktere kadar olan tüm karakterler.\n",
    "    - y+1 dahil değil\n",
    "- my_str[-x:y] -> sondan x'inci karakterden, baştan y+1'inci karaktere kadar.\n",
    "    - y+1 dahil değil\n",
    "- my_str[x:-y] -> baştan x+1'inci karakterden, sondan y'inci karaktere kadar.\n",
    "    - y dahil değil\n",
    "- my_str[-x:-y] -> sondan x'inci karakterden, sondan y'inci karaktere kadar.\n",
    "    - y dahil değil\n",
    " \n",
    "---------------\n",
    "\n",
    "- **GENERIC: my_str[START:STOP:STEP]**\n",
    "\n",
    "- my_str[x:y:z] -> x+1'inci karakterden, y+1'inci karaktere kadar, z'şer adım atlayarak\n",
    "\n",
    "\n",
    "**Notlar**:\n",
    "   * Saymaya 0'dan başlıyoruz!!\n",
    "   * Başlangıç noktası bitişin sağında kalırsa (daha büyük olursa) boş string veriyor.\n",
    "   * İki noktanın bir tarafı boş bırakılırsa o taraftaki bütün karakterler kullanılır.\n",
    "        * my_str[:x] -> baştan x+1'inci karaktere kadar bütün karakterler\n",
    "        * my_str[x:] -> x+1'inci karkaterden, sonuna kadar tüm karakterler\n",
    "   * Step sayısı negatif olabilir. Bu durumda geriye doğru atlamaya başlar."
   ]
  },
  {
   "cell_type": "code",
   "execution_count": 41,
   "metadata": {},
   "outputs": [
    {
     "name": "stdout",
     "output_type": "stream",
     "text": [
      "s\n",
      ".\n",
      "p\n",
      "is \n",
      "his\n",
      "app\n",
      "s an \n",
      "appl\n",
      "This \n",
      "is an apple.\n",
      "hsi n\n",
      "h  \n",
      " as i\n",
      ".elppa na si sihT\n"
     ]
    }
   ],
   "source": [
    "my_str = \"This is an apple.\" # -> 17 elemanlı bir listedir, her eleman bir karakterdir.\n",
    "print(my_str[3])  # s harfi (baştan 4. karakter)\n",
    "print(my_str[-1]) # . karakteri (tersten ilk karakter)\n",
    "print(my_str[-4]) # p harfi (tersten 4. karakter)\n",
    "\n",
    "print(my_str[5:8]) # \"is\" stringi (5. karakterden 7. karaktere kadar)\n",
    "print(my_str[1:4]) # \"his\" stringi (1. karakterden 4. karaktere kadar, 4 dahil değil)\n",
    "\n",
    "print(my_str[-6:14]) # \"app\" stringini (Sondan 6. karakterden başlayıp, baştan 14. karaktere kadar )\n",
    "print(my_str[6:-6])  # \"s an \" stringi (Baştan 7. karakterden başlayıp, sondan 6.karaktere kadar)\n",
    "print(my_str[-6:-2]) # \"appl\"\n",
    "\n",
    "print(my_str[:5]) # \"This \" stringi (Baştan başlayıp 6. karaktere kadar)\n",
    "print(my_str[5:]) # \"is an apple.\" stringi (6. karakterden başlayıp sonuna kadar)\n",
    "\n",
    "print(my_str[1:10:2]) # \"hsi n\" (2.karakterden başlayıp 11.karaktere kadar ikişer atlayarak)\n",
    "print(my_str[1:10:3]) # \"h  \" (2.karakterden başlayıp 11.karaktere kadar ikişer atlayarak)\n",
    "\n",
    "print(my_str[10:1:-2])\n",
    "\n",
    "## Bir stringi tersine çevirmek için:\n",
    "\n",
    "print(my_str[::-1])"
   ]
  },
  {
   "cell_type": "markdown",
   "metadata": {},
   "source": [
    "### Escape Characters ( \\ )\n",
    "\n",
    "* \\\\\" -> \"\n",
    "* \\\\' -> '\n",
    "* \\\\\\ -> \\\\\n",
    "* \\\\n -> New Line\n",
    "* \\\\t -> Tab"
   ]
  },
  {
   "cell_type": "code",
   "execution_count": 51,
   "metadata": {},
   "outputs": [
    {
     "name": "stdout",
     "output_type": "stream",
     "text": [
      "Mahmut bana \"abi\" dedi\n",
      "Selam Mahmut Abi\n",
      "\n",
      "Nasılsın bugün?\n",
      "Buraya kadar normal\tBurdan sonrasi biraz ayrik\u0007\n"
     ]
    }
   ],
   "source": [
    "cumle = \"Mahmut bana \\\"abi\\\" dedi\"\n",
    "print(cumle)\n",
    "\n",
    "iki_satirli_cumle = \"Selam Mahmut Abi\\n\\nNasılsın bugün?\"\n",
    "print(iki_satirli_cumle)\n",
    "\n",
    "tabli_cumle = \"Buraya kadar normal\\tBurdan sonrasi biraz ayrik\"\n",
    "print(tabli_cumle)"
   ]
  },
  {
   "cell_type": "markdown",
   "metadata": {},
   "source": [
    "### String Methods\n",
    "\n",
    "For all methods: https://www.w3schools.com/python/python_strings_methods.asp\n",
    "\n",
    "----------\n",
    "\n",
    "##### 1) len\n",
    "\n",
    "> len(x) \n",
    "\n",
    "x'in içinde kaç karakter olduğunu söylüyor (Eğer x bir string ise)"
   ]
  },
  {
   "cell_type": "code",
   "execution_count": 58,
   "metadata": {
    "scrolled": true
   },
   "outputs": [
    {
     "name": "stdout",
     "output_type": "stream",
     "text": [
      "24\n"
     ]
    }
   ],
   "source": [
    "my_str = \"Bu benim guzel stringim.\"\n",
    "my_length = len(my_str)\n",
    "print(my_length)"
   ]
  },
  {
   "cell_type": "markdown",
   "metadata": {},
   "source": [
    "#### 2) upper & lower\n",
    "\n",
    "> y = x.upper()\n",
    "\n",
    "> z = x.lower()\n",
    "\n",
    "y x'in bütün harfleri büyük harfe çevrilmiş hali olacak\n",
    "z x'in bütün harfleri küçük harfe çevrilmiş hali olacak"
   ]
  },
  {
   "cell_type": "code",
   "execution_count": 61,
   "metadata": {},
   "outputs": [
    {
     "name": "stdout",
     "output_type": "stream",
     "text": [
      "Mustafa MUSTAFA mustafa\n"
     ]
    }
   ],
   "source": [
    "my_str = \"Mustafa\"\n",
    "\n",
    "my_buyuk_str = my_str.upper()\n",
    "my_kucuk_str = my_str.lower()\n",
    "print(my_str, my_buyuk_str, my_kucuk_str)"
   ]
  },
  {
   "cell_type": "markdown",
   "metadata": {},
   "source": [
    "#### 3) strip & rstrip & lstrip\n",
    "\n",
    "Kelimenin başından ve sonundan istenmeyen karakterleri silmek için kullanılır.\n",
    "\n",
    "> y = x.strip() \n",
    "\n",
    "> z = x.rstrip()\n",
    "\n",
    "> q = x.lstrip()\n",
    "\n",
    "boşluk -> **whitespace** (boşluk, tab, yeni satır)\n",
    "\n",
    "y x'in başından ve sonundan boşluk karakterlerinin silinmiş hali.\n",
    "\n",
    "z x'in sonundan boşluk karakterlerinin silinmiş hali\n",
    "\n",
    "q x'in başından boşluk karakterlerinin silinmiş hali\n",
    "\n",
    "\n",
    "> y = x.strip(s)\n",
    "\n",
    "s-> string\n",
    "\n",
    "y x'in başından ve sonundan s'nin içindeki bütün karakterlerin silinmiş hali."
   ]
  },
  {
   "cell_type": "code",
   "execution_count": 66,
   "metadata": {
    "scrolled": true
   },
   "outputs": [
    {
     "name": "stdout",
     "output_type": "stream",
     "text": [
      "   Pakize bugün eve geldi  \t\n",
      "\n",
      "----------\n",
      "Pakize bugün eve geldi\n",
      "----------\n",
      "   Pakize bugün eve geldi\n",
      "----------\n",
      "Pakize bugün eve geldi  \t\n",
      "\n"
     ]
    }
   ],
   "source": [
    "#Parametresiz strip\n",
    "\n",
    "my_str = \"   Pakize bugün eve geldi  \\t\\n\"\n",
    "\n",
    "strip_my_str = my_str.strip()\n",
    "rstrip_my_str = my_str.rstrip()\n",
    "lstrip_my_str = my_str.lstrip()\n",
    "\n",
    "print(my_str)\n",
    "print(\"-\"*10)\n",
    "print(strip_my_str)\n",
    "print(\"-\"*10)\n",
    "print(rstrip_my_str)\n",
    "print(\"-\"*10)\n",
    "print(lstrip_my_str)\n",
    "\n"
   ]
  },
  {
   "cell_type": "code",
   "execution_count": 72,
   "metadata": {},
   "outputs": [
    {
     "name": "stdout",
     "output_type": "stream",
     "text": [
      "Bugün sana çok sinirliyim\n"
     ]
    }
   ],
   "source": [
    "#Parametreli Strip\n",
    "\n",
    "my_str = \"----- Bugün sana çok sinirliyim..!!!!!.!!.11!1.!\"\n",
    "\n",
    "temizlenmis_str = my_str.strip(\"!1.- \")\n",
    "print(temizlenmis_str)\n"
   ]
  },
  {
   "cell_type": "markdown",
   "metadata": {},
   "source": [
    "#### 4) replace\n",
    "\n",
    "> y = x.replace(z, q)\n",
    "\n",
    "x'in içindeki bütün z stringleri q stringiyle değişip y'ye eşitleniyor.\n",
    "\n",
    "x -> orjinal stringimiz\n",
    "y -> sonuç\n",
    "z -> değiştirmek istediğimiz string\n",
    "q -> değiştirilen stringin yeni değeri"
   ]
  },
  {
   "cell_type": "code",
   "execution_count": 88,
   "metadata": {},
   "outputs": [
    {
     "name": "stdout",
     "output_type": "stream",
     "text": [
      "Bugün ne yoyeceğoz?\n",
      "Yarın seninle Yüzüklerin Efendisi izlemek istiyorum.\n",
      "Çünkü dünyanın en iyi filmi Yüzüklerin Efendisi.\n",
      "Bu cümle içinde istenmeyen ünlem işaretleri var\n",
      "B!!u cümle içinde istenmeyen ünlem!! işare!!tleri!! var!!\n"
     ]
    }
   ],
   "source": [
    "my_str = \"Bugün ne yiyeceğiz?\"\n",
    "my_sotoro = my_str.replace(\"i\", \"o\")\n",
    "print(my_sotoro)\n",
    "\n",
    "my_str = \"Yarın seninle Harry Potter izlemek istiyorum.\\nÇünkü dünyanın en iyi filmi Harry Potter.\"\n",
    "my_str_duzeltilmis = my_str.replace(\"Harry Potter\", \"Yüzüklerin Efendisi\")\n",
    "print(my_str_duzeltilmis)\n",
    "\n",
    "\n",
    "my_str = \"B!!u cümle için!!de istenme!!!!yen ünlem!! işare!!tleri!! var!!\"\n",
    "my_str_duzeltilmis = my_str.replace(\"!\", \"\")\n",
    "print(my_str_duzeltilmis)\n",
    "\n",
    "#sonuc = my_str[:5] + my_str[5:35].replace(\"!\", \"\") + my_str[35:]\n",
    "#print(sonuc)\n"
   ]
  },
  {
   "cell_type": "markdown",
   "metadata": {},
   "source": [
    "#### 5) find & rfind\n",
    "\n",
    "Bir string içerisinde bir başka stringin yerini bulmak için kullanılır.\n",
    "\n",
    "> y = x.find(z)\n",
    "\n",
    "> q = x.rfind(z)\n",
    "\n",
    "\n",
    "y, x içerisindeki **soldan başlayarak ilk** z stringinin _indexine_ eşitlenir.\n",
    "\n",
    "q, x içerisindeki **sağdan başlayarak ilk** z stringinin _indexine_ eşitlenir.\n",
    "\n",
    "\n",
    "> y = x.find(z, q)\n",
    "\n",
    "y, **soldan q+1'inci indexten başlayarak bulduğu ilk** z stringinin _indexine_ eşitlenir\n",
    "\n",
    "\n",
    "**Notlar**:\n",
    "* Bir string bulunamazsa sonuç -1 oluyor"
   ]
  },
  {
   "cell_type": "code",
   "execution_count": 92,
   "metadata": {},
   "outputs": [
    {
     "name": "stdout",
     "output_type": "stream",
     "text": [
      "11\n",
      "1\n",
      "31\n"
     ]
    }
   ],
   "source": [
    "# Baştan veya sondan başlayarak arama\n",
    "my_str = \"Bir derdim var artık tutamam içimde.\"\n",
    "y = my_str.find(\"var\") # 11\n",
    "z = my_str.find(\"i\") # 1\n",
    "q = my_str.rfind(\"i\") # 31\n",
    "print(y)\n",
    "print(z)\n",
    "print(q)"
   ]
  },
  {
   "cell_type": "code",
   "execution_count": 94,
   "metadata": {
    "scrolled": true
   },
   "outputs": [
    {
     "name": "stdout",
     "output_type": "stream",
     "text": [
      "1\n",
      "8\n",
      "31\n",
      "-1\n"
     ]
    }
   ],
   "source": [
    "# Verilen bir indexten başlayarak arama\n",
    "\n",
    "my_str = \"Bir derdim var artık tutamam içimde.\"\n",
    "y = my_str.find(\"i\") # 1\n",
    "z = my_str.find(\"i\", 7) # 8\n",
    "q = my_str.rfind(\"i\", 15) # 8\n",
    "\n",
    "olmayan_birsey = my_str.find(\"yok\")\n",
    "\n",
    "print(y)\n",
    "print(z)\n",
    "print(q)\n",
    "print(olmayan_birsey)"
   ]
  },
  {
   "cell_type": "markdown",
   "metadata": {},
   "source": [
    "#### 6) split\n",
    "\n",
    "> y = x.split(z)\n",
    "\n",
    "\n",
    "y, x içerisindeki z karakteriyle (ya da stringiyle) ayrılmış bütün stringlerin bir listesi."
   ]
  },
  {
   "cell_type": "code",
   "execution_count": 100,
   "metadata": {},
   "outputs": [
    {
     "name": "stdout",
     "output_type": "stream",
     "text": [
      "['Ali', 'Ahmet', 'Ayşe', 'Fatma', 'Mustafa', 'X Æ A-12']\n",
      "Fatma\n",
      "['Eve geldik', 'yemek yedik', 'duş aldık', 'uyuduk.']\n"
     ]
    }
   ],
   "source": [
    "my_str = \"Ali,Ahmet,Ayşe,Fatma,Mustafa,X Æ A-12\"\n",
    "isim_listesi = my_str.split(\",\")\n",
    "print(isim_listesi)\n",
    "print(isim_listesi[3]) # Liste indexing\n",
    "\n",
    "my_str = \"Eve geldik ve yemek yedik ve duş aldık ve uyuduk.\"\n",
    "eylemler = my_str.split(\" ve \")\n",
    "print(eylemler)"
   ]
  },
  {
   "cell_type": "markdown",
   "metadata": {},
   "source": [
    "#### 7) in \n",
    "\n",
    "> x **in** y\n",
    "\n",
    "Eğer y stringi içerisinde x stringi varsa _True_ oluyor, yoksa _False_ oluyor."
   ]
  },
  {
   "cell_type": "code",
   "execution_count": 111,
   "metadata": {},
   "outputs": [
    {
     "name": "stdout",
     "output_type": "stream",
     "text": [
      "True\n",
      "False\n",
      "False\n",
      "--------------------------------------------------\n",
      "True\n",
      "False\n"
     ]
    }
   ],
   "source": [
    "my_str = \"Buralara yaz günü kar yağıyor canım.\"\n",
    "\n",
    "print(\"yaz\" in my_str)\n",
    "print(\"Kar\" in my_str)\n",
    "print(\"kış\" in my_str)\n",
    "# not in\n",
    "print(\"-\"*50)\n",
    "print(\"serdar\" not in my_str)\n",
    "print(\"gün\" not in my_str)"
   ]
  }
 ],
 "metadata": {
  "kernelspec": {
   "display_name": "Python 3",
   "language": "python",
   "name": "python3"
  },
  "language_info": {
   "codemirror_mode": {
    "name": "ipython",
    "version": 3
   },
   "file_extension": ".py",
   "mimetype": "text/x-python",
   "name": "python",
   "nbconvert_exporter": "python",
   "pygments_lexer": "ipython3",
   "version": "3.9.0"
  }
 },
 "nbformat": 4,
 "nbformat_minor": 4
}

{
 "cells": [
  {
   "cell_type": "markdown",
   "metadata": {},
   "source": [
    "# Lists\n",
    "\n",
    "* Tanımlamak için başına ve sonuna köşeli parantez \\[  \\] koyuyoruz\n",
    "* Elemanları virgüllerle ayırıyoruz\n",
    "* Listenin herhangi bir elemanına ulaşmak istediğimizde, köşeli parantezler içerisine ulaşmak istediğimiz elemanın indexini yazıyoruz\n",
    "* Liste içerisinde bir aralık seçmek istersek Stringlerde yaptığımızın aynısını yapabiliriz. (bkz: 2_strings.ipynb)\n",
    "* Listenin elemanlarının veri tipleri farklı olabilir."
   ]
  },
  {
   "cell_type": "code",
   "execution_count": 31,
   "metadata": {
    "scrolled": true
   },
   "outputs": [
    {
     "name": "stdout",
     "output_type": "stream",
     "text": [
      "[18, 17, 19, 18, 18]\n",
      "18\n",
      "Huriye\n",
      "['Selçuk', 'Hasan', 'Selin']\n",
      "Huriye\n",
      "['Mustafa', 'Hasan']\n"
     ]
    }
   ],
   "source": [
    "bos_liste = [] #BOŞ LİSTE\n",
    "\n",
    "my_list = [18,17,19,18,18]\n",
    "my_name_list = [\"Mustafa\", \"Selçuk\", \"Hasan\", \"Selin\", \"Huriye\"]\n",
    "print(my_list)\n",
    "print(my_list[4])\n",
    "print(my_name_list[4])\n",
    "\n",
    "print(my_name_list[1:4])\n",
    "print(my_name_list[-1])\n",
    "print(my_name_list[0:4:2])"
   ]
  },
  {
   "cell_type": "markdown",
   "metadata": {},
   "source": [
    "**Nested List Örneği** \n",
    "\n",
    "İç içe geçen listeler"
   ]
  },
  {
   "cell_type": "code",
   "execution_count": 83,
   "metadata": {},
   "outputs": [
    {
     "name": "stdout",
     "output_type": "stream",
     "text": [
      "1\n",
      "Mahmut\n",
      "46\n"
     ]
    }
   ],
   "source": [
    "nested_list = [1, 2, 3, 4, [\"Mustafa\", \"Mahmut\", \"Süleyman\"], [9,8,7], [75, 50, [46, 93]] ]\n",
    "print(nested_list[0])\n",
    "print(nested_list[4][1])\n",
    "print(nested_list[6][2][0])"
   ]
  },
  {
   "cell_type": "code",
   "execution_count": 32,
   "metadata": {
    "scrolled": true
   },
   "outputs": [
    {
     "name": "stdout",
     "output_type": "stream",
     "text": [
      "3.7\n"
     ]
    }
   ],
   "source": [
    "my_karisik_list = [\"Mustafa\", \"Taş\", 26, 3.7, \"mustafa@linkadoo.me\", False]\n",
    "print(my_karisik_list[3])"
   ]
  },
  {
   "cell_type": "markdown",
   "metadata": {},
   "source": [
    "**Listenin eleman sayısı**"
   ]
  },
  {
   "cell_type": "code",
   "execution_count": 33,
   "metadata": {},
   "outputs": [
    {
     "name": "stdout",
     "output_type": "stream",
     "text": [
      "6\n"
     ]
    }
   ],
   "source": [
    "karisik_liste_eleman_sayisi = len(my_karisik_list)\n",
    "print(karisik_liste_eleman_sayisi)"
   ]
  },
  {
   "cell_type": "markdown",
   "metadata": {},
   "source": [
    "**Bir eleman var mı yok mu kontrolü**"
   ]
  },
  {
   "cell_type": "code",
   "execution_count": 34,
   "metadata": {},
   "outputs": [
    {
     "name": "stdout",
     "output_type": "stream",
     "text": [
      "True\n",
      "False\n",
      "--------------------------------------------------\n",
      "False\n",
      "True\n",
      "--------------------------------------------------\n",
      "<class 'float'>\n",
      "--------------------------------------------------\n",
      "False\n"
     ]
    }
   ],
   "source": [
    "print(\"Mustafa\" in my_karisik_list)\n",
    "print(\"Serdar\" in my_karisik_list)\n",
    "print(\"-\"*50)\n",
    "print(\"Mustafa\" not in my_karisik_list)\n",
    "print(\"Serdar\" not in my_karisik_list)\n",
    "print(\"-\"*50)\n",
    "\n",
    "print(type(my_karisik_list[3]))\n",
    "print(\"-\"*50)\n",
    "\n",
    "print(\"linkadoo\" in my_karisik_list)\n"
   ]
  },
  {
   "cell_type": "markdown",
   "metadata": {},
   "source": [
    "**Bir elemanın değerini değiştirme**"
   ]
  },
  {
   "cell_type": "code",
   "execution_count": 35,
   "metadata": {},
   "outputs": [
    {
     "name": "stdout",
     "output_type": "stream",
     "text": [
      "['Mustafa', 'Taş', 27, 3.7, 'mkemaltas@sabanciuniv.edu', True]\n"
     ]
    }
   ],
   "source": [
    "my_karisik_list[4] = \"mkemaltas@sabanciuniv.edu\"\n",
    "my_karisik_list[2] = 27\n",
    "my_karisik_list[5] = True\n",
    "\n",
    "\n",
    "print(my_karisik_list)"
   ]
  },
  {
   "cell_type": "markdown",
   "metadata": {},
   "source": [
    "**Bir elemanı silme**"
   ]
  },
  {
   "cell_type": "code",
   "execution_count": 36,
   "metadata": {
    "scrolled": true
   },
   "outputs": [
    {
     "name": "stdout",
     "output_type": "stream",
     "text": [
      "['Mustafa', 'Taş', 27, 'mkemaltas@sabanciuniv.edu', True]\n"
     ]
    }
   ],
   "source": [
    "del my_karisik_list[3]\n",
    "print(my_karisik_list)"
   ]
  },
  {
   "cell_type": "markdown",
   "metadata": {},
   "source": [
    "**Listeye bir eleman ekleme**\n",
    "#### append() methodu\n",
    "\n",
    "> x.append(y)\n",
    "\n",
    "x listesinin sonuna y elemanı ekleniyor"
   ]
  },
  {
   "cell_type": "code",
   "execution_count": 40,
   "metadata": {},
   "outputs": [
    {
     "name": "stdout",
     "output_type": "stream",
     "text": [
      "[1, 2, 3]\n",
      "[1, 2, 3, 5]\n",
      "[1, 2, 3, 5, 'Mahmut']\n",
      "[1, 2, 3, 5, 'Mahmut', True]\n"
     ]
    }
   ],
   "source": [
    "my_list = [1, 2, 3]\n",
    "print(my_list)\n",
    "\n",
    "my_list.append(5)\n",
    "print(my_list)\n",
    "\n",
    "my_list.append(\"Mahmut\")\n",
    "print(my_list)\n",
    "\n",
    "my_list.append(True)\n",
    "print(my_list)\n"
   ]
  },
  {
   "cell_type": "markdown",
   "metadata": {},
   "source": [
    "#### insert() methodu\n",
    "\n",
    "> x.insert(y, z)\n",
    "\n",
    "x listesinde y indexine z elemanını ekliyor, y'den sonraki her eleman birer sağa kayıyor."
   ]
  },
  {
   "cell_type": "code",
   "execution_count": 45,
   "metadata": {},
   "outputs": [
    {
     "name": "stdout",
     "output_type": "stream",
     "text": [
      "[1, 2, 3]\n",
      "[1, 5, 2, 3]\n",
      "[1, 5, 'Mahmut', 2, 3]\n",
      "[1, 5, 'Mahmut', True, 2, 3]\n"
     ]
    }
   ],
   "source": [
    "my_list = [1, 2, 3]\n",
    "print(my_list)\n",
    "\n",
    "my_list.insert(1, 5)\n",
    "print(my_list)\n",
    "\n",
    "my_list.insert(2, \"Mahmut\")\n",
    "print(my_list)\n",
    "\n",
    "my_list.insert(-2, True)\n",
    "print(my_list)\n"
   ]
  },
  {
   "cell_type": "markdown",
   "metadata": {},
   "source": [
    "**Listelerde sıralama (sort)**"
   ]
  },
  {
   "cell_type": "code",
   "execution_count": 51,
   "metadata": {},
   "outputs": [
    {
     "name": "stdout",
     "output_type": "stream",
     "text": [
      "[-9, 1, 2, 5, 7, 9, 13]\n",
      "[13, 9, 7, 5, 2, 1, -9]\n",
      "['Ayşe', 'Buğra', 'Fatma', 'Mustafa', 'Selin', 'Süleyman']\n",
      "['Süleyman', 'Selin', 'Mustafa', 'Fatma', 'Buğra', 'Ayşe']\n"
     ]
    }
   ],
   "source": [
    "my_list = [2,7,13,5,9,1,-9] # Sıralanabilir\n",
    "my_list2 = [\"Mahmut\", 4, 7, \"Mustafa\", -3, True, 7.2] # Sıralanamaz\n",
    "my_list3 = [\"Ayşe\", \"Fatma\", \"Buğra\", \"Mustafa\", \"Selin\", \"Süleyman\"] # Sıralanabilir\n",
    "\n",
    "\n",
    "my_list.sort() # küçükten büyüğe\n",
    "print(my_list)\n",
    "my_list.sort(reverse=True) # büyükten küçüğe\n",
    "print(my_list)\n",
    "\n",
    "my_list3.sort() # küçükten (a) büyüğe (z) (sözlükteki sıraya göre)\n",
    "print(my_list3)\n",
    "\n",
    "my_list3.sort(reverse=True) # büyükten küçüğe (sözlükteki sırasına göre)\n",
    "print(my_list3)\n"
   ]
  },
  {
   "cell_type": "markdown",
   "metadata": {},
   "source": [
    "### Copying a list\n",
    "\n",
    "**Deep Copy vs Shallow Copy**"
   ]
  },
  {
   "cell_type": "code",
   "execution_count": 59,
   "metadata": {},
   "outputs": [
    {
     "name": "stdout",
     "output_type": "stream",
     "text": [
      "[23, 73, 3, 4, 5, 6]\n",
      "[23, 73, 3, 4, 5, 6]\n",
      "[99, 2, 3, 4, 5, 6]\n",
      "5 15\n"
     ]
    }
   ],
   "source": [
    "my_list = [1,2,3,4,5,6]\n",
    "\n",
    "my_list2 = my_list ## SHALLOW COPY (ayrı bir kopya oluşmuyor, iki isim de varolan listeyi kullanıyor)\n",
    "my_list3 = my_list.copy() ## DEEP COPY (ayrı bir liste oluşturup oraya kopyalanıyor)\n",
    "my_list3[0] = 99\n",
    "my_list2[0] = 23\n",
    "my_list[1] = 73\n",
    "\n",
    "\n",
    "print(my_list)\n",
    "print(my_list2)\n",
    "print(my_list3)\n",
    "\n",
    "\n",
    "a = 5\n",
    "b = a ## DEEP COPY (ayrı bir kopya oluşuyor)\n",
    "b = 15\n",
    "print(a,b)\n"
   ]
  },
  {
   "cell_type": "markdown",
   "metadata": {},
   "source": [
    "# Dictionary\n",
    "\n",
    "- key-value ikilileri halinde bilgi saklamak için kullanılır\n",
    "    - isim-mustafa\n",
    "    - yaş-26\n",
    "    - şehir-istanbul\n",
    "    \n",
    "- Küme parantezleriyle tanımlanıyorlar { }\n",
    "- Key - Value ikilileri arasında iki nokta koyarak tanımlanıyorlar\n",
    "- Farklı key-value ikilileri virgüllerle ayrılıyor.\n",
    "\n",
    "> my_dict = {\"isim\": \"Mustafa\", \"yaş\": 26, \"şehir\": \"İstanbul\"}\n",
    "\n",
    "- Bir elemana ulaşmak için, indexini değil \"anahtar\" sözcüğünü (\"key\") kullanıyoruz:\n",
    "\n",
    "> my_dict\\[\"yaş\"\\]\n",
    "\n",
    "> my_dict\\[\"şehir\"\\]"
   ]
  },
  {
   "cell_type": "code",
   "execution_count": 62,
   "metadata": {},
   "outputs": [
    {
     "name": "stdout",
     "output_type": "stream",
     "text": [
      "mustafa@linkadoo.me\n"
     ]
    }
   ],
   "source": [
    "my_dict = {\n",
    "    \"isim\": \"Mustafa Kemal\",\n",
    "    \"soyisim\": \"Taş\",\n",
    "    \"yaş\": 26,\n",
    "    \"email\": \"mustafa@linkadoo.me\",\n",
    "    \"şehir\": \"İstanbul\"\n",
    "}\n",
    "\n",
    "print(my_dict[\"email\"])"
   ]
  },
  {
   "cell_type": "markdown",
   "metadata": {},
   "source": [
    "**Bir elemanı güncelleme/değiştirme**"
   ]
  },
  {
   "cell_type": "code",
   "execution_count": 67,
   "metadata": {},
   "outputs": [
    {
     "name": "stdout",
     "output_type": "stream",
     "text": [
      "{'isim': 'Mustafa Kemal', 'soyisim': 'Taş', 'yaş': 26, 'email': 'mustafa@linkadoo.me', 'şehir': 'Adana'}\n"
     ]
    }
   ],
   "source": [
    "my_dict[\"şehir\"] = \"Adana\"\n",
    "print(my_dict)"
   ]
  },
  {
   "cell_type": "markdown",
   "metadata": {},
   "source": [
    "**Bir eleman ekleme**"
   ]
  },
  {
   "cell_type": "code",
   "execution_count": 70,
   "metadata": {},
   "outputs": [
    {
     "name": "stdout",
     "output_type": "stream",
     "text": [
      "{'isim': 'Mustafa Kemal', 'soyisim': 'Taş', 'yaş': 26, 'email': 'mustafa@linkadoo.me', 'şehir': 'Adana', 'mezuniyet_yili': 2016}\n"
     ]
    }
   ],
   "source": [
    "my_dict[\"mezuniyet_yili\"] = 2016\n",
    "print(my_dict)"
   ]
  },
  {
   "cell_type": "code",
   "execution_count": 72,
   "metadata": {},
   "outputs": [
    {
     "name": "stdout",
     "output_type": "stream",
     "text": [
      "dict_keys(['isim', 'soyisim', 'yaş', 'email', 'şehir', 'mezuniyet_yili'])\n",
      "dict_values(['Mustafa Kemal', 'Taş', 26, 'mustafa@linkadoo.me', 'Adana', 2016])\n"
     ]
    }
   ],
   "source": [
    "print(my_dict.keys()) ## Bütün key'ler\n",
    "print(my_dict.values()) ## Bütün value'lar"
   ]
  },
  {
   "cell_type": "markdown",
   "metadata": {},
   "source": [
    "**Dictionary'lerde 'in' kullanımı**\n",
    "\n",
    "in sözcüğü dictionary'nin sadece \"keys\" kısmındaki anahtarlar içinde arama yapar"
   ]
  },
  {
   "cell_type": "code",
   "execution_count": 76,
   "metadata": {},
   "outputs": [
    {
     "name": "stdout",
     "output_type": "stream",
     "text": [
      "True\n",
      "False\n"
     ]
    }
   ],
   "source": [
    "print(\"email\" in my_dict)\n",
    "print(\"İstanbul\" in my_dict)"
   ]
  },
  {
   "cell_type": "markdown",
   "metadata": {},
   "source": [
    "**Dictionary'den key silme**"
   ]
  },
  {
   "cell_type": "code",
   "execution_count": 77,
   "metadata": {},
   "outputs": [
    {
     "name": "stdout",
     "output_type": "stream",
     "text": [
      "{'isim': 'Mustafa Kemal', 'soyisim': 'Taş', 'yaş': 26, 'email': 'mustafa@linkadoo.me', 'şehir': 'Adana'}\n"
     ]
    }
   ],
   "source": [
    "del my_dict[\"mezuniyet_yili\"]\n",
    "print(my_dict)"
   ]
  },
  {
   "cell_type": "markdown",
   "metadata": {},
   "source": [
    "**Nested Dictionary**"
   ]
  },
  {
   "cell_type": "code",
   "execution_count": 94,
   "metadata": {},
   "outputs": [
    {
     "name": "stdout",
     "output_type": "stream",
     "text": [
      "Social and Political Science\n",
      "['Mahmut', 'Süleyman', 'Fatma', 'Buğra', 'Ayşe']\n"
     ]
    }
   ],
   "source": [
    "ogrenci = {\n",
    "    \"isim\": \"Mustafa\",\n",
    "    \"no\": \"201\",\n",
    "    \"dersler\": {\n",
    "        \"ENG101\": \"English\",\n",
    "        \"SPS101\": \"Social and Political Science\",\n",
    "        \"MATH101\": \"Mathematics\"\n",
    "    },\n",
    "    \"arkadaşlar\": [\"Mahmut\", \"Süleyman\", \"Fatma\", \"Buğra\", \"Ayşe\"]\n",
    "}\n",
    "\n",
    "print(ogrenci[\"dersler\"][\"SPS101\"])\n",
    "print(ogrenci[\"arkadaşlar\"])"
   ]
  }
 ],
 "metadata": {
  "kernelspec": {
   "display_name": "Python 3",
   "language": "python",
   "name": "python3"
  },
  "language_info": {
   "codemirror_mode": {
    "name": "ipython",
    "version": 3
   },
   "file_extension": ".py",
   "mimetype": "text/x-python",
   "name": "python",
   "nbconvert_exporter": "python",
   "pygments_lexer": "ipython3",
   "version": "3.9.0"
  }
 },
 "nbformat": 4,
 "nbformat_minor": 4
}

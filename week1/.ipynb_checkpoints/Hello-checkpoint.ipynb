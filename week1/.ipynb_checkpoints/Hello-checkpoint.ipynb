{
 "cells": [
  {
   "cell_type": "markdown",
   "metadata": {},
   "source": [
    "#### Print komutu\n",
    "\n",
    "> print(__xxx__)\n",
    "\n",
    "şeklinde kullanılır. __xxx__ yerindeki değeri ekrana basar."
   ]
  },
  {
   "cell_type": "code",
   "execution_count": null,
   "metadata": {},
   "outputs": [],
   "source": [
    "print(\"Hello World\")"
   ]
  },
  {
   "cell_type": "code",
   "execution_count": 6,
   "metadata": {},
   "outputs": [
    {
     "name": "stdout",
     "output_type": "stream",
     "text": [
      "54.2\n"
     ]
    }
   ],
   "source": [
    "print(54.2)"
   ]
  },
  {
   "cell_type": "markdown",
   "metadata": {},
   "source": [
    "#### Data Types\n",
    "\n",
    "* Number\n",
    "    * Integer (Tam Sayi) - int\n",
    "    * Float (Virgullu Sayi)- float\n",
    "    * Double (Virgullu Sayi) - double\n",
    "* Strings - (Birden fazla karakterin yanyana gelmesinden oluşan karakter dizileri) \n",
    "    * abc\n",
    "    * Mustafa\n",
    "    * a1b2c3\n",
    "    \n",
    "    * __Başına ve sonuna tırnak işareti koymamız gerekiyor__\n",
    "\n",
    "* Characters\n",
    "    *http://www.asciitable.com/\n",
    "    \n",
    "* Booleans\n",
    "    * True or False"
   ]
  },
  {
   "cell_type": "code",
   "execution_count": 21,
   "metadata": {},
   "outputs": [
    {
     "name": "stdout",
     "output_type": "stream",
     "text": [
      "İsim:  Mustafa Kemal Taş\n",
      "Yaş:  26\n",
      "Not Ortalaması:  3.7\n",
      "Evli mi:  False\n"
     ]
    }
   ],
   "source": [
    "age = 26 # integer \n",
    "first_name = \"Mustafa\" # string\n",
    "middle_name = \"Kemal\" # string\n",
    "last_name = \"Taş\" # string\n",
    "GPA = 3.7 # float\n",
    "is_married = False # boolean\n",
    "\n",
    "print(\"İsim: \", first_name, middle_name, last_name)\n",
    "print(\"Yaş: \", age)\n",
    "print(\"Not Ortalaması: \", GPA)\n",
    "print(\"Evli mi: \", is_married)"
   ]
  },
  {
   "cell_type": "markdown",
   "metadata": {},
   "source": [
    "##### Type komutu\n",
    "\n",
    ">type(__xxx__) \n",
    "\n",
    "şeklinde kullanılır. __xxx__ değişkeninin veri tipini gösterir."
   ]
  },
  {
   "cell_type": "code",
   "execution_count": 26,
   "metadata": {},
   "outputs": [
    {
     "data": {
      "text/plain": [
       "float"
      ]
     },
     "execution_count": 26,
     "metadata": {},
     "output_type": "execute_result"
    }
   ],
   "source": [
    "type(GPA)"
   ]
  },
  {
   "cell_type": "markdown",
   "metadata": {},
   "source": [
    "#### Arithmetic Operations\n",
    "\n",
    "* Addition (Toplama): +\n",
    "* Subtraction (Çıkarma): - \n",
    "* Multiplication (Çarpma): *\n",
    "* Division (Bölme): /\n",
    "\n",
    "* Exponential (Üs alma): **\n",
    "* Floor Division (Kalansız bölme): //\n",
    "* Modulo (Bölümden kalan): %\n",
    "\n",
    "\n",
    "\n",
    "__Notlar__: \n",
    "* İki float arasındaki işlemin sonucu her zaman float olur. \n",
    "* İşlemde bir tane float olsa bile sonuç float olur.\n",
    "* Bölme işlemi sonucu her türlü float olur."
   ]
  },
  {
   "cell_type": "code",
   "execution_count": 33,
   "metadata": {
    "scrolled": true
   },
   "outputs": [
    {
     "name": "stdout",
     "output_type": "stream",
     "text": [
      "8\n",
      "9.0\n",
      "-2.0\n",
      "8.5\n"
     ]
    }
   ],
   "source": [
    "## Toplama\n",
    "result = 3 + 5\n",
    "print(result)\n",
    "\n",
    "result = 3.5 + 5.5\n",
    "print(result)\n",
    "\n",
    "result = 3.5 + (-5.5)\n",
    "print(result)\n",
    "\n",
    "result = 3 + 5.5\n",
    "print(result)"
   ]
  },
  {
   "cell_type": "code",
   "execution_count": 48,
   "metadata": {},
   "outputs": [
    {
     "name": "stdout",
     "output_type": "stream",
     "text": [
      "2\n",
      "2.0\n",
      "-2.0\n",
      "<class 'float'>\n"
     ]
    }
   ],
   "source": [
    "## Çıkarma\n",
    "result = 5 - 3\n",
    "print(result)\n",
    "\n",
    "result = 5.5 - 3.5 \n",
    "print(result)\n",
    "\n",
    "result = 3.5 - 5.5\n",
    "print(result)\n",
    "\n",
    "result = 5.0 - 3\n",
    "print(result)"
   ]
  },
  {
   "cell_type": "code",
   "execution_count": 50,
   "metadata": {},
   "outputs": [
    {
     "name": "stdout",
     "output_type": "stream",
     "text": [
      "15\n",
      "19.25\n",
      "-19.25\n",
      "16.5\n"
     ]
    }
   ],
   "source": [
    "#Çarpma\n",
    "result = 3 * 5\n",
    "print(result)\n",
    "\n",
    "result = 5.5 * 3.5\n",
    "print(result)\n",
    "\n",
    "result = 3.5 * (-5.5)\n",
    "print(result)\n",
    "\n",
    "result = 3 * 5.5\n",
    "print(result)"
   ]
  },
  {
   "cell_type": "code",
   "execution_count": 58,
   "metadata": {},
   "outputs": [
    {
     "name": "stdout",
     "output_type": "stream",
     "text": [
      "5.0\n",
      "4.285714285714286\n",
      "3.0\n",
      "-2.0\n"
     ]
    }
   ],
   "source": [
    "#Bölme\n",
    "result = 15 / 3\n",
    "print(result)\n",
    "\n",
    "result = 15 / 3.5\n",
    "print(result)\n",
    "\n",
    "result = 16.5 / 5.5\n",
    "print(result)\n",
    "\n",
    "result = 17 / (-8.5)\n",
    "print(result)"
   ]
  },
  {
   "cell_type": "code",
   "execution_count": 83,
   "metadata": {
    "scrolled": true
   },
   "outputs": [
    {
     "name": "stdout",
     "output_type": "stream",
     "text": [
      "32\n",
      "51.53632000000002\n",
      "36.75834735990512\n",
      "0.015625\n",
      "1024\n"
     ]
    }
   ],
   "source": [
    "#Üs alma\n",
    "\n",
    "result = 2 ** 5\n",
    "print(result)\n",
    "\n",
    "result = 2.2 ** 5\n",
    "print(result)\n",
    "\n",
    "result = 2 ** 5.2\n",
    "print(result)\n",
    "\n",
    "result = 2 ** (-6)\n",
    "print(result)\n",
    "\n",
    "result = (-2) ** 10\n",
    "print(result)"
   ]
  },
  {
   "cell_type": "code",
   "execution_count": 75,
   "metadata": {},
   "outputs": [
    {
     "name": "stdout",
     "output_type": "stream",
     "text": [
      "1\n",
      "3\n",
      "2.0\n",
      "3.0\n"
     ]
    }
   ],
   "source": [
    "#Kalansız Bölme\n",
    "\n",
    "result = 5 // 3\n",
    "print(result)\n",
    "\n",
    "result = 10 // 3\n",
    "print(result)\n",
    "\n",
    "result = 10.5 // 4\n",
    "print(result)\n",
    "\n",
    "result = 9 // 2.5\n",
    "print(result)"
   ]
  },
  {
   "cell_type": "code",
   "execution_count": 80,
   "metadata": {
    "scrolled": true
   },
   "outputs": [
    {
     "name": "stdout",
     "output_type": "stream",
     "text": [
      "2\n",
      "1\n",
      "2.5\n",
      "1.5\n"
     ]
    }
   ],
   "source": [
    "#Mod işlemi\n",
    "\n",
    "result = 5 % 3\n",
    "print(result)\n",
    "\n",
    "result = 10 % 3\n",
    "print(result)\n",
    "\n",
    "result = 10.5 % 4\n",
    "print(result)\n",
    "\n",
    "result = 9 % 2.5\n",
    "print(result)"
   ]
  },
  {
   "cell_type": "code",
   "execution_count": 85,
   "metadata": {},
   "outputs": [
    {
     "name": "stdout",
     "output_type": "stream",
     "text": [
      "88.8125\n"
     ]
    }
   ],
   "source": [
    "## İşlem önceliği (Precedence)\n",
    "# https://www.programiz.com/python-programming/precedence-associativity \n",
    "\n",
    "result = (3 + 5 * 2 ** -3) / 2 * 7 ** 2\n",
    "print(result)"
   ]
  },
  {
   "cell_type": "code",
   "execution_count": 94,
   "metadata": {},
   "outputs": [
    {
     "name": "stdout",
     "output_type": "stream",
     "text": [
      "17.6 17\n",
      "5 5.0\n",
      "1717 34\n"
     ]
    },
    {
     "ename": "ValueError",
     "evalue": "invalid literal for int() with base 10: '123a'",
     "output_type": "error",
     "traceback": [
      "\u001b[0;31m---------------------------------------------------------------------------\u001b[0m",
      "\u001b[0;31mValueError\u001b[0m                                Traceback (most recent call last)",
      "\u001b[0;32m<ipython-input-94-b0d36fd4fcdc>\u001b[0m in \u001b[0;36m<module>\u001b[0;34m\u001b[0m\n\u001b[1;32m     21\u001b[0m \u001b[0;34m\u001b[0m\u001b[0m\n\u001b[1;32m     22\u001b[0m \u001b[0mmy_str\u001b[0m \u001b[0;34m=\u001b[0m \u001b[0;34m\"123a\"\u001b[0m\u001b[0;34m\u001b[0m\u001b[0;34m\u001b[0m\u001b[0m\n\u001b[0;32m---> 23\u001b[0;31m \u001b[0mnum_int\u001b[0m \u001b[0;34m=\u001b[0m \u001b[0mint\u001b[0m\u001b[0;34m(\u001b[0m\u001b[0mmy_str\u001b[0m\u001b[0;34m)\u001b[0m\u001b[0;34m\u001b[0m\u001b[0;34m\u001b[0m\u001b[0m\n\u001b[0m\u001b[1;32m     24\u001b[0m \u001b[0mprint\u001b[0m\u001b[0;34m(\u001b[0m\u001b[0mmy_str\u001b[0m\u001b[0;34m*\u001b[0m\u001b[0;36m2\u001b[0m\u001b[0;34m,\u001b[0m \u001b[0mnum_int\u001b[0m\u001b[0;34m*\u001b[0m\u001b[0;36m2\u001b[0m\u001b[0;34m)\u001b[0m\u001b[0;34m\u001b[0m\u001b[0;34m\u001b[0m\u001b[0m\n",
      "\u001b[0;31mValueError\u001b[0m: invalid literal for int() with base 10: '123a'"
     ]
    }
   ],
   "source": [
    "#Type Conversion (Veri tipi değiştirme/çevirme)\n",
    "\n",
    "# Float -> integer\n",
    "\n",
    "num_float = 17.6\n",
    "num_int = int(num_float)\n",
    "print(num_float, num_int)\n",
    "\n",
    "# Integer -> float\n",
    "\n",
    "num_int = 5\n",
    "num_float = float(num_int)\n",
    "print(num_int, num_float)\n",
    "\n",
    "# String -> integer\n",
    "\n",
    "my_str = \"17\"\n",
    "num_int = int(my_str)\n",
    "\n",
    "print(my_str*2, num_int*2)\n",
    "\n",
    "#String bir integer içermiyorsa hata veriyor.\n",
    "#my_str = \"123a\"\n",
    "#num_int = int(my_str)\n",
    "#print(my_str*2, num_int*2)\n"
   ]
  }
 ],
 "metadata": {
  "kernelspec": {
   "display_name": "Python 3",
   "language": "python",
   "name": "python3"
  },
  "language_info": {
   "codemirror_mode": {
    "name": "ipython",
    "version": 3
   },
   "file_extension": ".py",
   "mimetype": "text/x-python",
   "name": "python",
   "nbconvert_exporter": "python",
   "pygments_lexer": "ipython3",
   "version": "3.9.0"
  }
 },
 "nbformat": 4,
 "nbformat_minor": 4
}

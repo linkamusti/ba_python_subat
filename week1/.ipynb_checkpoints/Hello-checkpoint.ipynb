{
 "cells": [
  {
   "cell_type": "markdown",
   "metadata": {},
   "source": [
    "#### Print komutu\n",
    "\n",
    "> print(__xxx__)\n",
    "\n",
    "şeklinde kullanılır. __xxx__ yerindeki değeri ekrana basar."
   ]
  },
  {
   "cell_type": "code",
   "execution_count": 11,
   "metadata": {},
   "outputs": [
    {
     "name": "stdout",
     "output_type": "stream",
     "text": [
      "Hello World\n"
     ]
    }
   ],
   "source": [
    "print(\"Hello World\")"
   ]
  },
  {
   "cell_type": "code",
   "execution_count": 13,
   "metadata": {},
   "outputs": [
    {
     "name": "stdout",
     "output_type": "stream",
     "text": [
      "54.2\n"
     ]
    }
   ],
   "source": [
    "print(54.2)"
   ]
  },
  {
   "cell_type": "markdown",
   "metadata": {},
   "source": [
    "#### Data Types\n",
    "\n",
    "* Number\n",
    "    * Integer (Tam Sayi) - int\n",
    "    * Float (Virgullu Sayi)- float\n",
    "    * Double (Virgullu Sayi) - double\n",
    "* Strings - (Birden fazla karakterin yanyana gelmesinden oluşan karakter dizileri) \n",
    "    * abc\n",
    "    * Mustafa\n",
    "    * a1b2c3\n",
    "    \n",
    "    * __Başına ve sonuna tırnak işareti koymamız gerekiyor__\n",
    "\n",
    "* Characters\n",
    "    *http://www.asciitable.com/\n",
    "    \n",
    "* Booleans\n",
    "    * True or False"
   ]
  },
  {
   "cell_type": "code",
   "execution_count": 14,
   "metadata": {},
   "outputs": [
    {
     "name": "stdout",
     "output_type": "stream",
     "text": [
      "İsim:  Mustafa Kemal Taş\n",
      "Yaş:  26\n",
      "Not Ortalaması:  3.7\n",
      "Evli mi:  False\n"
     ]
    }
   ],
   "source": [
    "age = 26 # integer \n",
    "first_name = \"Mustafa\" # string\n",
    "middle_name = \"Kemal\" # string\n",
    "last_name = \"Taş\" # string\n",
    "GPA = 3.7 # float\n",
    "is_married = False # boolean\n",
    "\n",
    "print(\"İsim: \", first_name, middle_name, last_name)\n",
    "print(\"Yaş: \", age)\n",
    "print(\"Not Ortalaması: \", GPA)\n",
    "print(\"Evli mi: \", is_married)"
   ]
  },
  {
   "cell_type": "markdown",
   "metadata": {},
   "source": [
    "##### Type komutu\n",
    "\n",
    ">type(__xxx__) \n",
    "\n",
    "şeklinde kullanılır. __xxx__ değişkeninin veri tipini gösterir."
   ]
  },
  {
   "cell_type": "code",
   "execution_count": 16,
   "metadata": {},
   "outputs": [
    {
     "data": {
      "text/plain": [
       "float"
      ]
     },
     "execution_count": 16,
     "metadata": {},
     "output_type": "execute_result"
    }
   ],
   "source": [
    "type(GPA)"
   ]
  },
  {
   "cell_type": "markdown",
   "metadata": {},
   "source": [
    "#### Arithmetic Operations\n",
    "\n",
    "* Addition (Toplama): +\n",
    "* Subtraction (Çıkarma): - \n",
    "* Multiplication (Çarpma): *\n",
    "* Division (Bölme): /\n",
    "\n",
    "* Exponential (Üs alma): **\n",
    "* Floor Division (Kalansız bölme): //\n",
    "* Modulo (Bölümden kalan): %\n",
    "\n",
    "\n",
    "\n",
    "__Notlar__: \n",
    "* İki float arasındaki işlemin sonucu her zaman float olur. \n",
    "* İşlemde bir tane float olsa bile sonuç float olur.\n",
    "* Bölme işlemi sonucu her türlü float olur."
   ]
  },
  {
   "cell_type": "code",
   "execution_count": 15,
   "metadata": {
    "scrolled": true
   },
   "outputs": [
    {
     "name": "stdout",
     "output_type": "stream",
     "text": [
      "8\n",
      "9.0\n",
      "-2.0\n",
      "8.5\n"
     ]
    }
   ],
   "source": [
    "## Toplama\n",
    "result = 3 + 5\n",
    "print(result)\n",
    "\n",
    "result = 3.5 + 5.5\n",
    "print(result)\n",
    "\n",
    "result = 3.5 + (-5.5)\n",
    "print(result)\n",
    "\n",
    "result = 3 + 5.5\n",
    "print(result)"
   ]
  },
  {
   "cell_type": "code",
   "execution_count": 17,
   "metadata": {},
   "outputs": [
    {
     "name": "stdout",
     "output_type": "stream",
     "text": [
      "2\n",
      "2.0\n",
      "-2.0\n",
      "2.0\n"
     ]
    }
   ],
   "source": [
    "## Çıkarma\n",
    "result = 5 - 3\n",
    "print(result)\n",
    "\n",
    "result = 5.5 - 3.5 \n",
    "print(result)\n",
    "\n",
    "result = 3.5 - 5.5\n",
    "print(result)\n",
    "\n",
    "result = 5.0 - 3\n",
    "print(result)"
   ]
  },
  {
   "cell_type": "code",
   "execution_count": 18,
   "metadata": {},
   "outputs": [
    {
     "name": "stdout",
     "output_type": "stream",
     "text": [
      "15\n",
      "19.25\n",
      "-19.25\n",
      "16.5\n"
     ]
    }
   ],
   "source": [
    "#Çarpma\n",
    "result = 3 * 5\n",
    "print(result)\n",
    "\n",
    "result = 5.5 * 3.5\n",
    "print(result)\n",
    "\n",
    "result = 3.5 * (-5.5)\n",
    "print(result)\n",
    "\n",
    "result = 3 * 5.5\n",
    "print(result)"
   ]
  },
  {
   "cell_type": "code",
   "execution_count": 19,
   "metadata": {},
   "outputs": [
    {
     "name": "stdout",
     "output_type": "stream",
     "text": [
      "5.0\n",
      "4.285714285714286\n",
      "3.0\n",
      "-2.0\n"
     ]
    }
   ],
   "source": [
    "#Bölme\n",
    "result = 15 / 3\n",
    "print(result)\n",
    "\n",
    "result = 15 / 3.5\n",
    "print(result)\n",
    "\n",
    "result = 16.5 / 5.5\n",
    "print(result)\n",
    "\n",
    "result = 17 / (-8.5)\n",
    "print(result)"
   ]
  },
  {
   "cell_type": "code",
   "execution_count": 20,
   "metadata": {
    "scrolled": true
   },
   "outputs": [
    {
     "name": "stdout",
     "output_type": "stream",
     "text": [
      "32\n",
      "51.53632000000002\n",
      "36.75834735990512\n",
      "0.015625\n",
      "1024\n"
     ]
    }
   ],
   "source": [
    "#Üs alma\n",
    "\n",
    "result = 2 ** 5\n",
    "print(result)\n",
    "\n",
    "result = 2.2 ** 5\n",
    "print(result)\n",
    "\n",
    "result = 2 ** 5.2\n",
    "print(result)\n",
    "\n",
    "result = 2 ** (-6)\n",
    "print(result)\n",
    "\n",
    "result = (-2) ** 10\n",
    "print(result)"
   ]
  },
  {
   "cell_type": "code",
   "execution_count": 21,
   "metadata": {},
   "outputs": [
    {
     "name": "stdout",
     "output_type": "stream",
     "text": [
      "1\n",
      "3\n",
      "2.0\n",
      "3.0\n"
     ]
    }
   ],
   "source": [
    "#Kalansız Bölme\n",
    "\n",
    "result = 5 // 3\n",
    "print(result)\n",
    "\n",
    "result = 10 // 3\n",
    "print(result)\n",
    "\n",
    "result = 10.5 // 4\n",
    "print(result)\n",
    "\n",
    "result = 9 // 2.5\n",
    "print(result)"
   ]
  },
  {
   "cell_type": "code",
   "execution_count": 80,
   "metadata": {
    "scrolled": true
   },
   "outputs": [
    {
     "name": "stdout",
     "output_type": "stream",
     "text": [
      "2\n",
      "1\n",
      "2.5\n",
      "1.5\n"
     ]
    }
   ],
   "source": [
    "#Mod işlemi\n",
    "\n",
    "result = 5 % 3\n",
    "print(result)\n",
    "\n",
    "result = 10 % 3\n",
    "print(result)\n",
    "\n",
    "result = 10.5 % 4\n",
    "print(result)\n",
    "\n",
    "result = 9 % 2.5\n",
    "print(result)"
   ]
  },
  {
   "cell_type": "code",
   "execution_count": 22,
   "metadata": {},
   "outputs": [
    {
     "name": "stdout",
     "output_type": "stream",
     "text": [
      "88.8125\n"
     ]
    }
   ],
   "source": [
    "## İşlem önceliği (Precedence)\n",
    "# https://www.programiz.com/python-programming/precedence-associativity \n",
    "\n",
    "result = (3 + 5 * 2 ** -3) / 2 * 7 ** 2\n",
    "print(result)"
   ]
  },
  {
   "cell_type": "code",
   "execution_count": 23,
   "metadata": {},
   "outputs": [
    {
     "name": "stdout",
     "output_type": "stream",
     "text": [
      "17.6 17\n",
      "5 5.0\n",
      "1717 34\n",
      "17.617.6 35.2\n",
      "1717 34.0\n"
     ]
    }
   ],
   "source": [
    "#Type Conversion (Veri tipi değiştirme/çevirme)\n",
    "\n",
    "# Float -> integer\n",
    "\n",
    "num_float = 17.6\n",
    "num_int = int(num_float)\n",
    "print(num_float, num_int)\n",
    "\n",
    "# Integer -> float\n",
    "\n",
    "num_int = 5\n",
    "num_float = float(num_int)\n",
    "print(num_int, num_float)\n",
    "\n",
    "# String -> integer\n",
    "\n",
    "my_str = \"17\"\n",
    "num_int = int(my_str)\n",
    "\n",
    "print(my_str*2, num_int*2)\n",
    "\n",
    "#String bir integer içermiyorsa hata veriyor.\n",
    "#my_str = \"123a\"\n",
    "#num_int = int(my_str)\n",
    "#print(my_str*2, num_int*2)\n",
    "\n",
    "# String -> float\n",
    "\n",
    "my_str = \"17.6\"\n",
    "num_float = float(my_str)\n",
    "print(my_str*2, num_float*2)\n",
    "\n",
    "my_str = \"17\"\n",
    "num_float = float(my_str)\n",
    "print(my_str*2, num_float*2)\n"
   ]
  },
  {
   "cell_type": "markdown",
   "metadata": {},
   "source": [
    "#### Input komutu\n",
    "\n",
    "Kullanıcıdan bir string almak için kullanılır.\n",
    "\n",
    "> __xx__ = input(__yy__)\n",
    "\n",
    "__yy__ sorusunu sorarak, __xx__ stringini kullanıcıdan alır.\n",
    "\n",
    "__Notlar__:\n",
    "* input komutunun sonucu _her zaman_ string olur.\n",
    "\n"
   ]
  },
  {
   "cell_type": "code",
   "execution_count": 24,
   "metadata": {
    "scrolled": true
   },
   "outputs": [
    {
     "name": "stdout",
     "output_type": "stream",
     "text": [
      "İsmini gir: Mustafa Kemal Taş\n",
      "Yaşını gir: 26\n",
      "Kilonu gir: 82.5\n",
      "Kullanıcının girdiği isim değeri:  Mustafa Kemal Taş\n",
      "Kullanıcının girdiği yaş değeri:  26\n",
      "Kullanıcının girdiği kilo değeri:  82.5\n",
      "İki sene sonra kullanıcının yaşı:  28\n",
      "5 kilo verdikten sonra kullanıcının kilosu:  77.5\n"
     ]
    }
   ],
   "source": [
    "name = input(\"İsmini gir: \")\n",
    "age = int(input(\"Yaşını gir: \"))\n",
    "weight = float(input(\"Kilonu gir: \"))\n",
    "\n",
    "print(\"Kullanıcının girdiği isim değeri: \", name)\n",
    "print(\"Kullanıcının girdiği yaş değeri: \", age)\n",
    "print(\"Kullanıcının girdiği kilo değeri: \", weight)\n",
    "print(\"İki sene sonra kullanıcının yaşı: \", age + 2)\n",
    "print(\"5 kilo verdikten sonra kullanıcının kilosu: \", weight - 5)\n"
   ]
  },
  {
   "cell_type": "code",
   "execution_count": 9,
   "metadata": {},
   "outputs": [
    {
     "name": "stdout",
     "output_type": "stream",
     "text": [
      "İsminizi girin: Mustafa Kemal\n",
      "Soyisminizi girin: Taş\n",
      "Maaşınızı girin: 1000\n",
      "Vergi diliminizi girin: 22.5\n",
      "Mustafa Kemal Taş , net maaşın  775.0  lira.\n"
     ]
    }
   ],
   "source": [
    "# Egzersiz 1\n",
    "\n",
    "# Kullanıcıdan isim soy isim alın\n",
    "# Kullanıcıya maaşını sorun\n",
    "# Kullanıcıya gelir vergisinin yüzde kaç olduğunu sorun \n",
    "# Kullancının net maaşını hesaplayıp ekrana ismiyle birlikte basın.\n",
    "# Net maaş = Brüt maaş - (Brüt maaş * (vergi / 100))\n",
    "\n",
    "# Örnek: Mustafa Kemal Taş, net maaşın 10 lira\n",
    "\n",
    "\n",
    "name = input(\"İsminizi girin: \")\n",
    "last_name = input(\"Soyisminizi girin: \")\n",
    "salary = int(input(\"Maaşınızı girin: \"))\n",
    "tax = float(input(\"Vergi diliminizi girin: \"))\n",
    "\n",
    "#net_salary = salary - (salary * (tax / 100))\n",
    "\n",
    "tax_amount = salary * (tax / 100) ## Vergiye verdiğimiz miktar\n",
    "net_salary = salary - tax_amount ## Ana maaştan verginin çıkartılmış hali\n",
    "\n",
    "print(name, last_name, \", net maaşın \", net_salary, \" lira.\")\n"
   ]
  },
  {
   "cell_type": "code",
   "execution_count": 10,
   "metadata": {},
   "outputs": [
    {
     "name": "stdout",
     "output_type": "stream",
     "text": [
      "İsim soyisim girin: Mustafa Kemal Taş\n",
      "Birinci vizeden aldığın not: 92\n",
      "İkinci vizeden aldığın not: 90\n",
      "Finalden aldığın not: 82\n",
      "Ödev ortalaman: 70\n",
      "Mustafa Kemal Taş  isimli öğrencinin not ortalaması:  84.7\n"
     ]
    }
   ],
   "source": [
    "# Egzersiz 2\n",
    "# Öğrencinin adını soyadını alın\n",
    "# Öğrencinin birinci vizeden aldığı notu sorun\n",
    "# Öğrencinin ikinci vizeden aldığı notu sorun\n",
    "# Öğrencinin finalden aldığı notu sorun\n",
    "# Öğrencinin ödev ortalamasını sorun\n",
    "\n",
    "# Bütün bu bilgileri kullanarak, not ortalamasını hesaplayın\n",
    "# Hesap için:\n",
    "# Vize 1: %25 \n",
    "# Vize 2: %25\n",
    "# Final: %35 \n",
    "# Ödevler: %15\n",
    "\n",
    "# --- isimli öğrencinin not ortalaması ---.\n",
    "\n",
    "name = input(\"İsim soyisim girin: \")\n",
    "vize1 = int(input(\"Birinci vizeden aldığın not: \"))\n",
    "vize2 = int(input(\"İkinci vizeden aldığın not: \"))\n",
    "final = int(input(\"Finalden aldığın not: \"))\n",
    "odev = int(input(\"Ödev ortalaman: \"))\n",
    "\n",
    "#not_ortalaması = vize1 * 0.25 + vize2 * 0.25 + final * 0.35 + odev * 0.15\n",
    "\n",
    "vize1_orani = vize1 * 0.25\n",
    "vize2_orani = vize2 * 0.25\n",
    "final_orani = final * 0.35\n",
    "odev_orani  = odev  * 0.15\n",
    "\n",
    "not_ortalamasi = vize1_orani + vize2_orani + final_orani + odev_orani\n",
    "\n",
    "print(name, \" isimli öğrencinin not ortalaması: \", not_ortalamasi)\n",
    "\n"
   ]
  }
 ],
 "metadata": {
  "kernelspec": {
   "display_name": "Python 3",
   "language": "python",
   "name": "python3"
  },
  "language_info": {
   "codemirror_mode": {
    "name": "ipython",
    "version": 3
   },
   "file_extension": ".py",
   "mimetype": "text/x-python",
   "name": "python",
   "nbconvert_exporter": "python",
   "pygments_lexer": "ipython3",
   "version": "3.9.0"
  }
 },
 "nbformat": 4,
 "nbformat_minor": 4
}

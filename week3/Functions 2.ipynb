{
 "cells": [
  {
   "cell_type": "code",
   "execution_count": 2,
   "metadata": {},
   "outputs": [
    {
     "name": "stdout",
     "output_type": "stream",
     "text": [
      "Hoşgeldin Mustafa\n"
     ]
    }
   ],
   "source": [
    "def fonksiyonIsmi(isim):\n",
    "    print(\"Hoşgeldin\", isim)\n",
    "    \n",
    "    \n",
    "fonksiyonIsmi(\"Mustafa\")"
   ]
  },
  {
   "cell_type": "code",
   "execution_count": 15,
   "metadata": {},
   "outputs": [
    {
     "name": "stdout",
     "output_type": "stream",
     "text": [
      "50\n",
      "0\n",
      "--------------------\n",
      "15\n",
      "40\n",
      "2\n"
     ]
    }
   ],
   "source": [
    "# Default(varsayılan) parametreli fonksiyon\n",
    "\n",
    "def ikiKatiniEkranaBas(a=0):\n",
    "    print(a*2)\n",
    "    \n",
    "ikiKatiniEkranaBas(25)\n",
    "ikiKatiniEkranaBas()\n",
    "\n",
    "print(\"-\"*20)\n",
    "def ikiSayininCarpiminiEkranaBas(a = 1, b = 2):\n",
    "    print(a*b)\n",
    "    \n",
    "ikiSayininCarpiminiEkranaBas(3,5)\n",
    "ikiSayininCarpiminiEkranaBas(20)\n",
    "ikiSayininCarpiminiEkranaBas()"
   ]
  },
  {
   "cell_type": "markdown",
   "metadata": {},
   "source": [
    "## Pass by Value vs Pass by Reference\n",
    "\n",
    "#### by Value\n",
    "\n",
    "* int\n",
    "* float\n",
    "* bool\n",
    "* Object\n",
    "* string\n",
    "* character\n",
    "\n",
    "Eğer bu şekilde gönderilen bir parametre varsa, bunların fonksiyondaki değişimi, gönderilen değişkeni etkilemiyor.\n",
    "\n",
    "#### by Reference\n",
    "\n",
    "* list\n",
    "* dictionary\n",
    "* set\n",
    "\n",
    "Eğer bu şekilde gönderilen bir paramtre varsa, bunların fonksiyondaki değişimi, gönderilen değişkeni de etkiler."
   ]
  },
  {
   "cell_type": "code",
   "execution_count": 17,
   "metadata": {},
   "outputs": [
    {
     "name": "stdout",
     "output_type": "stream",
     "text": [
      "23\n",
      "10\n"
     ]
    }
   ],
   "source": [
    "# by value\n",
    "\n",
    "def ikiKatininUcFazlasi(a):\n",
    "    a = a * 2 + 3\n",
    "    return a\n",
    "\n",
    "# main\n",
    "x = 10\n",
    "sonuc = ikiKatininUcFazlasi(x)\n",
    "print(sonuc)\n",
    "print(x)"
   ]
  },
  {
   "cell_type": "code",
   "execution_count": 21,
   "metadata": {},
   "outputs": [
    {
     "name": "stdout",
     "output_type": "stream",
     "text": [
      "[2, 2, 3, 4, 5]\n",
      "[2, 2, 3, 4, 5]\n",
      "[2, 2, 3, 4, 5]\n",
      "[1, 2, 3, 4, 5]\n"
     ]
    }
   ],
   "source": [
    "# by reference\n",
    "\n",
    "def listeninIlkElemaniniIkiyileCarp(liste):\n",
    "    liste[0] = liste[0] * 2\n",
    "    return liste\n",
    "\n",
    "\n",
    "#main\n",
    "baslangicListesi = [1,2,3,4,5]\n",
    "shallowCopiedListe = baslangicListesi # shallow copy\n",
    "deepCopiedListe = baslangicListesi.copy() # deep copy\n",
    "\n",
    "fonksiyondanDonenListe = listeninIlkElemaniniIkiyileCarp(baslangicListesi)\n",
    "\n",
    "print(fonksiyondanDonenListe)\n",
    "print(baslangicListesi)\n",
    "print(shallowCopiedListe)\n",
    "print(deepCopiedListe)"
   ]
  },
  {
   "cell_type": "code",
   "execution_count": 27,
   "metadata": {},
   "outputs": [
    {
     "name": "stdout",
     "output_type": "stream",
     "text": [
      "[2, 3, 4]\n",
      "[1, 2, 3, 4, 5]\n",
      "[1, 2, 3, 4, 5]\n",
      "[1, 2, 3, 4, 5]\n"
     ]
    }
   ],
   "source": [
    "def listeyiDegistir(liste):\n",
    "        liste = [2,3,4]\n",
    "        return liste\n",
    "        \n",
    "baslangicListesi = [1,2,3,4,5]\n",
    "shallowCopiedListe = baslangicListesi # shallow copy\n",
    "deepCopiedListe = baslangicListesi.copy() # deep copy\n",
    "\n",
    "fonksiyondanDonenListe = listeyiDegistir(baslangicListesi)\n",
    "\n",
    "print(fonksiyondanDonenListe)\n",
    "print(baslangicListesi)\n",
    "print(shallowCopiedListe)\n",
    "print(deepCopiedListe)"
   ]
  },
  {
   "cell_type": "markdown",
   "metadata": {},
   "source": [
    "## Çoklu parametre yollama\n",
    "\n",
    "**def** fonksiyonIsmi(**\\***params):\n",
    "   * Statement1\n",
    "   * Statement2"
   ]
  },
  {
   "cell_type": "code",
   "execution_count": 42,
   "metadata": {},
   "outputs": [
    {
     "name": "stdout",
     "output_type": "stream",
     "text": [
      "45\n",
      "6\n",
      "45\n"
     ]
    }
   ],
   "source": [
    "def sayilariTopla(a,b,c):\n",
    "    toplam = a + b + c\n",
    "    return toplam\n",
    "\n",
    "\n",
    "def sayilariToplaCokluParametre(*sayilar):\n",
    "    toplam = 0\n",
    "    for sayi in sayilar:\n",
    "        toplam += sayi\n",
    "    return toplam\n",
    "\n",
    "toplam1 = sayilariTopla(1,2,3)\n",
    "toplam2 = sayilariToplaCokluParametre(1,2,3,4,5,6,7,8,9)\n",
    "print(toplam1)\n",
    "print(toplam2)"
   ]
  },
  {
   "cell_type": "markdown",
   "metadata": {},
   "source": [
    "## İsimli parametreler\n",
    "\n",
    "**def** fonksiyon(a,b,c,d):\n",
    "   * Statement1\n",
    "   * Statement2\n",
    "   * ...\n",
    "   \n",
    "**fonksiyon(2,3,4,5)**\n",
    "   * a = 2\n",
    "   * b = 3\n",
    "   * c = 4\n",
    "   * d = 5\n",
    "   \n",
    "   \n",
    "**fonksiyon(d = 2, b = 3, c = 4, a = 5)**\n",
    "   * a = 5\n",
    "   * b = 3\n",
    "   * c = 4\n",
    "   * d = 2"
   ]
  },
  {
   "cell_type": "code",
   "execution_count": 44,
   "metadata": {},
   "outputs": [
    {
     "name": "stdout",
     "output_type": "stream",
     "text": [
      "10 5.0 20\n",
      "8 8.0 10\n"
     ]
    }
   ],
   "source": [
    "def fonksiyon(a,b,c):\n",
    "    a *= 2\n",
    "    b /= 2\n",
    "    c += 5\n",
    "    print(a,b,c)\n",
    "    \n",
    "fonksiyon(5,10,15)\n",
    "fonksiyon(c = 5, a = 4, b = 16)\n"
   ]
  },
  {
   "cell_type": "markdown",
   "metadata": {},
   "source": [
    "## Çoklu, isimli parametreler\n",
    "\n",
    "**def** fonksiyon(\\*\\*isimli_parametreler):\n",
    "   * Statement1\n",
    "   * Statement2\n",
    "   * ..."
   ]
  },
  {
   "cell_type": "code",
   "execution_count": 45,
   "metadata": {},
   "outputs": [
    {
     "name": "stdout",
     "output_type": "stream",
     "text": [
      "{'a': 5, 'b': 10, 'c': 20}\n"
     ]
    }
   ],
   "source": [
    "def fonksiyon(**kwargs): # keyword arguements\n",
    "    print(kwargs) # dictionary\n",
    "    \n",
    "fonksiyon(a = 5, b = 10, c = 20)"
   ]
  },
  {
   "cell_type": "code",
   "execution_count": 55,
   "metadata": {},
   "outputs": [
    {
     "name": "stdout",
     "output_type": "stream",
     "text": [
      "args:  ()\n",
      "kwargs:  {}\n",
      "--------------------\n",
      "args:  (1, 2, 'Mustafa')\n",
      "kwargs:  {}\n",
      "--------------------\n",
      "args:  ()\n",
      "kwargs:  {'a': 1, 'b': 2, 'c': 3}\n",
      "--------------------\n",
      "args:  (1, 2)\n",
      "kwargs:  {'a': 3, 'b': 2}\n",
      "--------------------\n"
     ]
    }
   ],
   "source": [
    "def fonksiyon(*args, **kwargs): # Arguements, keyword arguements\n",
    "    print(\"args: \", args)\n",
    "    print(\"kwargs: \", kwargs)\n",
    "    print(\"-\"*20)\n",
    "    \n",
    "fonksiyon()\n",
    "fonksiyon(1,2, \"Mustafa\")\n",
    "fonksiyon(a = 1, b = 2, c = 3)\n",
    "fonksiyon(1, 2, a = 3, b = 2)"
   ]
  },
  {
   "cell_type": "code",
   "execution_count": 63,
   "metadata": {},
   "outputs": [
    {
     "name": "stdout",
     "output_type": "stream",
     "text": [
      "10\n",
      "20\n",
      "30\n",
      "40\n",
      "(50, 60, 70)\n",
      "{'key1': 'value1', 'key2': 'value2'}\n"
     ]
    }
   ],
   "source": [
    "def myFunc(a, b, c, d, *args, **kwargs):\n",
    "    print(a)\n",
    "    print(b)\n",
    "    print(c)\n",
    "    print(d)\n",
    "    print(args)\n",
    "    print(kwargs)\n",
    "    \n",
    "myFunc(10,20,30,40,50,60,70, key1 = \"value1\", key2 = \"value2\")"
   ]
  },
  {
   "cell_type": "code",
   "execution_count": 64,
   "metadata": {},
   "outputs": [
    {
     "name": "stdout",
     "output_type": "stream",
     "text": [
      "İsminizi girin: Mustafa\n",
      "Doğum yılınızı girin: 1994\n",
      "Mustafa, emekliliğinize 38 yıl kaldı.\n",
      "İsminizi girin: Süleyman\n",
      "Doğum yılınızı girin: 1984\n",
      "Süleyman, emekliliğinize 28 yıl kaldı.\n",
      "İsminizi girin: Fadime\n",
      "Doğum yılınızı girin: 1947\n",
      "Fadime, zaten emeklisiniz.\n",
      "İsminizi girin: Rıdvan\n",
      "Doğum yılınızı girin: 1956\n",
      "Rıdvan, zaten emeklisiniz.\n",
      "İsminizi girin: Fatma\n",
      "Doğum yılınızı girin: 1975\n",
      "Fatma, emekliliğinize 19 yıl kaldı.\n"
     ]
    }
   ],
   "source": [
    "## İsim ve doğum yılı alıp, emekliliğe kaç yıl kaldığını ekrana basan bir fonksiyon yazın\n",
    "## Emeklilik yaşı 65.\n",
    "## Eğer kullanıcı 65 yaşından büyükse ekrana \"Zaten emeklisiniz yazın\"\n",
    "\n",
    "\n",
    "## Kullanıcıdan 5 kere isim ve doğum yılı alın, her biri için fonksiyonu kullanın.\n",
    "\n",
    "def yasHesapla(dogumYili):\n",
    "    return 2021-dogumYili\n",
    "\n",
    "def emekliligeKacYilKaldi(isim, dogumYili):\n",
    "    yas = yasHesapla(dogumYili)\n",
    "    emeklilik = 65 - yas\n",
    "    \n",
    "    if emeklilik > 0:\n",
    "        print(\"{}, emekliliğinize {} yıl kaldı.\".format(isim, emeklilik))\n",
    "    else:\n",
    "        print(\"{}, zaten emeklisiniz.\".format(isim))\n",
    "        \n",
    "\n",
    "for _ in range(5):\n",
    "    isim = input(\"İsminizi girin: \")\n",
    "    dogumYili = int(input(\"Doğum yılınızı girin: \"))\n",
    "    emekliligeKacYilKaldi(isim, dogumYili)"
   ]
  },
  {
   "cell_type": "markdown",
   "metadata": {},
   "source": [
    "## Scope (Kapsam)\n",
    "\n",
    "\n",
    "* Aynı isimli birden fazla değişken varsa, öncelikli olan her zaman, kodun çalıştığı blokla aynı blokta tanımlı olandır.\n",
    "\n",
    "* Aynı blokta tanımlı bir değişken yoksa, bir üstteki blokta arayarak devam edilir"
   ]
  },
  {
   "cell_type": "code",
   "execution_count": 74,
   "metadata": {},
   "outputs": [
    {
     "name": "stdout",
     "output_type": "stream",
     "text": [
      "15\n",
      "20\n",
      "15\n"
     ]
    }
   ],
   "source": [
    "\n",
    "def fonksiyon(a, b):\n",
    "    x = 20\n",
    "    if a + b < 20:\n",
    "        print(x)\n",
    "    else:\n",
    "        print(a)\n",
    "\n",
    "x = 15\n",
    "print(x)\n",
    "fonksiyon(10,7)"
   ]
  },
  {
   "cell_type": "code",
   "execution_count": 83,
   "metadata": {},
   "outputs": [
    {
     "name": "stdout",
     "output_type": "stream",
     "text": [
      "50\n",
      "100\n",
      "100\n"
     ]
    }
   ],
   "source": [
    "a = 50\n",
    "\n",
    "def test():\n",
    "    global a\n",
    "    print(a)\n",
    "    a = 100\n",
    "    print(a)\n",
    "    \n",
    "test()\n",
    "print(a)"
   ]
  },
  {
   "cell_type": "code",
   "execution_count": 91,
   "metadata": {},
   "outputs": [
    {
     "name": "stdout",
     "output_type": "stream",
     "text": [
      "Başlangıç noktasını girin: -30\n",
      "Bitiş noktasını girin: 50\n",
      "2\n",
      "3\n",
      "5\n",
      "7\n",
      "11\n",
      "13\n",
      "17\n",
      "19\n",
      "23\n",
      "29\n",
      "31\n",
      "37\n",
      "41\n",
      "43\n",
      "47\n"
     ]
    }
   ],
   "source": [
    "# Bir sayının asal olup olmadığını (True/False) return eden bir fonksiyon yazın\n",
    "\n",
    "# İki sayı alıp (parametre), bu iki sayı arasındaki tüm asal sayıları ekrana basan bir fonksiyon yazın\n",
    "\n",
    "# Kullanıcıdan iki sayı alıp, bu fonksiyon yardımıyla bu iki sayı arasındaki tüm asal sayıları ekrana basın.\n",
    "\n",
    "\n",
    "def asal(sayi):\n",
    "    if sayi < 1:\n",
    "        return False\n",
    "    elif sayi == 1:\n",
    "        return False\n",
    "    else:\n",
    "        for i in range(2, sayi):\n",
    "            if sayi % i == 0:\n",
    "                return False\n",
    "        return True\n",
    "\n",
    "def tumAsalSayilar(baslangic, bitis):\n",
    "    for sayi in range(baslangic, bitis):\n",
    "        if asal(sayi):\n",
    "            print(sayi)\n",
    "\n",
    "            \n",
    "baslangic = int(input(\"Başlangıç noktasını girin: \"))\n",
    "bitis = int(input(\"Bitiş noktasını girin: \"))\n",
    "\n",
    "tumAsalSayilar(baslangic, bitis)"
   ]
  },
  {
   "cell_type": "code",
   "execution_count": 97,
   "metadata": {},
   "outputs": [
    {
     "name": "stdout",
     "output_type": "stream",
     "text": [
      "Bir sayı girin: 150\n",
      "[2, 3, 5, 6, 10, 15, 25, 30, 50, 75, 150]\n"
     ]
    }
   ],
   "source": [
    "# Bir sayı alıp, bu sayının pozitif tam bölenlerinin listesini return eden bir fonksiyon yazın.\n",
    "# Kullanıcıdan bir sayı alıp, bu fonksiyonu kullanarak tam bölenlerinin listesini ekrana yazın.\n",
    "\n",
    "def tamBolenler(sayi):\n",
    "    liste = []\n",
    "    for i in range(2,sayi):\n",
    "        if sayi % i == 0:\n",
    "            liste.append(i)\n",
    "    return liste\n",
    "\n",
    "sayi = int(input(\"Bir sayı girin: \"))\n",
    "tamBolenlerListesi = tamBolenler(sayi)\n",
    "print(tamBolenlerListesi)\n",
    "\n"
   ]
  },
  {
   "cell_type": "code",
   "execution_count": null,
   "metadata": {},
   "outputs": [],
   "source": [
    "## Kullanıcıdan bir sayı alıp, bu sayının ASAL ÇARPANLARINI ekrana basın\n",
    "# Örn: 24 -> 2 * 2 * 2 * 3"
   ]
  },
  {
   "cell_type": "markdown",
   "metadata": {},
   "source": [
    "## Lambda Functions\n",
    "\n",
    "* Hızlıca, kısa fonksiyonlar tanımlamamıza yarıyor\n",
    "\n",
    "> fonksiyon_ismi = **lambda**  PARAM(x) : RETURN_EDECEGI_DEGER"
   ]
  },
  {
   "cell_type": "code",
   "execution_count": 98,
   "metadata": {},
   "outputs": [
    {
     "name": "stdout",
     "output_type": "stream",
     "text": [
      "25\n",
      "25\n"
     ]
    }
   ],
   "source": [
    "def ikiKatiniAl(x):\n",
    "    return 2*x\n",
    "\n",
    "def karesiniAl(x):\n",
    "    return x**2\n",
    "\n",
    "\n",
    "lambdaKaresiniAl = lambda x: x**2\n",
    "\n",
    "print(karesiniAl(5))\n",
    "print(lambdaKaresiniAl(5))"
   ]
  },
  {
   "cell_type": "markdown",
   "metadata": {},
   "source": [
    "### Filter\n",
    "\n",
    "* Listeler üzerinde, sadece istediğimiz elemanları filtreleyen bir fonksiyon\n",
    "\n",
    "**filter**(filtre_fonksiyonu, liste)"
   ]
  },
  {
   "cell_type": "code",
   "execution_count": 101,
   "metadata": {},
   "outputs": [
    {
     "name": "stdout",
     "output_type": "stream",
     "text": [
      "[2, 4, 6, 8, 10]\n"
     ]
    }
   ],
   "source": [
    "# liste içindeki çift sayıları filtreleyen kod\n",
    "liste = [1,2,3,4,5,6,7,8,9,10]\n",
    "\n",
    "def cift(sayi):\n",
    "    if sayi % 2 == 0:\n",
    "        return True\n",
    "    else:\n",
    "        return False\n",
    "    \n",
    "ciftler = filter(cift, liste)\n",
    "print(list(ciftler))"
   ]
  },
  {
   "cell_type": "code",
   "execution_count": 102,
   "metadata": {},
   "outputs": [
    {
     "name": "stdout",
     "output_type": "stream",
     "text": [
      "[2, 4, 6, 8, 10]\n"
     ]
    }
   ],
   "source": [
    "liste = [1,2,3,4,5,6,7,8,9,10]\n",
    "\n",
    "\n",
    "ciftler = filter(lambda x : x % 2 == 0,liste)\n",
    "print(list(ciftler))"
   ]
  },
  {
   "cell_type": "markdown",
   "metadata": {},
   "source": [
    "### Map\n",
    "\n",
    "* Listenin her bir elemanına, vermiş olduğumuz fonksiyonu uygulayan bir fonksiyon\n",
    "\n",
    "**map**(map_fonksiyonu, liste)"
   ]
  },
  {
   "cell_type": "code",
   "execution_count": 103,
   "metadata": {},
   "outputs": [
    {
     "name": "stdout",
     "output_type": "stream",
     "text": [
      "[1, 4, 9, 16, 25, 36, 49, 64, 81, 100]\n"
     ]
    }
   ],
   "source": [
    "liste = [1,2,3,4,5,6,7,8,9,10]\n",
    "\n",
    "def karesi(sayi):\n",
    "    return sayi ** 2\n",
    "\n",
    "kareler = map(karesi, liste)\n",
    "print(list(kareler))"
   ]
  },
  {
   "cell_type": "code",
   "execution_count": 104,
   "metadata": {},
   "outputs": [
    {
     "name": "stdout",
     "output_type": "stream",
     "text": [
      "[1, 4, 9, 16, 25, 36, 49, 64, 81, 100]\n"
     ]
    }
   ],
   "source": [
    "liste = [1,2,3,4,5,6,7,8,9,10]\n",
    "\n",
    "kareler = map(lambda x : x**2, liste)\n",
    "print(list(kareler))"
   ]
  },
  {
   "cell_type": "code",
   "execution_count": 110,
   "metadata": {},
   "outputs": [
    {
     "name": "stdout",
     "output_type": "stream",
     "text": [
      "Hesap no giriniz: 456\n",
      "Sayın Metin Oğuzhan, hesap bakiyeniz 3000 TL, ek hesap bakiyeniz 2000 TL\n",
      "Çekmek istediğiniz tutarı girin: 7000\n",
      "Merhaba  Metin Oğuzhan\n",
      "Bakiyeniz yetersiz.\n"
     ]
    }
   ],
   "source": [
    "# Örn - Bankamatik Uygulaması\n",
    "\n",
    "mustafaHesap = {\n",
    "    'ad': 'Mustafa Kemal Taş',\n",
    "    'hesapNo': '123',\n",
    "    'bakiye': 3000,\n",
    "    'ekHesap': 2000\n",
    "}\n",
    "\n",
    "metinHesap = {\n",
    "    'ad': 'Metin Oğuzhan',\n",
    "    'hesapNo': '456',\n",
    "    'bakiye': 3000,\n",
    "    'ekHesap': 2000\n",
    "}\n",
    "\n",
    "\n",
    "## İki fonksiyon yazmanızı istiyorum\n",
    "# Birincisi : hesap bakiyesi sorgulama:\n",
    "# hesap objesi (dictionary) verildiğinde, ana bakiyeyi ve ek hesap bakiyesini ekrana bassın\n",
    "# İkincisi: para çekme:\n",
    "# hesap objesi (dictionary) ve çekilmek istenen miktar verildiğinde\n",
    "# 1 - yeterli bakiye varsa başarı mesajı ve kalan bakiye miktarı ekrana basılacak\n",
    "# 2 - yeterli bakiye yoksa ama ek hesapla birlikte yeterli olacaksa, bununla ilgili bilgilendirme mesajı \n",
    "#. ve kalan ek hesap bakiyesi ekrana basılacak\n",
    "# 3 - bakiye ve ek hesap bakiyesi yeterli değilse, ekrana hata mesajı basılacak.\n",
    "\n",
    "\n",
    "# Kullanıcıdan hesap numarasını alıp, doğru hesabı seçip önce bakiye sorgulayacağız, sonra da kullanıcıdan aldığımız\n",
    "# miktarda para çekmeye çalışacağız.\n",
    "\n",
    "def bakiyeSorgulama(hesap):\n",
    "    print(\"Sayın {}, hesap bakiyeniz {} TL, ek hesap bakiyeniz {} TL\".format(hesap['ad'], hesap['bakiye'], hesap['ekHesap']))\n",
    "\n",
    "def paraCek(hesap, miktar):\n",
    "    print(\"Merhaba \", hesap['ad'])\n",
    "    if hesap['bakiye'] >= miktar:\n",
    "        hesap['bakiye'] -= miktar\n",
    "        print(\"{} TL çektikten sonra hesap bakiyeniz {} TL, ek hesap bakiyeniz {} TL\".format(miktar, hesap['bakiye'], hesap['ekHesap'] ))\n",
    "    elif hesap['bakiye'] + hesap['ekHesap'] >= miktar:\n",
    "        ekHesaptanAlmamGereken = miktar - hesap['bakiye']\n",
    "        hesap['bakiye'] = 0\n",
    "        hesap['ekHesap'] -= ekHesaptanAlmamGereken\n",
    "        print(\"{} TL çektikten sonra hesap bakiyeniz {} TL, ek hesap bakiyeniz {} TL\".format(miktar, hesap['bakiye'], hesap['ekHesap'] ))\n",
    "    else:\n",
    "        print(\"Bakiyeniz yetersiz.\")\n",
    "               \n",
    "hesapNo = input(\"Hesap no giriniz: \")\n",
    "\n",
    "if hesapNo == mustafaHesap['hesapNo']:\n",
    "    bakiyeSorgulama(mustafaHesap)\n",
    "    cekmekIstedigiMiktar = int(input(\"Çekmek istediğiniz tutarı girin: \"))\n",
    "    paraCek(mustafaHesap ,cekmekIstedigiMiktar)\n",
    "elif hesapNo == metinHesap['hesapNo']:\n",
    "    bakiyeSorgulama(metinHesap)\n",
    "    cekmekIstedigiMiktar = int(input(\"Çekmek istediğiniz tutarı girin: \"))\n",
    "    paraCek(metinHesap ,cekmekIstedigiMiktar)"
   ]
  }
 ],
 "metadata": {
  "kernelspec": {
   "display_name": "Python 3",
   "language": "python",
   "name": "python3"
  },
  "language_info": {
   "codemirror_mode": {
    "name": "ipython",
    "version": 3
   },
   "file_extension": ".py",
   "mimetype": "text/x-python",
   "name": "python",
   "nbconvert_exporter": "python",
   "pygments_lexer": "ipython3",
   "version": "3.9.0"
  }
 },
 "nbformat": 4,
 "nbformat_minor": 4
}

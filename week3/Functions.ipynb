{
 "cells": [
  {
   "cell_type": "markdown",
   "metadata": {},
   "source": [
    "# Functions\n",
    "\n",
    "**def** FONKSIYON_ISMI(*PARAMS*):\n",
    "   * Statement1\n",
    "   * Statement2   \n",
    "   * Statement3\n",
    "   "
   ]
  },
  {
   "cell_type": "code",
   "execution_count": 22,
   "metadata": {},
   "outputs": [],
   "source": [
    "def CelciusToFahrenheit(celc):\n",
    "    fahr = celc * 9/5 + 32\n",
    "    return fahr"
   ]
  },
  {
   "cell_type": "code",
   "execution_count": 14,
   "metadata": {},
   "outputs": [
    {
     "name": "stdout",
     "output_type": "stream",
     "text": [
      "212.0\n"
     ]
    }
   ],
   "source": [
    "birinci_hesap = CelciusToFahrenheit(100)\n",
    "CelciusToFahrenheit(-40)\n",
    "CelciusToFahrenheit(35)\n",
    "CelciusToFahrenheit(120)\n",
    "CelciusToFahrenheit(10)\n",
    "CelciusToFahrenheit(-4)\n",
    "\n",
    "print(birinci_hesap)"
   ]
  },
  {
   "cell_type": "code",
   "execution_count": 24,
   "metadata": {
    "scrolled": true
   },
   "outputs": [
    {
     "name": "stdout",
     "output_type": "stream",
     "text": [
      "[32.0, 33.8, 35.6, 37.4, 39.2, 41.0, 42.8, 44.6, 46.4, 48.2]\n"
     ]
    }
   ],
   "source": [
    "liste = []\n",
    "for i in range(10):\n",
    "    #f = CelciusToFahrenheit(i)\n",
    "    #liste.append(f)\n",
    "    liste.append(CelciusToFahrenheit(i))\n",
    "print(liste)"
   ]
  },
  {
   "cell_type": "code",
   "execution_count": 25,
   "metadata": {
    "scrolled": true
   },
   "outputs": [
    {
     "name": "stdout",
     "output_type": "stream",
     "text": [
      "Kullanıcı adınızı girin: mkemaltas\n",
      "Şifre: qweqwe\n",
      "\n",
      "    Merhabalar,\n",
      "    Bilge Adam Python Kursuna hoşgeldiniz.\n",
      "    Dahiliyi biliyorsanız tuşlayın, bilmiyorsanız operatöre bağlanmayı bekleyin.\n",
      "    For English press 9\n",
      "    \n",
      "Bir şeyler daha oldu burda\n",
      "\n",
      "    Merhabalar,\n",
      "    Bilge Adam Python Kursuna hoşgeldiniz.\n",
      "    Dahiliyi biliyorsanız tuşlayın, bilmiyorsanız operatöre bağlanmayı bekleyin.\n",
      "    For English press 9\n",
      "    \n"
     ]
    }
   ],
   "source": [
    "# Parametresiz Fonksiyon\n",
    "\n",
    "def bilgilendirmeMetni():\n",
    "    print('''\n",
    "    Merhabalar,\n",
    "    Bilge Adam Python Kursuna hoşgeldiniz.\n",
    "    Dahiliyi biliyorsanız tuşlayın, bilmiyorsanız operatöre bağlanmayı bekleyin.\n",
    "    For English press 9\n",
    "    ''')\n",
    "    \n",
    "kadi = input(\"Kullanıcı adınızı girin: \")\n",
    "şifre = input(\"Şifre: \")\n",
    "\n",
    "bilgilendirmeMetni()\n",
    "\n",
    "print(\"Bir şeyler daha oldu burda\")\n",
    "\n",
    "bilgilendirmeMetni()\n"
   ]
  },
  {
   "cell_type": "code",
   "execution_count": 26,
   "metadata": {},
   "outputs": [],
   "source": [
    "#parametresiz bi fonksiyon\n",
    "from datetime import datetime\n",
    "def saatKac():\n",
    "    print(datetime.today())"
   ]
  },
  {
   "cell_type": "code",
   "execution_count": 34,
   "metadata": {},
   "outputs": [
    {
     "name": "stdout",
     "output_type": "stream",
     "text": [
      "2021-03-13 18:29:50.601585\n"
     ]
    }
   ],
   "source": [
    "saatKac()"
   ]
  },
  {
   "cell_type": "code",
   "execution_count": 38,
   "metadata": {},
   "outputs": [
    {
     "name": "stdout",
     "output_type": "stream",
     "text": [
      "Yaşınızı girin: 16\n",
      "Eğitim durumunuzu girin: Üniversite\n",
      "Ehliyet alamazsın.\n"
     ]
    }
   ],
   "source": [
    "# Kullanıcıdan yaş ve eğitim durumunu alın\n",
    "# Ehliyet alıp alamayacağını ekrana basın\n",
    "\n",
    "#Params: yas, egitim\n",
    "#Output(return): True/False (ehliyet alabilme durumu)\n",
    "\n",
    "def ehliyetAlabilirMi(yas, egitim):\n",
    "    if yas >= 18:\n",
    "        if egitim == \"Üniversite\" or egitim == \"Lise\":\n",
    "            return True\n",
    "        else:\n",
    "            return False\n",
    "    else:\n",
    "        return False\n",
    "\n",
    "\n",
    "yas = int(input(\"Yaşınızı girin: \"))\n",
    "egitim = input(\"Eğitim durumunuzu girin: \")\n",
    "\n",
    "\n",
    "if ehliyetAlabilirMi(yas, egitim):\n",
    "    print(\"Ehliyet alabilirsin.\")\n",
    "else:\n",
    "    print(\"Ehliyet alamazsın.\")"
   ]
  },
  {
   "cell_type": "code",
   "execution_count": 44,
   "metadata": {},
   "outputs": [
    {
     "name": "stdout",
     "output_type": "stream",
     "text": [
      "40\n",
      "42\n",
      "3 5\n"
     ]
    }
   ],
   "source": [
    "# Parametreler\n",
    "def func(a, b):\n",
    "    a += 2\n",
    "    b += 3\n",
    "    return a * b\n",
    "\n",
    "\n",
    "x = func(3,5)\n",
    "print(x)\n",
    "\n",
    "a = 3\n",
    "b = 5\n",
    "\n",
    "x = func(b,a)\n",
    "#x = func(5,3)\n",
    "\n",
    "print(x)\n",
    "print(a,b)\n"
   ]
  },
  {
   "cell_type": "code",
   "execution_count": null,
   "metadata": {},
   "outputs": [],
   "source": [
    "## Parametre olarak bir doğum yılı alıp, kullanıcının yaşını hesaplayan ve return eden bir fonksiyon yazın\n",
    "# Kullanıcıdan bir doğum yılı alıp, bu fonksiyon yardımıyla ekrana kaç yaşında olduğunu print edin.\n",
    "\n",
    "def yasHesapla(yil):\n",
    "    yas = 2021 - yil\n",
    "    return yas\n",
    "    \n",
    "    \n",
    "yil = int(input(\"Doğum yılınızı girin: \"))\n",
    "yas = yasHesapla(yil)\n",
    "print(yas)"
   ]
  }
 ],
 "metadata": {
  "kernelspec": {
   "display_name": "Python 3",
   "language": "python",
   "name": "python3"
  },
  "language_info": {
   "codemirror_mode": {
    "name": "ipython",
    "version": 3
   },
   "file_extension": ".py",
   "mimetype": "text/x-python",
   "name": "python",
   "nbconvert_exporter": "python",
   "pygments_lexer": "ipython3",
   "version": "3.9.0"
  }
 },
 "nbformat": 4,
 "nbformat_minor": 4
}

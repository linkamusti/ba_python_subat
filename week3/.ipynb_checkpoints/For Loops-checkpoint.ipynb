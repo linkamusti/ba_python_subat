{
 "cells": [
  {
   "cell_type": "markdown",
   "metadata": {},
   "source": [
    "# For \n",
    "\n",
    "**for** *item* **in** LISTE:\n",
    "   * statement1\n",
    "   * statement2"
   ]
  },
  {
   "cell_type": "code",
   "execution_count": 7,
   "metadata": {
    "scrolled": true
   },
   "outputs": [
    {
     "name": "stdout",
     "output_type": "stream",
     "text": [
      "ARDA\n",
      "BERKCAN\n",
      "BURAK\n",
      "DILARA\n",
      "HASAN\n",
      "**********\n",
      "14\n",
      "24\n",
      "34\n",
      "44\n",
      "54\n"
     ]
    }
   ],
   "source": [
    "isimListesi = [\"Arda\", \"Berkcan\", \"Burak\", \"Dilara\", \"Hasan\"]\n",
    "sayiListesi = [1,2,3,4,5]\n",
    "\n",
    "for isim in isimListesi:\n",
    "    print(isim.upper())\n",
    "    \n",
    "print(\"*\"*10)\n",
    "for sayi in sayiListesi:\n",
    "    print(sayi * 10 + 4)"
   ]
  },
  {
   "cell_type": "markdown",
   "metadata": {},
   "source": [
    "## range\n",
    "\n",
    "**range(start, stop, step)**\n",
    "\n",
    "* Başlangıç, bitiş ve adım parametrelerini alıp bize bir liste oluşturuyor\n",
    "\n",
    "> range(5) # sadece bitiş noktası verilen örnek\n",
    "\n",
    "> \\[0,1,2,3,4\\]\n",
    "\n",
    "> range(2,7) # başlangıç, bitiş noktaları verilen örnek\n",
    "\n",
    "> \\[2,3,4,5,6\\]\n",
    "\n",
    "> range(3,9,2) # başlangıç, bitiş ve adım parametreleri verilen örnek\n",
    "\n",
    "> \\[3,5,7\\]"
   ]
  },
  {
   "cell_type": "code",
   "execution_count": 13,
   "metadata": {},
   "outputs": [
    {
     "name": "stdout",
     "output_type": "stream",
     "text": [
      "Hello World\n",
      "Hello World\n",
      "Hello World\n",
      "Hello World\n",
      "Hello World\n",
      "Hello World\n",
      "Hello World\n",
      "Hello World\n",
      "Hello World\n",
      "Hello World\n"
     ]
    }
   ],
   "source": [
    "## Bir işlemi X kere tekrarlamak istiyorsak \n",
    "\n",
    "# 10 kere Hello World yazan kod\n",
    "X = 10\n",
    "\n",
    "for _ in range(X):\n",
    "    print(\"Hello World\")"
   ]
  },
  {
   "cell_type": "code",
   "execution_count": 24,
   "metadata": {},
   "outputs": [
    {
     "name": "stdout",
     "output_type": "stream",
     "text": [
      "3 6 9 12 18 21 24 27 33 36 39 42 48 51 54 57 63 66 69 72 78 81 84 87 93 96 99 "
     ]
    }
   ],
   "source": [
    "## 0 ile 100 arasında 3e bölünüp 5e bölünemeyen tüm sayıları ekrana basın\n",
    "\n",
    "for sayi in range(100):\n",
    "    if sayi % 3 == 0 and sayi % 5 != 0:\n",
    "        print(sayi, end = \" \")"
   ]
  },
  {
   "cell_type": "code",
   "execution_count": 27,
   "metadata": {},
   "outputs": [
    {
     "name": "stdout",
     "output_type": "stream",
     "text": [
      "Bir sayı girin: 10\n",
      "Bir sayı girin: 15\n",
      "100 144 196 "
     ]
    }
   ],
   "source": [
    "# Kullanıcıdan iki sayı alalım : a ve b\n",
    "# Bu iki sayı arasındaki tüm çift sayıların karelerini ekrana basın\n",
    "\n",
    "a = int(input(\"Bir sayı girin: \"))\n",
    "b = int(input(\"Bir sayı girin: \"))\n",
    "\n",
    "\n",
    "for sayi in range(a,b):\n",
    "    if sayi % 2 == 0:\n",
    "        print(sayi ** 2, end= \" \")"
   ]
  },
  {
   "cell_type": "markdown",
   "metadata": {},
   "source": [
    "# Dictionary - For loop\n",
    "\n",
    "**for** key, value **in dict.items()**:\n",
    "   * Statement1\n",
    "   * Statement2"
   ]
  },
  {
   "cell_type": "code",
   "execution_count": 39,
   "metadata": {},
   "outputs": [
    {
     "name": "stdout",
     "output_type": "stream",
     "text": [
      "**************NO**************\n",
      "~~~~~~~~~~~~16755~~~~~~~~~~~~~\n",
      "------------------------------\n",
      "\n",
      "*************ISIM*************\n",
      "~~~~~~~~~~~MUSTAFA~~~~~~~~~~~~\n",
      "------------------------------\n",
      "\n",
      "***********SOYISIM************\n",
      "~~~~~~~~~~~~~TAŞ~~~~~~~~~~~~~~\n",
      "------------------------------\n",
      "\n",
      "************SINIF*************\n",
      "~~~~~~~~~~~~~~4~~~~~~~~~~~~~~~\n",
      "------------------------------\n",
      "\n",
      "************EMAIL*************\n",
      "~~MKEMALTAS@SABANCIUNIV.EDU~~~\n",
      "------------------------------\n",
      "\n"
     ]
    }
   ],
   "source": [
    "ogrenci = {\n",
    "    \"no\": \"16755\",\n",
    "    \"isim\": \"Mustafa\",\n",
    "    \"soyisim\": \"Taş\",\n",
    "    \"sınıf\": \"4\",\n",
    "    \"email\": \"mkemaltas@sabanciuniv.edu\"\n",
    "}\n",
    "\n",
    "for anahtar, deger in ogrenci.items():\n",
    "    print(anahtar.upper().center(30, \"*\"))\n",
    "    print(deger.upper().center(30, \"~\"))\n",
    "    print(\"-\"*30)\n",
    "    print()"
   ]
  },
  {
   "cell_type": "markdown",
   "metadata": {},
   "source": [
    "# Break & Continue\n",
    "\n",
    "**break**: End the loop\n",
    "\n",
    "**continue**: End the current iteration "
   ]
  },
  {
   "cell_type": "code",
   "execution_count": 45,
   "metadata": {},
   "outputs": [
    {
     "name": "stdout",
     "output_type": "stream",
     "text": [
      "Emre burda.\n",
      "Tayland burda.\n",
      "Serap burda.\n",
      "\n",
      "Yoklama alma işlemi bitti\n"
     ]
    }
   ],
   "source": [
    "isimListesi = [\"Emre\", \"Tayland\", \"Serap\", \"Mustafa\", \"Onur\", \"Mert\"]\n",
    "\n",
    "for isim in isimListesi:\n",
    "    if isim == \"Mustafa\":\n",
    "        break\n",
    "    print(isim, \"burda.\")\n",
    "    \n",
    "\n",
    "print(\"\\nYoklama alma işlemi bitti\")"
   ]
  },
  {
   "cell_type": "code",
   "execution_count": 48,
   "metadata": {
    "scrolled": true
   },
   "outputs": [
    {
     "name": "stdout",
     "output_type": "stream",
     "text": [
      "Emre burda.\n",
      "Hoşgeldin Emre\n",
      "--------------------\n",
      "Tayland burda.\n",
      "Hoşgeldin Tayland\n",
      "--------------------\n",
      "Serap burda.\n",
      "Hoşgeldin Serap\n",
      "--------------------\n",
      "Onur burda.\n",
      "Hoşgeldin Onur\n",
      "--------------------\n",
      "Mert burda.\n",
      "Hoşgeldin Mert\n",
      "--------------------\n",
      "\n",
      "Yoklama alma işlemi bitti\n"
     ]
    }
   ],
   "source": [
    "isimListesi = [\"Emre\", \"Tayland\", \"Serap\", \"Mustafa\", \"Onur\", \"Mert\"]\n",
    "\n",
    "for isim in isimListesi:\n",
    "    if isim == \"Mustafa\":\n",
    "        continue\n",
    "\n",
    "    print(isim, \"burda.\")\n",
    "    print(\"Hoşgeldin\", isim)\n",
    "    print(\"-\"*20)\n",
    "\n",
    "print(\"\\nYoklama alma işlemi bitti\")"
   ]
  },
  {
   "cell_type": "code",
   "execution_count": 49,
   "metadata": {
    "scrolled": true
   },
   "outputs": [
    {
     "name": "stdout",
     "output_type": "stream",
     "text": [
      "Bir sayı girin: 1\n",
      "Bir sayı girin: 2\n",
      "Bir sayı girin: 3\n",
      "Bir sayı girin: 4\n",
      "Bir sayı girin: 5\n",
      "Ortalama:  3.0\n"
     ]
    }
   ],
   "source": [
    "# Kullanıcıdan 5 sayı alıp ortalamasını ekrana basma kodu\n",
    "# Break-edition\n",
    "\n",
    "toplam = 0\n",
    "sayac = 0\n",
    "\n",
    "while True:\n",
    "    if sayac == 5:\n",
    "        break\n",
    "    \n",
    "    toplam += int(input(\"Bir sayı girin: \"))\n",
    "    sayac += 1\n",
    "    \n",
    "print(\"Ortalama: \", toplam / 5)\n"
   ]
  },
  {
   "cell_type": "code",
   "execution_count": 56,
   "metadata": {},
   "outputs": [
    {
     "name": "stdout",
     "output_type": "stream",
     "text": [
      "['H', 'e', 'l', 'l', 'o', ' ', 'W', 'o', 'r', 'l', 'd']\n",
      "\n",
      "**H** 72\n",
      "**e** 101\n",
      "**l** 108\n",
      "**l** 108\n",
      "**o** 111\n",
      "** ** 32\n",
      "**W** 87\n",
      "**o** 111\n",
      "**r** 114\n",
      "**l** 108\n",
      "**d** 100\n"
     ]
    }
   ],
   "source": [
    "## Strings <==> List\n",
    "\n",
    "mystring = \"Hello World\"\n",
    "\n",
    "print(list(mystring))\n",
    "print()\n",
    "for karakter in mystring:\n",
    "    print(karakter.center(5,\"*\"), ord(karakter))\n",
    "    "
   ]
  },
  {
   "cell_type": "code",
   "execution_count": 54,
   "metadata": {},
   "outputs": [
    {
     "name": "stdout",
     "output_type": "stream",
     "text": [
      "41\n"
     ]
    }
   ],
   "source": [
    "# Karakterlerin sayı değerlerinin bulunduğu tablo => ASCII Table\n",
    "# ord(CHARACTER) => CHARACTER'in ascii değerini veriyor\n",
    "\n",
    "print(ord(')'))"
   ]
  },
  {
   "cell_type": "markdown",
   "metadata": {},
   "source": [
    "# Enumerate\n",
    "\n",
    "* Listenin her bir elemanına bir index atayan (assign) fonksiyon\n",
    "\n",
    "**enumerate**(LISTE)\n",
    "\n",
    "liste = \\[\"a\", \"b\", \"c\"\\]\n",
    "\n",
    "**enumerate**(liste)\n",
    "\n",
    "\n",
    "\\[(0, \"a\"), (1, \"b\"), (2, \"c\")\\]\n"
   ]
  },
  {
   "cell_type": "code",
   "execution_count": 65,
   "metadata": {},
   "outputs": [
    {
     "name": "stdout",
     "output_type": "stream",
     "text": [
      "[(0, 'a'), (1, 'b'), (2, 'c'), (3, 'd')]\n",
      "--------------------\n",
      "a\n",
      "b\n",
      "c\n",
      "d\n",
      "--------------------\n",
      "1 - a\n",
      "2 - b\n",
      "3 - c\n",
      "4 - d\n"
     ]
    }
   ],
   "source": [
    "myList = [\"a\", \"b\", \"c\", \"d\"]\n",
    "\n",
    "print(list(enumerate(myList)))\n",
    "print('-'*20)\n",
    "\n",
    "for harf in myList:\n",
    "    print(harf)\n",
    "    \n",
    "print('-'*20)\n",
    "for index, harf in enumerate(myList):\n",
    "    print(index + 1, \"-\", harf)"
   ]
  },
  {
   "cell_type": "code",
   "execution_count": 70,
   "metadata": {},
   "outputs": [
    {
     "name": "stdout",
     "output_type": "stream",
     "text": [
      "0 a\n",
      "1 b\n",
      "2 c\n",
      "3 d\n",
      "4 e\n",
      "5 f\n"
     ]
    }
   ],
   "source": [
    "myList = [\"a\", \"b\", \"c\", \"d\", \"e\", \"f\"]\n",
    "\n",
    "\n",
    "# Bir listenin her bir indexi üzerinde gezen loop\n",
    "for index in range(len(myList)):\n",
    "    print(index, myList[index])\n",
    "    "
   ]
  },
  {
   "cell_type": "markdown",
   "metadata": {},
   "source": [
    "# Zip\n",
    "\n",
    "* Birden fazla listeyi parametre olup, listeleri gruplayan bir fonksiyon\n",
    "\n",
    "liste1 = \\[\"a\", \"b\", \"c\"\\]\n",
    "\n",
    "liste2 = \\[1,2,3\\]\n",
    "\n",
    "liste3 = \\[100,200,300\\]\n",
    "\n",
    "**zip**(liste1, liste2, liste3)\n",
    "\n",
    "\\[(\"a\", 1, 100), (\"b\", 2, 200), (\"c\", 3, 300)\\]"
   ]
  },
  {
   "cell_type": "code",
   "execution_count": 82,
   "metadata": {},
   "outputs": [
    {
     "name": "stdout",
     "output_type": "stream",
     "text": [
      "('a', 1, 100)\n",
      "('b', 2, 200)\n",
      "('c', 3, 300)\n",
      "--------------------\n",
      "a 1 100\n",
      "b 2 200\n",
      "c 3 300\n"
     ]
    }
   ],
   "source": [
    "liste1 = [\"a\", \"b\", \"c\", \"d\"]\n",
    "\n",
    "liste2 = [1,2,3]\n",
    "\n",
    "liste3 = [100,200,300, 400]\n",
    "\n",
    "ziplenmis_list = list(zip(liste1, liste2, liste3))\n",
    "\n",
    "for item in ziplenmis_list:\n",
    "    print(item)\n",
    "\n",
    "print(\"-\"*20)\n",
    "for a,b,c in ziplenmis_list:\n",
    "    print(a,b,c)"
   ]
  },
  {
   "cell_type": "code",
   "execution_count": 102,
   "metadata": {},
   "outputs": [
    {
     "name": "stdout",
     "output_type": "stream",
     "text": [
      "Bir sayı girin: -1\n",
      "0'dan büyük bir sayı giriniz: -1\n",
      "0'dan büyük bir sayı giriniz: -1\n",
      "0'dan büyük bir sayı giriniz: -1\n",
      "0'dan büyük bir sayı giriniz: -10\n",
      "0'dan büyük bir sayı giriniz: -125\n",
      "0'dan büyük bir sayı giriniz: 49\n",
      "Sayı asal değildir.\n"
     ]
    }
   ],
   "source": [
    "# ÖRNEK\n",
    "\n",
    "# Kullanıcıdan bir sayı alın, sayının asal olup olmadığını ekrana basın.\n",
    "# Kullanıcı 0 veya 0'dan küçük bir sayı girerse, tekrar sayı girmesini isteyin.\n",
    "\n",
    "sayi = int(input(\"Bir sayı girin: \"))\n",
    "isAsal = True\n",
    "\n",
    "while sayi <= 0:\n",
    "    sayi = int(input(\"0'dan büyük bir sayı giriniz: \"))\n",
    "\n",
    "if sayi == 1:\n",
    "    print(\"Sayı asal değildir.\")\n",
    "else:\n",
    "    for i in range(2,sayi):\n",
    "        if sayi % i == 0:\n",
    "            isAsal = False\n",
    "\n",
    "    if isAsal == True:\n",
    "        print(\"Sayı asaldır\")\n",
    "    else:\n",
    "        print(\"Sayı asal değildir.\")"
   ]
  },
  {
   "cell_type": "code",
   "execution_count": 101,
   "metadata": {},
   "outputs": [
    {
     "name": "stdout",
     "output_type": "stream",
     "text": [
      "21i bulduk\n"
     ]
    }
   ],
   "source": [
    "for i in range(30):\n",
    "    if i == 21:\n",
    "        print(\"21i bulduk\")\n",
    "        break\n",
    "else:\n",
    "    print(\"21 bulunamadı\")"
   ]
  },
  {
   "cell_type": "markdown",
   "metadata": {},
   "source": [
    "# List Compherension\n",
    "\n",
    "* Bir listeyi, for loop kullanarak oluşturmak için kullanılır.\n",
    "\n",
    "Örn: 0dan 100e kadar tüm sayılar listesi\n",
    "> liste = \\[x **for** x in **range**(100) \\]\n",
    "\n",
    "Örn: 0dan 100e kadar tüm sayıların karesinin listesi\n",
    "> liste = \\[x\\*x **for** x in **range**(100) \\]\n",
    "\n",
    "Örn: 0dan 100e kadar tüm çift sayılar listesi\n",
    "> liste = \\[x **for** x in **range**(100) **if** x \\% 2 == 0 \\]\n",
    "\n",
    "Örn: 0dan 100e kadar tüm çift sayıların karesinin listesi\n",
    "> liste = \\[x\\*x **for** x in **range**(100) **if** x \\% 2 == 0 \\]\n",
    "\n"
   ]
  },
  {
   "cell_type": "code",
   "execution_count": 111,
   "metadata": {},
   "outputs": [
    {
     "name": "stdout",
     "output_type": "stream",
     "text": [
      "[0, 1, 2, 3, 4, 5, 6, 7, 8, 9]\n",
      "--------------------------------------------------\n",
      "[0, 1, 4, 9, 16, 25, 36, 49, 64, 81]\n",
      "--------------------------------------------------\n",
      "[0, 2, 4, 6, 8]\n",
      "--------------------------------------------------\n",
      "[0, 4, 16, 36, 64]\n",
      "[0, 4, 16, 36, 64]\n"
     ]
    }
   ],
   "source": [
    "liste = [x for x in range(10)]\n",
    "print(liste)\n",
    "print(\"-\"*50)\n",
    "\n",
    "liste = [x*x for x in range(10)]\n",
    "print(liste)\n",
    "print(\"-\"*50)\n",
    "\n",
    "liste = [x for x in range(10) if x % 2 == 0]\n",
    "print(liste)\n",
    "print(\"-\"*50)\n",
    "\n",
    "\n",
    "liste = [x**2 for x in range(10) if x % 2 == 0]\n",
    "print(liste)\n",
    "\n",
    "# Son örneğin alternatifi\n",
    "\n",
    "liste = []\n",
    "\n",
    "for x in range(10):\n",
    "    if x % 2 == 0:\n",
    "        liste.append(x**2)"
   ]
  },
  {
   "cell_type": "code",
   "execution_count": 115,
   "metadata": {},
   "outputs": [
    {
     "name": "stdout",
     "output_type": "stream",
     "text": [
      "[(0, 0), (0, 1), (0, 2), (0, 3), (0, 4), (0, 5), (0, 6), (0, 7), (0, 8), (0, 9), (0, 10), (0, 11), (0, 12), (0, 13), (0, 14), (0, 15), (0, 16), (0, 17), (0, 18), (0, 19), (1, 0), (1, 1), (1, 2), (1, 3), (1, 4), (1, 5), (1, 6), (1, 7), (1, 8), (1, 9), (1, 10), (1, 11), (1, 12), (1, 13), (1, 14), (1, 15), (1, 16), (1, 17), (1, 18), (1, 19), (2, 0), (2, 1), (2, 2), (2, 3), (2, 4), (2, 5), (2, 6), (2, 7), (2, 8), (2, 9), (2, 10), (2, 11), (2, 12), (2, 13), (2, 14), (2, 15), (2, 16), (2, 17), (2, 18), (2, 19), (3, 0), (3, 1), (3, 2), (3, 3), (3, 4), (3, 5), (3, 6), (3, 7), (3, 8), (3, 9), (3, 10), (3, 11), (3, 12), (3, 13), (3, 14), (3, 15), (3, 16), (3, 17), (3, 18), (3, 19), (4, 0), (4, 1), (4, 2), (4, 3), (4, 4), (4, 5), (4, 6), (4, 7), (4, 8), (4, 9), (4, 10), (4, 11), (4, 12), (4, 13), (4, 14), (4, 15), (4, 16), (4, 17), (4, 18), (4, 19), (5, 0), (5, 1), (5, 2), (5, 3), (5, 4), (5, 5), (5, 6), (5, 7), (5, 8), (5, 9), (5, 10), (5, 11), (5, 12), (5, 13), (5, 14), (5, 15), (5, 16), (5, 17), (5, 18), (5, 19), (6, 0), (6, 1), (6, 2), (6, 3), (6, 4), (6, 5), (6, 6), (6, 7), (6, 8), (6, 9), (6, 10), (6, 11), (6, 12), (6, 13), (6, 14), (6, 15), (6, 16), (6, 17), (6, 18), (6, 19), (7, 0), (7, 1), (7, 2), (7, 3), (7, 4), (7, 5), (7, 6), (7, 7), (7, 8), (7, 9), (7, 10), (7, 11), (7, 12), (7, 13), (7, 14), (7, 15), (7, 16), (7, 17), (7, 18), (7, 19), (8, 0), (8, 1), (8, 2), (8, 3), (8, 4), (8, 5), (8, 6), (8, 7), (8, 8), (8, 9), (8, 10), (8, 11), (8, 12), (8, 13), (8, 14), (8, 15), (8, 16), (8, 17), (8, 18), (8, 19), (9, 0), (9, 1), (9, 2), (9, 3), (9, 4), (9, 5), (9, 6), (9, 7), (9, 8), (9, 9), (9, 10), (9, 11), (9, 12), (9, 13), (9, 14), (9, 15), (9, 16), (9, 17), (9, 18), (9, 19)]\n"
     ]
    }
   ],
   "source": [
    "# Birden fazla değişkenle list comprehension\n",
    "liste = [y*10 + x for x in range(10) for y in range(20) ]\n",
    "\n",
    "liste = [ x * y for x in range(1,10) for y in range(1,20) if (x+y) % 3 == 0]\n",
    "\n",
    "liste = [(x,y) for x in range(10) for y in range(20)]\n",
    "print(liste)"
   ]
  },
  {
   "cell_type": "code",
   "execution_count": 117,
   "metadata": {},
   "outputs": [
    {
     "name": "stdout",
     "output_type": "stream",
     "text": [
      "[0, 'TEK', 2, 'TEK', 4, 'TEK', 6, 'TEK', 8, 'TEK']\n"
     ]
    }
   ],
   "source": [
    "# If - else ile değer atayarak list comprehension\n",
    "\n",
    "liste = [x if x % 2 == 0 else \"TEK\" for x in range(10)]\n",
    "print(liste)"
   ]
  },
  {
   "cell_type": "code",
   "execution_count": 119,
   "metadata": {},
   "outputs": [
    {
     "name": "stdout",
     "output_type": "stream",
     "text": [
      "['A', 'M', 'O']\n"
     ]
    }
   ],
   "source": [
    "isimler = [\"Arda\", \"Mustafa\", \"Onur\"]\n",
    "\n",
    "liste = [x[0] for x in isimler]\n",
    "print(liste)"
   ]
  }
 ],
 "metadata": {
  "kernelspec": {
   "display_name": "Python 3",
   "language": "python",
   "name": "python3"
  },
  "language_info": {
   "codemirror_mode": {
    "name": "ipython",
    "version": 3
   },
   "file_extension": ".py",
   "mimetype": "text/x-python",
   "name": "python",
   "nbconvert_exporter": "python",
   "pygments_lexer": "ipython3",
   "version": "3.9.0"
  }
 },
 "nbformat": 4,
 "nbformat_minor": 4
}

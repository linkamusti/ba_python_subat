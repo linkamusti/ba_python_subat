{
 "cells": [
  {
   "cell_type": "markdown",
   "metadata": {},
   "source": [
    "# IF - ELIF - ELSE\n",
    "\n",
    "* **if** CONDITION:\n",
    "    * Statement1\n",
    "    * Statmenet2\n",
    "* **elif** CONDITION2:\n",
    "    * Statement3\n",
    "    * Statement4\n",
    "* **else**:\n",
    "    * Statement5\n",
    "    * Statement6"
   ]
  },
  {
   "cell_type": "code",
   "execution_count": 2,
   "metadata": {},
   "outputs": [
    {
     "name": "stdout",
     "output_type": "stream",
     "text": [
      "20\n",
      "30\n"
     ]
    }
   ],
   "source": [
    "x = 10\n",
    "\n",
    "if x < 15:\n",
    "    x += 10\n",
    "elif x < 20:\n",
    "    x += 10\n",
    "elif x < 30:\n",
    "    x += 10\n",
    "else:\n",
    "    x += 20\n",
    "    \n",
    "print(x)\n",
    "\n",
    "x = 10\n",
    "if x < 15:\n",
    "    x += 10\n",
    "if x < 20:\n",
    "    x += 10\n",
    "if x < 30:\n",
    "    x += 10\n",
    "else:\n",
    "    x += 20\n",
    "    \n",
    "print(x)"
   ]
  },
  {
   "cell_type": "code",
   "execution_count": 4,
   "metadata": {},
   "outputs": [
    {
     "name": "stdout",
     "output_type": "stream",
     "text": [
      "Ehliyet alamazsın (Eğitim yetmedi)\n"
     ]
    }
   ],
   "source": [
    "# Nested if\n",
    "\n",
    "name = \"Mustafa\"\n",
    "egitim = \"İlkokul\"\n",
    "yas = 48\n",
    "\n",
    "if yas > 18:\n",
    "    if egitim == \"Üniversite\" or egitim == \"Lise\":\n",
    "        print(\"Ehliyet alabilirsin.\")\n",
    "    else:\n",
    "        print (\"Ehliyet alamazsın (Eğitim yetmedi)\")        \n",
    "else:\n",
    "    print(\"Ehliyet alamazsın (yaşın yetmedi)\")"
   ]
  },
  {
   "cell_type": "markdown",
   "metadata": {},
   "source": [
    "# WHILE\n",
    "\n",
    "* **while** CONDITION:\n",
    "    * Statement1\n",
    "    * Statement2\n",
    "    * Statement3\n",
    "    * ...\n",
    "    \n",
    "\n",
    "* Initilization (İlk değere karar verme)\n",
    "* Condition (Devam etme şartına karar verme)\n",
    "* Ana kod\n",
    "* Update (conditionda bulunan bir değişkeni değiştirme)"
   ]
  },
  {
   "cell_type": "code",
   "execution_count": null,
   "metadata": {},
   "outputs": [],
   "source": [
    "### Kullanıcıdan 5 sayı alıp ortalamalarını ekrana basma kodu\n",
    "\n",
    "toplam = 0\n",
    "sayac = 0\n",
    "\n",
    "while sayac < 5:\n",
    "    toplam += int(input(\"Bir sayı girin: \"))\n",
    "    sayac += 1\n",
    "    \n",
    "ortalama = toplam / 5\n",
    "print(\"Ortalama: \", ortalama)"
   ]
  },
  {
   "cell_type": "code",
   "execution_count": 10,
   "metadata": {},
   "outputs": [
    {
     "name": "stdout",
     "output_type": "stream",
     "text": [
      "Bir sayı girin: 1\n",
      "Bir sayı girin: 3\n",
      "Bir sayı girin: 5\n",
      "Bir sayı girin: 1\n",
      "Bir sayı girin: 3\n",
      "Bir sayı girin: 5\n",
      "Bir sayı girin: 1\n",
      "Bir sayı girin: 3\n",
      "Bir sayı girin: 5\n",
      "Bir sayı girin: 1\n",
      "Bir sayı girin: 3\n",
      "Bir sayı girin: 5\n",
      "Bir sayı girin: 1\n",
      "Bir sayı girin: 3\n",
      "Bir sayı girin: 5\n",
      "Bir sayı girin: 1\n",
      "Bir sayı girin: 3\n",
      "Bir sayı girin: 5\n",
      "Bir sayı girin: 10\n",
      "Bir sayı girin: 20\n",
      "Bir sayı girin: 30\n",
      "Bir sayı girin: 40\n",
      "Bir sayı girin: 50\n",
      "Ortalama:  30.0\n"
     ]
    }
   ],
   "source": [
    "# Nested while\n",
    "\n",
    "## Kulanıcıdan 5 tane ÇİFT sayı alıp ortalamalarını ekrana basma kodu\n",
    "# Kullanıcı tek sayı girerse, ortalamaya dahil etmeyin\n",
    "\n",
    "toplam = 0\n",
    "sayac = 0\n",
    "\n",
    "while sayac < 5:\n",
    "    sayi = int(input(\"Bir sayı girin: \"))\n",
    "    if sayi % 2 == 0:\n",
    "        toplam += sayi\n",
    "        sayac += 1\n",
    "\n",
    "ortalama = toplam / 5\n",
    "print(\"Ortalama: \", ortalama)\n"
   ]
  }
 ],
 "metadata": {
  "kernelspec": {
   "display_name": "Python 3",
   "language": "python",
   "name": "python3"
  },
  "language_info": {
   "codemirror_mode": {
    "name": "ipython",
    "version": 3
   },
   "file_extension": ".py",
   "mimetype": "text/x-python",
   "name": "python",
   "nbconvert_exporter": "python",
   "pygments_lexer": "ipython3",
   "version": "3.9.0"
  }
 },
 "nbformat": 4,
 "nbformat_minor": 4
}
